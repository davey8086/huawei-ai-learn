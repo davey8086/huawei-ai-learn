{
 "cells": [
  {
   "cell_type": "markdown",
   "metadata": {},
   "source": [
    "# CIFAR10 Image Classification using Keras 简洁版"
   ]
  },
  {
   "cell_type": "code",
   "execution_count": null,
   "metadata": {},
   "outputs": [],
   "source": [
    "from keras.datasets import cifar10\n",
    "from keras.preprocessing.image import ImageDataGenerator\n",
    "from keras.models import Sequential, load_model, Model\n",
    "from keras.layers import Input, Dense, Dropout, Activation, Flatten\n",
    "from keras.layers import Convolution2D, MaxPooling2D\n",
    "from keras.layers.noise import GaussianNoise\n",
    "from keras.layers.normalization import BatchNormalization\n",
    "from keras.callbacks import EarlyStopping, ModelCheckpoint, TensorBoard\n",
    "import numpy as np\n",
    "import matplotlib.pyplot as plt\n",
    "from time import time\n",
    "from keras.utils import to_categorical\n",
    "from utils import make_parallel, accuracy_curve\n",
    "%matplotlib inline\n",
    "\n",
    "nb_classes = 10\n",
    "class_name = {\n",
    "    0: 'airplane',\n",
    "    1: 'automobile',\n",
    "    2: 'bird',\n",
    "    3: 'cat',\n",
    "    4: 'deer',\n",
    "    5: 'dog',\n",
    "    6: 'frog',\n",
    "    7: 'horse',\n",
    "    8: 'ship',\n",
    "    9: 'truck',\n",
    "}"
   ]
  },
  {
   "cell_type": "markdown",
   "metadata": {},
   "source": [
    "## 数据预处理：Mean Subtraction Per Channel"
   ]
  },
  {
   "cell_type": "code",
   "execution_count": null,
   "metadata": {},
   "outputs": [],
   "source": [
    "def mean_subtraction(data):\n",
    "    [mean_r, mean_g, mean_b] = np.mean(data, axis=(0,1,2))\n",
    "    data[:, :, :, 0] -= mean_r\n",
    "    data[:, :, :, 1] -= mean_g\n",
    "    data[:, :, :, 2] -= mean_b\n",
    "    \n",
    "(X_train, y_train), (X_test, y_test) = cifar10.load_data()\n",
    "y_train = y_train.reshape(y_train.shape[0])\n",
    "y_test = y_test.reshape(y_test.shape[0])\n",
    "y_train = to_categorical(y_train, nb_classes)\n",
    "y_test = to_categorical(y_test, nb_classes)\n",
    "\n",
    "X_train = X_train.astype('float32')\n",
    "X_test = X_test.astype('float32')\n",
    "mean_subtraction(X_train)\n",
    "mean_subtraction(X_test)\n",
    "X_train /= 255\n",
    "X_test /= 255"
   ]
  },
  {
   "cell_type": "markdown",
   "metadata": {},
   "source": [
    "## 创建模型：基于VGG16简化"
   ]
  },
  {
   "cell_type": "code",
   "execution_count": null,
   "metadata": {},
   "outputs": [],
   "source": [
    "def create_model(n_gpu=1):\n",
    "    \n",
    "    x = Input(shape=(32, 32, 3))\n",
    "    y = x\n",
    "    y = Convolution2D(filters=64, kernel_size=3, strides=1, padding='same', activation='relu', kernel_initializer='he_normal')(y)\n",
    "    y = Convolution2D(filters=64, kernel_size=3, strides=1, padding='same', activation='relu', kernel_initializer='he_normal')(y)\n",
    "    y = MaxPooling2D(pool_size=2, strides=2, padding='same')(y)\n",
    "\n",
    "    y = Convolution2D(filters=128, kernel_size=3, strides=1, padding='same', activation='relu', kernel_initializer='he_normal')(y)\n",
    "    y = Convolution2D(filters=128, kernel_size=3, strides=1, padding='same', activation='relu', kernel_initializer='he_normal')(y)\n",
    "    y = MaxPooling2D(pool_size=2, strides=2, padding='same')(y)\n",
    "\n",
    "    y = Convolution2D(filters=256, kernel_size=3, strides=1, padding='same', activation='relu', kernel_initializer='he_normal')(y)\n",
    "    y = Convolution2D(filters=256, kernel_size=3, strides=1, padding='same', activation='relu', kernel_initializer='he_normal')(y)\n",
    "    y = MaxPooling2D(pool_size=2, strides=2, padding='same')(y)\n",
    "\n",
    "    y = Flatten()(y)\n",
    "    y = Dropout(0.5)(y)\n",
    "    y = Dense(units=nb_classes, activation='softmax', kernel_initializer='he_normal')(y)\n",
    "\n",
    "    model = Model(inputs=x, outputs=y)\n",
    "\n",
    "    model.summary()\n",
    "\n",
    "    if n_gpu > 1:\n",
    "        model = make_parallel(model, n_gpu)\n",
    "\n",
    "    model.compile(loss='categorical_crossentropy', optimizer='adadelta', metrics=['accuracy'])\n",
    "    \n",
    "    return model"
   ]
  },
  {
   "cell_type": "markdown",
   "metadata": {},
   "source": [
    "## 定义训练过程\n",
    "\n",
    "1. **可以选择是否使用数据增强**。\n",
    "2. **使用Early Stopping回调**：监测指标为 val_acc（注：实际上用 val_loss 更好，因为可以在过拟合前及时停止训练）\n",
    "3. **使用自动保存性能提升模型的回调**：只记录性能得到提升的训练代模型。每次训练都将训练代模型放在一个文件夹内，方便管理\n",
    "4. **使用Tensoboard回调**：可以自动在Tensorboard上对性能指标绘图，方便后期对比模型。"
   ]
  },
  {
   "cell_type": "code",
   "execution_count": null,
   "metadata": {},
   "outputs": [],
   "source": [
    "import os\n",
    "from datetime import datetime\n",
    "\n",
    "def train(model, batch, epoch, data_augmentation=True):\n",
    "    start = time()\n",
    "    log_dir = datetime.now().strftime('model_%Y%m%d_%H%M')\n",
    "    os.mkdir(log_dir)\n",
    "    \n",
    "    es = EarlyStopping(monitor='val_acc', patience=20)\n",
    "    mc = ModelCheckpoint(log_dir + '\\\\CIFAR10-EP{epoch:02d}-ACC{val_acc:.4f}.h5', \n",
    "                         monitor='val_acc', save_best_only=True)\n",
    "    tb = TensorBoard(log_dir=log_dir, histogram_freq=0)\n",
    "    \n",
    "    if data_augmentation:\n",
    "        aug = ImageDataGenerator(width_shift_range = 0.125, height_shift_range = 0.125, horizontal_flip = True)\n",
    "        aug.fit(X_train)\n",
    "        gen = aug.flow(X_train, y_train, batch_size=batch)\n",
    "        h = model.fit_generator(generator=gen, \n",
    "                                 steps_per_epoch=50000/batch, \n",
    "                                 epochs=epoch, \n",
    "                                 validation_data=(X_test, y_test),\n",
    "                                 callbacks=[es, mc, tb])\n",
    "    else:\n",
    "        start = time()\n",
    "        h = model.fit(x=X_train, \n",
    "                      y=y_train, \n",
    "                      batch_size=batch, \n",
    "                      epochs=epoch, \n",
    "                      validation_data=(X_test, y_test),\n",
    "                      callbacks=[es, mc, tb])\n",
    "    \n",
    "    print('\\n@ Total Time Spent: %.2f seconds' % (time() - start))\n",
    "    acc, val_acc = h.history['acc'], h.history['val_acc']\n",
    "    m_acc, m_val_acc = np.argmax(acc), np.argmax(val_acc)\n",
    "    print(\"@ Best Training Accuracy: %.2f %% achieved at EP #%d.\" % (acc[m_acc] * 100, m_acc + 1))\n",
    "    print(\"@ Best Testing Accuracy: %.2f %% achieved at EP #%d.\" % (val_acc[m_val_acc] * 100, m_val_acc + 1))\n",
    "    return h"
   ]
  },
  {
   "cell_type": "code",
   "execution_count": null,
   "metadata": {},
   "outputs": [],
   "source": [
    "model1 = create_model()"
   ]
  },
  {
   "cell_type": "markdown",
   "metadata": {},
   "source": [
    "## 训练模型：Batch Size = 64"
   ]
  },
  {
   "cell_type": "code",
   "execution_count": 6,
   "metadata": {
    "scrolled": false
   },
   "outputs": [
    {
     "name": "stdout",
     "output_type": "stream",
     "text": [
      "Epoch 1/200\n",
      "782/781 [==============================] - 29s 38ms/step - loss: 1.6519 - acc: 0.4029 - val_loss: 1.4533 - val_acc: 0.4754\n",
      "Epoch 2/200\n",
      "782/781 [==============================] - 28s 35ms/step - loss: 1.1703 - acc: 0.5809 - val_loss: 1.1462 - val_acc: 0.6223\n",
      "Epoch 3/200\n",
      "782/781 [==============================] - 28s 36ms/step - loss: 0.9352 - acc: 0.6724 - val_loss: 0.8031 - val_acc: 0.7240\n",
      "Epoch 4/200\n",
      "782/781 [==============================] - 28s 35ms/step - loss: 0.7941 - acc: 0.7245 - val_loss: 0.7601 - val_acc: 0.7536\n",
      "Epoch 5/200\n",
      "782/781 [==============================] - 28s 35ms/step - loss: 0.7099 - acc: 0.7565 - val_loss: 0.8036 - val_acc: 0.7389\n",
      "Epoch 6/200\n",
      "782/781 [==============================] - 28s 35ms/step - loss: 0.6408 - acc: 0.7792 - val_loss: 0.6838 - val_acc: 0.7761\n",
      "Epoch 7/200\n",
      "782/781 [==============================] - 28s 35ms/step - loss: 0.5929 - acc: 0.7957 - val_loss: 0.6468 - val_acc: 0.7936\n",
      "Epoch 8/200\n",
      "782/781 [==============================] - 28s 35ms/step - loss: 0.5531 - acc: 0.8107 - val_loss: 0.5649 - val_acc: 0.8125\n",
      "Epoch 9/200\n",
      "782/781 [==============================] - 28s 35ms/step - loss: 0.5262 - acc: 0.8202 - val_loss: 0.6131 - val_acc: 0.7957\n",
      "Epoch 10/200\n",
      "782/781 [==============================] - 28s 35ms/step - loss: 0.4993 - acc: 0.8292 - val_loss: 0.5265 - val_acc: 0.8375\n",
      "Epoch 11/200\n",
      "782/781 [==============================] - 28s 36ms/step - loss: 0.4737 - acc: 0.8388 - val_loss: 0.5376 - val_acc: 0.8332\n",
      "Epoch 12/200\n",
      "782/781 [==============================] - 28s 36ms/step - loss: 0.4601 - acc: 0.8436 - val_loss: 0.6393 - val_acc: 0.8060\n",
      "Epoch 13/200\n",
      "782/781 [==============================] - 28s 36ms/step - loss: 0.4411 - acc: 0.8501 - val_loss: 0.5132 - val_acc: 0.8409\n",
      "Epoch 14/200\n",
      "782/781 [==============================] - 28s 36ms/step - loss: 0.4267 - acc: 0.8545 - val_loss: 0.5988 - val_acc: 0.8164\n",
      "Epoch 15/200\n",
      "782/781 [==============================] - 28s 36ms/step - loss: 0.4156 - acc: 0.8586 - val_loss: 0.6167 - val_acc: 0.8107\n",
      "Epoch 16/200\n",
      "782/781 [==============================] - 28s 36ms/step - loss: 0.4057 - acc: 0.8619 - val_loss: 0.5775 - val_acc: 0.8355\n",
      "Epoch 17/200\n",
      "782/781 [==============================] - 28s 36ms/step - loss: 0.3920 - acc: 0.8665 - val_loss: 0.6325 - val_acc: 0.8236\n",
      "Epoch 18/200\n",
      "782/781 [==============================] - 28s 35ms/step - loss: 0.3862 - acc: 0.8691 - val_loss: 0.5364 - val_acc: 0.8422\n",
      "Epoch 19/200\n",
      "782/781 [==============================] - 28s 35ms/step - loss: 0.3770 - acc: 0.8709 - val_loss: 0.4946 - val_acc: 0.8449\n",
      "Epoch 20/200\n",
      "782/781 [==============================] - 28s 35ms/step - loss: 0.3695 - acc: 0.8738 - val_loss: 0.4585 - val_acc: 0.8540\n",
      "Epoch 21/200\n",
      "782/781 [==============================] - 28s 35ms/step - loss: 0.3582 - acc: 0.8795 - val_loss: 0.4558 - val_acc: 0.8608\n",
      "Epoch 22/200\n",
      "782/781 [==============================] - 28s 35ms/step - loss: 0.3577 - acc: 0.8792 - val_loss: 0.5809 - val_acc: 0.8372\n",
      "Epoch 23/200\n",
      "782/781 [==============================] - 28s 35ms/step - loss: 0.3517 - acc: 0.8806 - val_loss: 0.5083 - val_acc: 0.8568\n",
      "Epoch 24/200\n",
      "782/781 [==============================] - 28s 35ms/step - loss: 0.3439 - acc: 0.8835 - val_loss: 0.5403 - val_acc: 0.8429\n",
      "Epoch 25/200\n",
      "782/781 [==============================] - 28s 35ms/step - loss: 0.3428 - acc: 0.8839 - val_loss: 0.6238 - val_acc: 0.8337\n",
      "Epoch 26/200\n",
      "782/781 [==============================] - 28s 35ms/step - loss: 0.3428 - acc: 0.8843 - val_loss: 0.4916 - val_acc: 0.8584\n",
      "Epoch 27/200\n",
      "782/781 [==============================] - 28s 35ms/step - loss: 0.3379 - acc: 0.8875 - val_loss: 0.5941 - val_acc: 0.8312\n",
      "Epoch 28/200\n",
      "782/781 [==============================] - 28s 35ms/step - loss: 0.3314 - acc: 0.8887 - val_loss: 0.5134 - val_acc: 0.8552\n",
      "Epoch 29/200\n",
      "782/781 [==============================] - 28s 35ms/step - loss: 0.3288 - acc: 0.8907 - val_loss: 0.4822 - val_acc: 0.8649\n",
      "Epoch 30/200\n",
      "782/781 [==============================] - 28s 35ms/step - loss: 0.3227 - acc: 0.8924 - val_loss: 0.5786 - val_acc: 0.8385\n",
      "Epoch 31/200\n",
      "782/781 [==============================] - 28s 35ms/step - loss: 0.3236 - acc: 0.8919 - val_loss: 0.4822 - val_acc: 0.8589\n",
      "Epoch 32/200\n",
      "782/781 [==============================] - 28s 35ms/step - loss: 0.3244 - acc: 0.8907 - val_loss: 0.5569 - val_acc: 0.8497\n",
      "Epoch 33/200\n",
      "782/781 [==============================] - 28s 35ms/step - loss: 0.3217 - acc: 0.8923 - val_loss: 0.6335 - val_acc: 0.8415\n",
      "Epoch 34/200\n",
      "782/781 [==============================] - 28s 35ms/step - loss: 0.3219 - acc: 0.8943 - val_loss: 0.5301 - val_acc: 0.8533\n",
      "Epoch 35/200\n",
      "782/781 [==============================] - 28s 35ms/step - loss: 0.3174 - acc: 0.8940 - val_loss: 0.5339 - val_acc: 0.8610\n",
      "Epoch 36/200\n",
      "782/781 [==============================] - 28s 35ms/step - loss: 0.3140 - acc: 0.8951 - val_loss: 0.5519 - val_acc: 0.8524\n",
      "Epoch 37/200\n",
      "782/781 [==============================] - 28s 35ms/step - loss: 0.3086 - acc: 0.8977 - val_loss: 0.5078 - val_acc: 0.8636\n",
      "Epoch 38/200\n",
      "782/781 [==============================] - 28s 35ms/step - loss: 0.3113 - acc: 0.8964 - val_loss: 0.5443 - val_acc: 0.8586\n",
      "Epoch 39/200\n",
      "782/781 [==============================] - 28s 35ms/step - loss: 0.3087 - acc: 0.8977 - val_loss: 0.5216 - val_acc: 0.8612\n",
      "Epoch 40/200\n",
      "782/781 [==============================] - 28s 35ms/step - loss: 0.3003 - acc: 0.8993 - val_loss: 0.5775 - val_acc: 0.8480\n",
      "Epoch 41/200\n",
      "782/781 [==============================] - 28s 35ms/step - loss: 0.2995 - acc: 0.9006 - val_loss: 0.5902 - val_acc: 0.8494\n",
      "Epoch 42/200\n",
      "782/781 [==============================] - 28s 35ms/step - loss: 0.2997 - acc: 0.9012 - val_loss: 0.5342 - val_acc: 0.8635\n",
      "Epoch 43/200\n",
      "782/781 [==============================] - 28s 35ms/step - loss: 0.3017 - acc: 0.9010 - val_loss: 0.5869 - val_acc: 0.8566\n",
      "Epoch 44/200\n",
      "782/781 [==============================] - 28s 35ms/step - loss: 0.3089 - acc: 0.8997 - val_loss: 0.5672 - val_acc: 0.8536\n",
      "Epoch 45/200\n",
      "782/781 [==============================] - 28s 35ms/step - loss: 0.3092 - acc: 0.8984 - val_loss: 0.6200 - val_acc: 0.8538\n",
      "Epoch 46/200\n",
      "782/781 [==============================] - 28s 35ms/step - loss: 0.3063 - acc: 0.9002 - val_loss: 0.5742 - val_acc: 0.8613\n",
      "Epoch 47/200\n",
      "782/781 [==============================] - 28s 35ms/step - loss: 0.3059 - acc: 0.9012 - val_loss: 0.6059 - val_acc: 0.8471\n",
      "Epoch 48/200\n",
      "782/781 [==============================] - 28s 35ms/step - loss: 0.3051 - acc: 0.9019 - val_loss: 0.5536 - val_acc: 0.8561\n",
      "Epoch 49/200\n",
      "782/781 [==============================] - 28s 35ms/step - loss: 0.3070 - acc: 0.8990 - val_loss: 0.5921 - val_acc: 0.8592\n",
      "\n",
      "@ Total Time Spent: 1364.38 seconds\n",
      "@ Best Training Accuracy: 90.19 % achieved at EP #48.\n",
      "@ Best Testing Accuracy: 86.49 % achieved at EP #29.\n"
     ]
    },
    {
     "data": {
      "image/png": "[encoded data removed]",
      "text/plain": [
       "<Figure size 1224x360 with 2 Axes>"
      ]
     },
     "metadata": {},
     "output_type": "display_data"
    }
   ],
   "source": [
    "epoch = 200\n",
    "batch = 64\n",
    "\n",
    "h = train(model1, batch, epoch)\n",
    "accuracy_curve(h)"
   ]
  },
  {
   "cell_type": "markdown",
   "metadata": {},
   "source": [
    "## 分析\n",
    "\n",
    "- 根据上面的 accuracy 曲线，我们可以看到模型在测试集上所能达到的最高准确度为90%，这一准确度在第85代训练达到。\n",
    "\n",
    "- 但是根据上面的 loss 曲线，可以观察到模型在第40代训练之后 `loss` 不断上升，这说明模型已经进入过拟合状态，不应再继续训练。\n",
    "\n",
    "- 结合上面的分析，batch size为64的模型实际收敛准确度应该是 88%-89%。"
   ]
  },
  {
   "cell_type": "markdown",
   "metadata": {},
   "source": [
    "## 训练模型：Batch Size = 128"
   ]
  },
  {
   "cell_type": "code",
   "execution_count": 7,
   "metadata": {},
   "outputs": [
    {
     "name": "stdout",
     "output_type": "stream",
     "text": [
      "_________________________________________________________________\n",
      "Layer (type)                 Output Shape              Param #   \n",
      "=================================================================\n",
      "input_2 (InputLayer)         (None, 32, 32, 3)         0         \n",
      "_________________________________________________________________\n",
      "conv2d_7 (Conv2D)            (None, 32, 32, 64)        1792      \n",
      "_________________________________________________________________\n",
      "conv2d_8 (Conv2D)            (None, 32, 32, 64)        36928     \n",
      "_________________________________________________________________\n",
      "max_pooling2d_4 (MaxPooling2 (None, 16, 16, 64)        0         \n",
      "_________________________________________________________________\n",
      "conv2d_9 (Conv2D)            (None, 16, 16, 128)       73856     \n",
      "_________________________________________________________________\n",
      "conv2d_10 (Conv2D)           (None, 16, 16, 128)       147584    \n",
      "_________________________________________________________________\n",
      "max_pooling2d_5 (MaxPooling2 (None, 8, 8, 128)         0         \n",
      "_________________________________________________________________\n",
      "conv2d_11 (Conv2D)           (None, 8, 8, 256)         295168    \n",
      "_________________________________________________________________\n",
      "conv2d_12 (Conv2D)           (None, 8, 8, 256)         590080    \n",
      "_________________________________________________________________\n",
      "max_pooling2d_6 (MaxPooling2 (None, 4, 4, 256)         0         \n",
      "_________________________________________________________________\n",
      "flatten_2 (Flatten)          (None, 4096)              0         \n",
      "_________________________________________________________________\n",
      "dropout_2 (Dropout)          (None, 4096)              0         \n",
      "_________________________________________________________________\n",
      "dense_2 (Dense)              (None, 10)                40970     \n",
      "=================================================================\n",
      "Total params: 1,186,378\n",
      "Trainable params: 1,186,378\n",
      "Non-trainable params: 0\n",
      "_________________________________________________________________\n"
     ]
    }
   ],
   "source": [
    "model2 = create_model()"
   ]
  },
  {
   "cell_type": "code",
   "execution_count": 8,
   "metadata": {
    "scrolled": false
   },
   "outputs": [
    {
     "name": "stdout",
     "output_type": "stream",
     "text": [
      "Epoch 1/200\n",
      "391/390 [==============================] - 24s 62ms/step - loss: 1.7379 - acc: 0.3693 - val_loss: 1.2663 - val_acc: 0.5459\n",
      "Epoch 2/200\n",
      "391/390 [==============================] - 23s 59ms/step - loss: 1.2840 - acc: 0.5410 - val_loss: 1.0627 - val_acc: 0.6302\n",
      "Epoch 3/200\n",
      "391/390 [==============================] - 23s 59ms/step - loss: 1.0357 - acc: 0.6356 - val_loss: 0.8327 - val_acc: 0.7102\n",
      "Epoch 4/200\n",
      "391/390 [==============================] - 23s 59ms/step - loss: 0.8745 - acc: 0.6946 - val_loss: 0.7379 - val_acc: 0.7470\n",
      "Epoch 5/200\n",
      "391/390 [==============================] - 23s 59ms/step - loss: 0.7778 - acc: 0.7297 - val_loss: 0.8185 - val_acc: 0.7405\n",
      "Epoch 6/200\n",
      "391/390 [==============================] - 23s 59ms/step - loss: 0.7026 - acc: 0.7569 - val_loss: 0.8086 - val_acc: 0.7406\n",
      "Epoch 7/200\n",
      "391/390 [==============================] - 23s 59ms/step - loss: 0.6472 - acc: 0.7769 - val_loss: 0.6492 - val_acc: 0.7863\n",
      "Epoch 8/200\n",
      "391/390 [==============================] - 23s 59ms/step - loss: 0.6004 - acc: 0.7942 - val_loss: 0.6298 - val_acc: 0.7983\n",
      "Epoch 9/200\n",
      "391/390 [==============================] - 23s 59ms/step - loss: 0.5604 - acc: 0.8081 - val_loss: 0.6237 - val_acc: 0.8058\n",
      "Epoch 10/200\n",
      "391/390 [==============================] - 23s 59ms/step - loss: 0.5301 - acc: 0.8182 - val_loss: 0.5348 - val_acc: 0.8218\n",
      "Epoch 11/200\n",
      "391/390 [==============================] - 23s 59ms/step - loss: 0.5011 - acc: 0.8269 - val_loss: 0.7956 - val_acc: 0.7657\n",
      "Epoch 12/200\n",
      "391/390 [==============================] - 23s 59ms/step - loss: 0.4777 - acc: 0.8359 - val_loss: 0.4814 - val_acc: 0.8417\n",
      "Epoch 13/200\n",
      "391/390 [==============================] - 23s 59ms/step - loss: 0.4595 - acc: 0.8426 - val_loss: 0.5291 - val_acc: 0.8304\n",
      "Epoch 14/200\n",
      "391/390 [==============================] - 23s 59ms/step - loss: 0.4359 - acc: 0.8512 - val_loss: 0.4823 - val_acc: 0.8390\n",
      "Epoch 15/200\n",
      "391/390 [==============================] - 23s 59ms/step - loss: 0.4186 - acc: 0.8556 - val_loss: 0.4920 - val_acc: 0.8466\n",
      "Epoch 16/200\n",
      "391/390 [==============================] - 23s 59ms/step - loss: 0.4020 - acc: 0.8617 - val_loss: 0.5865 - val_acc: 0.8191\n",
      "Epoch 17/200\n",
      "391/390 [==============================] - 23s 59ms/step - loss: 0.3938 - acc: 0.8635 - val_loss: 0.4763 - val_acc: 0.8485\n",
      "Epoch 18/200\n",
      "391/390 [==============================] - 23s 59ms/step - loss: 0.3717 - acc: 0.8733 - val_loss: 0.4426 - val_acc: 0.8610\n",
      "Epoch 19/200\n",
      "391/390 [==============================] - 23s 59ms/step - loss: 0.3580 - acc: 0.8764 - val_loss: 0.4918 - val_acc: 0.8565\n",
      "Epoch 20/200\n",
      "391/390 [==============================] - 23s 59ms/step - loss: 0.3486 - acc: 0.8796 - val_loss: 0.6619 - val_acc: 0.8230\n",
      "Epoch 21/200\n",
      "391/390 [==============================] - 23s 59ms/step - loss: 0.3415 - acc: 0.8816 - val_loss: 0.5236 - val_acc: 0.8376\n",
      "Epoch 22/200\n",
      "391/390 [==============================] - 23s 59ms/step - loss: 0.3272 - acc: 0.8871 - val_loss: 0.4985 - val_acc: 0.8552\n",
      "Epoch 23/200\n",
      "391/390 [==============================] - 23s 59ms/step - loss: 0.3178 - acc: 0.8905 - val_loss: 0.4875 - val_acc: 0.8490\n",
      "Epoch 24/200\n",
      "391/390 [==============================] - 23s 59ms/step - loss: 0.3143 - acc: 0.8920 - val_loss: 0.4231 - val_acc: 0.8721\n",
      "Epoch 25/200\n",
      "391/390 [==============================] - 23s 59ms/step - loss: 0.2997 - acc: 0.8964 - val_loss: 0.5003 - val_acc: 0.8525\n",
      "Epoch 26/200\n",
      "391/390 [==============================] - 25s 63ms/step - loss: 0.3018 - acc: 0.8960 - val_loss: 0.4363 - val_acc: 0.8706\n",
      "Epoch 27/200\n",
      "391/390 [==============================] - 24s 61ms/step - loss: 0.2954 - acc: 0.8978 - val_loss: 0.4632 - val_acc: 0.8682\n",
      "Epoch 28/200\n",
      "391/390 [==============================] - 24s 60ms/step - loss: 0.2903 - acc: 0.8994 - val_loss: 0.4930 - val_acc: 0.8584\n",
      "Epoch 29/200\n",
      "391/390 [==============================] - 23s 59ms/step - loss: 0.2809 - acc: 0.9041 - val_loss: 0.4799 - val_acc: 0.8653\n",
      "Epoch 30/200\n",
      "391/390 [==============================] - 23s 59ms/step - loss: 0.2716 - acc: 0.9065 - val_loss: 0.4768 - val_acc: 0.8684\n",
      "Epoch 31/200\n",
      "391/390 [==============================] - 23s 59ms/step - loss: 0.2719 - acc: 0.9061 - val_loss: 0.4981 - val_acc: 0.8612\n",
      "Epoch 32/200\n",
      "391/390 [==============================] - 23s 59ms/step - loss: 0.2646 - acc: 0.9093 - val_loss: 0.4922 - val_acc: 0.8599\n",
      "Epoch 33/200\n",
      "391/390 [==============================] - 23s 59ms/step - loss: 0.2549 - acc: 0.9119 - val_loss: 0.4755 - val_acc: 0.8682\n",
      "Epoch 34/200\n",
      "391/390 [==============================] - 23s 59ms/step - loss: 0.2534 - acc: 0.9135 - val_loss: 0.4826 - val_acc: 0.8709\n",
      "Epoch 35/200\n",
      "391/390 [==============================] - 23s 59ms/step - loss: 0.2511 - acc: 0.9148 - val_loss: 0.4667 - val_acc: 0.8694\n",
      "Epoch 36/200\n",
      "391/390 [==============================] - 23s 59ms/step - loss: 0.2492 - acc: 0.9146 - val_loss: 0.4447 - val_acc: 0.8738\n",
      "Epoch 37/200\n",
      "391/390 [==============================] - 23s 59ms/step - loss: 0.2384 - acc: 0.9175 - val_loss: 0.4828 - val_acc: 0.8672\n",
      "Epoch 38/200\n",
      "269/390 [===================>..........] - ETA: 6s - loss: 0.2400 - acc: 0.9175"
     ]
    },
    {
     "ename": "KeyboardInterrupt",
     "evalue": "",
     "output_type": "error",
     "traceback": [
      "\u001b[1;31m---------------------------------------------------------------------------\u001b[0m",
      "\u001b[1;31mKeyboardInterrupt\u001b[0m                         Traceback (most recent call last)",
      "\u001b[1;32m<ipython-input-8-d0fe80832325>\u001b[0m in \u001b[0;36m<module>\u001b[1;34m()\u001b[0m\n\u001b[0;32m      2\u001b[0m \u001b[0mbatch\u001b[0m \u001b[1;33m=\u001b[0m \u001b[1;36m128\u001b[0m\u001b[1;33m\u001b[0m\u001b[0m\n\u001b[0;32m      3\u001b[0m \u001b[1;33m\u001b[0m\u001b[0m\n\u001b[1;32m----> 4\u001b[1;33m \u001b[0mh\u001b[0m \u001b[1;33m=\u001b[0m \u001b[0mtrain\u001b[0m\u001b[1;33m(\u001b[0m\u001b[0mmodel2\u001b[0m\u001b[1;33m,\u001b[0m \u001b[0mbatch\u001b[0m\u001b[1;33m,\u001b[0m \u001b[0mepoch\u001b[0m\u001b[1;33m)\u001b[0m\u001b[1;33m\u001b[0m\u001b[0m\n\u001b[0m\u001b[0;32m      5\u001b[0m \u001b[0maccuracy_curve\u001b[0m\u001b[1;33m(\u001b[0m\u001b[0mh\u001b[0m\u001b[1;33m)\u001b[0m\u001b[1;33m\u001b[0m\u001b[0m\n",
      "\u001b[1;32m<ipython-input-4-ded69e2dc217>\u001b[0m in \u001b[0;36mtrain\u001b[1;34m(model, batch, epoch, data_augmentation)\u001b[0m\n\u001b[0;32m     20\u001b[0m                                  \u001b[0mepochs\u001b[0m\u001b[1;33m=\u001b[0m\u001b[0mepoch\u001b[0m\u001b[1;33m,\u001b[0m\u001b[1;33m\u001b[0m\u001b[0m\n\u001b[0;32m     21\u001b[0m                                  \u001b[0mvalidation_data\u001b[0m\u001b[1;33m=\u001b[0m\u001b[1;33m(\u001b[0m\u001b[0mX_test\u001b[0m\u001b[1;33m,\u001b[0m \u001b[0my_test\u001b[0m\u001b[1;33m)\u001b[0m\u001b[1;33m,\u001b[0m\u001b[1;33m\u001b[0m\u001b[0m\n\u001b[1;32m---> 22\u001b[1;33m                                  callbacks=[es, mc, tb])\n\u001b[0m\u001b[0;32m     23\u001b[0m     \u001b[1;32melse\u001b[0m\u001b[1;33m:\u001b[0m\u001b[1;33m\u001b[0m\u001b[0m\n\u001b[0;32m     24\u001b[0m         \u001b[0mstart\u001b[0m \u001b[1;33m=\u001b[0m \u001b[0mtime\u001b[0m\u001b[1;33m(\u001b[0m\u001b[1;33m)\u001b[0m\u001b[1;33m\u001b[0m\u001b[0m\n",
      "\u001b[1;32m~\\Anaconda3\\envs\\py36\\lib\\site-packages\\keras\\legacy\\interfaces.py\u001b[0m in \u001b[0;36mwrapper\u001b[1;34m(*args, **kwargs)\u001b[0m\n\u001b[0;32m     89\u001b[0m                 warnings.warn('Update your `' + object_name + '` call to the ' +\n\u001b[0;32m     90\u001b[0m                               'Keras 2 API: ' + signature, stacklevel=2)\n\u001b[1;32m---> 91\u001b[1;33m             \u001b[1;32mreturn\u001b[0m \u001b[0mfunc\u001b[0m\u001b[1;33m(\u001b[0m\u001b[1;33m*\u001b[0m\u001b[0margs\u001b[0m\u001b[1;33m,\u001b[0m \u001b[1;33m**\u001b[0m\u001b[0mkwargs\u001b[0m\u001b[1;33m)\u001b[0m\u001b[1;33m\u001b[0m\u001b[0m\n\u001b[0m\u001b[0;32m     92\u001b[0m         \u001b[0mwrapper\u001b[0m\u001b[1;33m.\u001b[0m\u001b[0m_original_function\u001b[0m \u001b[1;33m=\u001b[0m \u001b[0mfunc\u001b[0m\u001b[1;33m\u001b[0m\u001b[0m\n\u001b[0;32m     93\u001b[0m         \u001b[1;32mreturn\u001b[0m \u001b[0mwrapper\u001b[0m\u001b[1;33m\u001b[0m\u001b[0m\n",
      "\u001b[1;32m~\\Anaconda3\\envs\\py36\\lib\\site-packages\\keras\\engine\\training.py\u001b[0m in \u001b[0;36mfit_generator\u001b[1;34m(self, generator, steps_per_epoch, epochs, verbose, callbacks, validation_data, validation_steps, class_weight, max_queue_size, workers, use_multiprocessing, shuffle, initial_epoch)\u001b[0m\n\u001b[0;32m   1416\u001b[0m             \u001b[0muse_multiprocessing\u001b[0m\u001b[1;33m=\u001b[0m\u001b[0muse_multiprocessing\u001b[0m\u001b[1;33m,\u001b[0m\u001b[1;33m\u001b[0m\u001b[0m\n\u001b[0;32m   1417\u001b[0m             \u001b[0mshuffle\u001b[0m\u001b[1;33m=\u001b[0m\u001b[0mshuffle\u001b[0m\u001b[1;33m,\u001b[0m\u001b[1;33m\u001b[0m\u001b[0m\n\u001b[1;32m-> 1418\u001b[1;33m             initial_epoch=initial_epoch)\n\u001b[0m\u001b[0;32m   1419\u001b[0m \u001b[1;33m\u001b[0m\u001b[0m\n\u001b[0;32m   1420\u001b[0m     \u001b[1;33m@\u001b[0m\u001b[0minterfaces\u001b[0m\u001b[1;33m.\u001b[0m\u001b[0mlegacy_generator_methods_support\u001b[0m\u001b[1;33m\u001b[0m\u001b[0m\n",
      "\u001b[1;32m~\\Anaconda3\\envs\\py36\\lib\\site-packages\\keras\\engine\\training_generator.py\u001b[0m in \u001b[0;36mfit_generator\u001b[1;34m(model, generator, steps_per_epoch, epochs, verbose, callbacks, validation_data, validation_steps, class_weight, max_queue_size, workers, use_multiprocessing, shuffle, initial_epoch)\u001b[0m\n\u001b[0;32m    215\u001b[0m                 outs = model.train_on_batch(x, y,\n\u001b[0;32m    216\u001b[0m                                             \u001b[0msample_weight\u001b[0m\u001b[1;33m=\u001b[0m\u001b[0msample_weight\u001b[0m\u001b[1;33m,\u001b[0m\u001b[1;33m\u001b[0m\u001b[0m\n\u001b[1;32m--> 217\u001b[1;33m                                             class_weight=class_weight)\n\u001b[0m\u001b[0;32m    218\u001b[0m \u001b[1;33m\u001b[0m\u001b[0m\n\u001b[0;32m    219\u001b[0m                 \u001b[0mouts\u001b[0m \u001b[1;33m=\u001b[0m \u001b[0mto_list\u001b[0m\u001b[1;33m(\u001b[0m\u001b[0mouts\u001b[0m\u001b[1;33m)\u001b[0m\u001b[1;33m\u001b[0m\u001b[0m\n",
      "\u001b[1;32m~\\Anaconda3\\envs\\py36\\lib\\site-packages\\keras\\engine\\training.py\u001b[0m in \u001b[0;36mtrain_on_batch\u001b[1;34m(self, x, y, sample_weight, class_weight)\u001b[0m\n\u001b[0;32m   1215\u001b[0m             \u001b[0mins\u001b[0m \u001b[1;33m=\u001b[0m \u001b[0mx\u001b[0m \u001b[1;33m+\u001b[0m \u001b[0my\u001b[0m \u001b[1;33m+\u001b[0m \u001b[0msample_weights\u001b[0m\u001b[1;33m\u001b[0m\u001b[0m\n\u001b[0;32m   1216\u001b[0m         \u001b[0mself\u001b[0m\u001b[1;33m.\u001b[0m\u001b[0m_make_train_function\u001b[0m\u001b[1;33m(\u001b[0m\u001b[1;33m)\u001b[0m\u001b[1;33m\u001b[0m\u001b[0m\n\u001b[1;32m-> 1217\u001b[1;33m         \u001b[0moutputs\u001b[0m \u001b[1;33m=\u001b[0m \u001b[0mself\u001b[0m\u001b[1;33m.\u001b[0m\u001b[0mtrain_function\u001b[0m\u001b[1;33m(\u001b[0m\u001b[0mins\u001b[0m\u001b[1;33m)\u001b[0m\u001b[1;33m\u001b[0m\u001b[0m\n\u001b[0m\u001b[0;32m   1218\u001b[0m         \u001b[1;32mreturn\u001b[0m \u001b[0munpack_singleton\u001b[0m\u001b[1;33m(\u001b[0m\u001b[0moutputs\u001b[0m\u001b[1;33m)\u001b[0m\u001b[1;33m\u001b[0m\u001b[0m\n\u001b[0;32m   1219\u001b[0m \u001b[1;33m\u001b[0m\u001b[0m\n",
      "\u001b[1;32m~\\Anaconda3\\envs\\py36\\lib\\site-packages\\keras\\backend\\tensorflow_backend.py\u001b[0m in \u001b[0;36m__call__\u001b[1;34m(self, inputs)\u001b[0m\n\u001b[0;32m   2713\u001b[0m                 \u001b[1;32mreturn\u001b[0m \u001b[0mself\u001b[0m\u001b[1;33m.\u001b[0m\u001b[0m_legacy_call\u001b[0m\u001b[1;33m(\u001b[0m\u001b[0minputs\u001b[0m\u001b[1;33m)\u001b[0m\u001b[1;33m\u001b[0m\u001b[0m\n\u001b[0;32m   2714\u001b[0m \u001b[1;33m\u001b[0m\u001b[0m\n\u001b[1;32m-> 2715\u001b[1;33m             \u001b[1;32mreturn\u001b[0m \u001b[0mself\u001b[0m\u001b[1;33m.\u001b[0m\u001b[0m_call\u001b[0m\u001b[1;33m(\u001b[0m\u001b[0minputs\u001b[0m\u001b[1;33m)\u001b[0m\u001b[1;33m\u001b[0m\u001b[0m\n\u001b[0m\u001b[0;32m   2716\u001b[0m         \u001b[1;32melse\u001b[0m\u001b[1;33m:\u001b[0m\u001b[1;33m\u001b[0m\u001b[0m\n\u001b[0;32m   2717\u001b[0m             \u001b[1;32mif\u001b[0m \u001b[0mpy_any\u001b[0m\u001b[1;33m(\u001b[0m\u001b[0mis_tensor\u001b[0m\u001b[1;33m(\u001b[0m\u001b[0mx\u001b[0m\u001b[1;33m)\u001b[0m \u001b[1;32mfor\u001b[0m \u001b[0mx\u001b[0m \u001b[1;32min\u001b[0m \u001b[0minputs\u001b[0m\u001b[1;33m)\u001b[0m\u001b[1;33m:\u001b[0m\u001b[1;33m\u001b[0m\u001b[0m\n",
      "\u001b[1;32m~\\Anaconda3\\envs\\py36\\lib\\site-packages\\keras\\backend\\tensorflow_backend.py\u001b[0m in \u001b[0;36m_call\u001b[1;34m(self, inputs)\u001b[0m\n\u001b[0;32m   2673\u001b[0m             \u001b[0mfetched\u001b[0m \u001b[1;33m=\u001b[0m \u001b[0mself\u001b[0m\u001b[1;33m.\u001b[0m\u001b[0m_callable_fn\u001b[0m\u001b[1;33m(\u001b[0m\u001b[1;33m*\u001b[0m\u001b[0marray_vals\u001b[0m\u001b[1;33m,\u001b[0m \u001b[0mrun_metadata\u001b[0m\u001b[1;33m=\u001b[0m\u001b[0mself\u001b[0m\u001b[1;33m.\u001b[0m\u001b[0mrun_metadata\u001b[0m\u001b[1;33m)\u001b[0m\u001b[1;33m\u001b[0m\u001b[0m\n\u001b[0;32m   2674\u001b[0m         \u001b[1;32melse\u001b[0m\u001b[1;33m:\u001b[0m\u001b[1;33m\u001b[0m\u001b[0m\n\u001b[1;32m-> 2675\u001b[1;33m             \u001b[0mfetched\u001b[0m \u001b[1;33m=\u001b[0m \u001b[0mself\u001b[0m\u001b[1;33m.\u001b[0m\u001b[0m_callable_fn\u001b[0m\u001b[1;33m(\u001b[0m\u001b[1;33m*\u001b[0m\u001b[0marray_vals\u001b[0m\u001b[1;33m)\u001b[0m\u001b[1;33m\u001b[0m\u001b[0m\n\u001b[0m\u001b[0;32m   2676\u001b[0m         \u001b[1;32mreturn\u001b[0m \u001b[0mfetched\u001b[0m\u001b[1;33m[\u001b[0m\u001b[1;33m:\u001b[0m\u001b[0mlen\u001b[0m\u001b[1;33m(\u001b[0m\u001b[0mself\u001b[0m\u001b[1;33m.\u001b[0m\u001b[0moutputs\u001b[0m\u001b[1;33m)\u001b[0m\u001b[1;33m]\u001b[0m\u001b[1;33m\u001b[0m\u001b[0m\n\u001b[0;32m   2677\u001b[0m \u001b[1;33m\u001b[0m\u001b[0m\n",
      "\u001b[1;32m~\\Anaconda3\\envs\\py36\\lib\\site-packages\\tensorflow\\python\\client\\session.py\u001b[0m in \u001b[0;36m__call__\u001b[1;34m(self, *args, **kwargs)\u001b[0m\n\u001b[0;32m   1437\u001b[0m           ret = tf_session.TF_SessionRunCallable(\n\u001b[0;32m   1438\u001b[0m               \u001b[0mself\u001b[0m\u001b[1;33m.\u001b[0m\u001b[0m_session\u001b[0m\u001b[1;33m.\u001b[0m\u001b[0m_session\u001b[0m\u001b[1;33m,\u001b[0m \u001b[0mself\u001b[0m\u001b[1;33m.\u001b[0m\u001b[0m_handle\u001b[0m\u001b[1;33m,\u001b[0m \u001b[0margs\u001b[0m\u001b[1;33m,\u001b[0m \u001b[0mstatus\u001b[0m\u001b[1;33m,\u001b[0m\u001b[1;33m\u001b[0m\u001b[0m\n\u001b[1;32m-> 1439\u001b[1;33m               run_metadata_ptr)\n\u001b[0m\u001b[0;32m   1440\u001b[0m         \u001b[1;32mif\u001b[0m \u001b[0mrun_metadata\u001b[0m\u001b[1;33m:\u001b[0m\u001b[1;33m\u001b[0m\u001b[0m\n\u001b[0;32m   1441\u001b[0m           \u001b[0mproto_data\u001b[0m \u001b[1;33m=\u001b[0m \u001b[0mtf_session\u001b[0m\u001b[1;33m.\u001b[0m\u001b[0mTF_GetBuffer\u001b[0m\u001b[1;33m(\u001b[0m\u001b[0mrun_metadata_ptr\u001b[0m\u001b[1;33m)\u001b[0m\u001b[1;33m\u001b[0m\u001b[0m\n",
      "\u001b[1;31mKeyboardInterrupt\u001b[0m: "
     ]
    }
   ],
   "source": [
    "epoch = 200\n",
    "batch = 128\n",
    "\n",
    "h = train(model2, batch, epoch)\n",
    "accuracy_curve(h)"
   ]
  },
  {
   "cell_type": "markdown",
   "metadata": {},
   "source": [
    "## 分析\n",
    "\n",
    "- 根据上面的 accuracy 曲线，我们可以看到模型在测试集上所能达到的最高准确度为90.22%，这一准确度在第104代训练达到。\n",
    "\n",
    "- 但是根据上面的 loss 曲线，可以观察到模型在第60代训练之后 `loss` 不断上升，这说明模型已经进入过拟合状态，不应再继续训练。\n",
    "\n",
    "- 结合上面的分析，batch size为128的模型实际收敛准确度应该是 89%。"
   ]
  },
  {
   "cell_type": "markdown",
   "metadata": {},
   "source": [
    "## 总结\n",
    "\n",
    "使用相同的模型和不同的batch size，将模型训练过程用Tensorboard记录绘制如下，可以清晰的看到不同模型在训练过程中的性能差异。"
   ]
  },
  {
   "cell_type": "markdown",
   "metadata": {},
   "source": [
    "![image](https://github.com/mtyylx/Resources/blob/master/CNN%20-%20Batch%20Size%20vs%20Accuracy%20%26%20Loss.png?raw=true)"
   ]
  },
  {
   "cell_type": "code",
   "execution_count": null,
   "metadata": {},
   "outputs": [],
   "source": []
  },
  {
   "cell_type": "code",
   "execution_count": null,
   "metadata": {},
   "outputs": [],
   "source": []
  }
 ],
 "metadata": {
  "kernelspec": {
   "display_name": "Python 3",
   "language": "python",
   "name": "python3"
  },
  "language_info": {
   "codemirror_mode": {
    "name": "ipython",
    "version": 3
   },
   "file_extension": ".py",
   "mimetype": "text/x-python",
   "name": "python",
   "nbconvert_exporter": "python",
   "pygments_lexer": "ipython3",
   "version": "3.6.5"
  }
 },
 "nbformat": 4,
 "nbformat_minor": 2
}
