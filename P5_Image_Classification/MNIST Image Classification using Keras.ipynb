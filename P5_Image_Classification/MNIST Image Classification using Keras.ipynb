{
 "cells": [
  {
   "cell_type": "markdown",
   "metadata": {},
   "source": [
    "# MNIST Image Classification Using Keras"
   ]
  },
  {
   "cell_type": "code",
   "execution_count": 1,
   "metadata": {
    "collapsed": false
   },
   "outputs": [
    {
     "name": "stderr",
     "output_type": "stream",
     "text": [
      "Using TensorFlow backend.\n"
     ]
    }
   ],
   "source": [
    "from keras.datasets import mnist\n",
    "from keras.preprocessing.image import ImageDataGenerator\n",
    "from keras.models import Sequential, load_model, Model\n",
    "from keras.layers import Input, Dense, Dropout, Activation, Flatten\n",
    "from keras.layers import Convolution2D, MaxPooling2D\n",
    "from keras.layers.noise import GaussianNoise\n",
    "from keras.layers.normalization import BatchNormalization\n",
    "import numpy as np\n",
    "import pandas as pd\n",
    "import matplotlib.pyplot as plt\n",
    "import time, pickle\n",
    "from keras.utils import to_categorical\n",
    "%matplotlib inline"
   ]
  },
  {
   "cell_type": "markdown",
   "metadata": {},
   "source": [
    "## Data Import & Preprocessing\n",
    "\n",
    "由于MNIST数据集的图像尺寸为28x28，且为灰白图像，因此需要先将颜色通道变换出来以方便后面使用。"
   ]
  },
  {
   "cell_type": "code",
   "execution_count": 2,
   "metadata": {
    "collapsed": false
   },
   "outputs": [],
   "source": [
    "(X_train, y_train), (X_test, y_test) = mnist.load_data()"
   ]
  },
  {
   "cell_type": "code",
   "execution_count": 3,
   "metadata": {
    "collapsed": false
   },
   "outputs": [
    {
     "data": {
      "text/plain": [
       "((60000, 28, 28, 1), (60000,), (10000, 28, 28, 1), (10000,))"
      ]
     },
     "execution_count": 3,
     "metadata": {},
     "output_type": "execute_result"
    }
   ],
   "source": [
    "X_train = X_train[:, :, :, None]\n",
    "X_test = X_test[:, :, :, None]\n",
    "X_train.shape, y_train.shape, X_test.shape, y_test.shape"
   ]
  },
  {
   "cell_type": "code",
   "execution_count": 4,
   "metadata": {
    "collapsed": true
   },
   "outputs": [],
   "source": [
    "X_train = X_train.astype('float32')\n",
    "X_test = X_test.astype('float32')\n",
    "X_train /= 255\n",
    "X_test /= 255"
   ]
  },
  {
   "cell_type": "code",
   "execution_count": 5,
   "metadata": {
    "collapsed": true
   },
   "outputs": [],
   "source": [
    "nb_classes = 10\n",
    "y_train = to_categorical(y_train, nb_classes)\n",
    "y_test = to_categorical(y_test, nb_classes)"
   ]
  },
  {
   "cell_type": "markdown",
   "metadata": {},
   "source": [
    "## Model 1 - 传统神经网络（MLPs）\n",
    "\n",
    "首先让我们看一下传统多层前馈神经网络（或者称为多层感知器网络）的模型性能。"
   ]
  },
  {
   "cell_type": "code",
   "execution_count": 9,
   "metadata": {
    "collapsed": false
   },
   "outputs": [
    {
     "name": "stdout",
     "output_type": "stream",
     "text": [
      "_________________________________________________________________\n",
      "Layer (type)                 Output Shape              Param #   \n",
      "=================================================================\n",
      "input_2 (InputLayer)         (None, 28, 28, 1)         0         \n",
      "_________________________________________________________________\n",
      "flatten_2 (Flatten)          (None, 784)               0         \n",
      "_________________________________________________________________\n",
      "dense_4 (Dense)              (None, 1024)              803840    \n",
      "_________________________________________________________________\n",
      "dense_5 (Dense)              (None, 1024)              1049600   \n",
      "_________________________________________________________________\n",
      "dense_6 (Dense)              (None, 10)                10250     \n",
      "=================================================================\n",
      "Total params: 1,863,690\n",
      "Trainable params: 1,863,690\n",
      "Non-trainable params: 0\n",
      "_________________________________________________________________\n"
     ]
    }
   ],
   "source": [
    "x = Input(shape=(28, 28, 1))\n",
    "y = x\n",
    "y = Flatten()(y)\n",
    "y = Dense(1024, activation='relu', kernel_initializer='he_normal')(y)\n",
    "y = Dense(1024, activation='relu', kernel_initializer='he_normal')(y)\n",
    "y = Dense(nb_classes, activation='softmax', kernel_initializer='he_normal')(y)\n",
    "\n",
    "model1 = Model(inputs=x, outputs=y, name='MLP')\n",
    "model1.compile(loss='categorical_crossentropy', optimizer='adadelta', metrics=['accuracy'])\n",
    "model1.summary()"
   ]
  },
  {
   "cell_type": "code",
   "execution_count": 10,
   "metadata": {
    "collapsed": true
   },
   "outputs": [
    {
     "name": "stdout",
     "output_type": "stream",
     "text": [
      "Train on 60000 samples, validate on 10000 samples\n",
      "Epoch 1/50\n",
      "60000/60000 [==============================] - 1s - loss: 0.3560 - acc: 0.8988 - val_loss: 0.1641 - val_acc: 0.9527\n",
      "Epoch 2/50\n",
      "60000/60000 [==============================] - 1s - loss: 0.1385 - acc: 0.9595 - val_loss: 0.1306 - val_acc: 0.9610\n",
      "Epoch 3/50\n",
      "60000/60000 [==============================] - 1s - loss: 0.0941 - acc: 0.9724 - val_loss: 0.1083 - val_acc: 0.9664\n",
      "Epoch 4/50\n",
      "60000/60000 [==============================] - 1s - loss: 0.0686 - acc: 0.9805 - val_loss: 0.0817 - val_acc: 0.9752\n",
      "Epoch 5/50\n",
      "60000/60000 [==============================] - 1s - loss: 0.0534 - acc: 0.9842 - val_loss: 0.0768 - val_acc: 0.9764\n",
      "Epoch 6/50\n",
      "60000/60000 [==============================] - 1s - loss: 0.0408 - acc: 0.9884 - val_loss: 0.0729 - val_acc: 0.9779\n",
      "Epoch 7/50\n",
      "60000/60000 [==============================] - 1s - loss: 0.0319 - acc: 0.9911 - val_loss: 0.0659 - val_acc: 0.9791\n",
      "Epoch 8/50\n",
      "60000/60000 [==============================] - 1s - loss: 0.0245 - acc: 0.9937 - val_loss: 0.0629 - val_acc: 0.9805\n",
      "Epoch 9/50\n",
      "60000/60000 [==============================] - 1s - loss: 0.0196 - acc: 0.9954 - val_loss: 0.0616 - val_acc: 0.9816\n",
      "Epoch 10/50\n",
      "60000/60000 [==============================] - 1s - loss: 0.0149 - acc: 0.9969 - val_loss: 0.0612 - val_acc: 0.9813\n",
      "Epoch 11/50\n",
      "60000/60000 [==============================] - 1s - loss: 0.0116 - acc: 0.9979 - val_loss: 0.0752 - val_acc: 0.9778\n",
      "Epoch 12/50\n",
      "60000/60000 [==============================] - 1s - loss: 0.0091 - acc: 0.9986 - val_loss: 0.0643 - val_acc: 0.9825\n",
      "Epoch 13/50\n",
      "60000/60000 [==============================] - 1s - loss: 0.0069 - acc: 0.9990 - val_loss: 0.0600 - val_acc: 0.9824\n",
      "Epoch 14/50\n",
      "60000/60000 [==============================] - 1s - loss: 0.0054 - acc: 0.9993 - val_loss: 0.0620 - val_acc: 0.9818\n",
      "Epoch 15/50\n",
      "60000/60000 [==============================] - 1s - loss: 0.0044 - acc: 0.9994 - val_loss: 0.0658 - val_acc: 0.9818\n",
      "Epoch 16/50\n",
      "60000/60000 [==============================] - 1s - loss: 0.0033 - acc: 0.9997 - val_loss: 0.0650 - val_acc: 0.9809\n",
      "Epoch 17/50\n",
      "60000/60000 [==============================] - 1s - loss: 0.0024 - acc: 0.9999 - val_loss: 0.0642 - val_acc: 0.9821\n",
      "Epoch 18/50\n",
      "60000/60000 [==============================] - 1s - loss: 0.0019 - acc: 0.9999 - val_loss: 0.0667 - val_acc: 0.9818\n",
      "Epoch 19/50\n",
      "60000/60000 [==============================] - 1s - loss: 0.0015 - acc: 0.9999 - val_loss: 0.0686 - val_acc: 0.9810\n",
      "Epoch 20/50\n",
      "60000/60000 [==============================] - 1s - loss: 0.0011 - acc: 1.0000 - val_loss: 0.0668 - val_acc: 0.9823\n",
      "Epoch 21/50\n",
      "60000/60000 [==============================] - 1s - loss: 9.6023e-04 - acc: 1.0000 - val_loss: 0.0672 - val_acc: 0.9829\n",
      "Epoch 22/50\n",
      "60000/60000 [==============================] - 1s - loss: 8.1924e-04 - acc: 1.0000 - val_loss: 0.0682 - val_acc: 0.9818\n",
      "Epoch 23/50\n",
      "60000/60000 [==============================] - 1s - loss: 6.6121e-04 - acc: 1.0000 - val_loss: 0.0692 - val_acc: 0.9821\n",
      "Epoch 24/50\n",
      "60000/60000 [==============================] - 1s - loss: 5.7608e-04 - acc: 1.0000 - val_loss: 0.0702 - val_acc: 0.9819\n",
      "Epoch 25/50\n",
      "60000/60000 [==============================] - 1s - loss: 4.9516e-04 - acc: 1.0000 - val_loss: 0.0701 - val_acc: 0.9822\n",
      "Epoch 26/50\n",
      "60000/60000 [==============================] - 1s - loss: 4.4938e-04 - acc: 1.0000 - val_loss: 0.0716 - val_acc: 0.9823\n",
      "Epoch 27/50\n",
      "60000/60000 [==============================] - 1s - loss: 4.0119e-04 - acc: 1.0000 - val_loss: 0.0721 - val_acc: 0.9819\n",
      "Epoch 28/50\n",
      "60000/60000 [==============================] - 1s - loss: 3.7053e-04 - acc: 1.0000 - val_loss: 0.0717 - val_acc: 0.9823\n",
      "Epoch 29/50\n",
      "60000/60000 [==============================] - 1s - loss: 3.3511e-04 - acc: 1.0000 - val_loss: 0.0727 - val_acc: 0.9821\n",
      "Epoch 30/50\n",
      "60000/60000 [==============================] - 1s - loss: 3.0805e-04 - acc: 1.0000 - val_loss: 0.0725 - val_acc: 0.9817\n",
      "Epoch 31/50\n",
      "60000/60000 [==============================] - 1s - loss: 2.8622e-04 - acc: 1.0000 - val_loss: 0.0734 - val_acc: 0.9822\n",
      "Epoch 32/50\n",
      "60000/60000 [==============================] - 1s - loss: 2.6499e-04 - acc: 1.0000 - val_loss: 0.0735 - val_acc: 0.9824\n",
      "Epoch 33/50\n",
      "60000/60000 [==============================] - 1s - loss: 2.4765e-04 - acc: 1.0000 - val_loss: 0.0743 - val_acc: 0.9822\n",
      "Epoch 34/50\n",
      "60000/60000 [==============================] - 1s - loss: 2.3297e-04 - acc: 1.0000 - val_loss: 0.0749 - val_acc: 0.9820\n",
      "Epoch 35/50\n",
      "60000/60000 [==============================] - 1s - loss: 2.1943e-04 - acc: 1.0000 - val_loss: 0.0746 - val_acc: 0.9826\n",
      "Epoch 36/50\n",
      "60000/60000 [==============================] - 1s - loss: 2.0703e-04 - acc: 1.0000 - val_loss: 0.0756 - val_acc: 0.9816\n",
      "Epoch 37/50\n",
      "60000/60000 [==============================] - 1s - loss: 1.9644e-04 - acc: 1.0000 - val_loss: 0.0754 - val_acc: 0.9818\n",
      "Epoch 38/50\n",
      "60000/60000 [==============================] - 1s - loss: 1.8865e-04 - acc: 1.0000 - val_loss: 0.0763 - val_acc: 0.9820\n",
      "Epoch 39/50\n",
      "60000/60000 [==============================] - 1s - loss: 1.7870e-04 - acc: 1.0000 - val_loss: 0.0759 - val_acc: 0.9820\n",
      "Epoch 40/50\n",
      "60000/60000 [==============================] - 1s - loss: 1.7047e-04 - acc: 1.0000 - val_loss: 0.0767 - val_acc: 0.9823\n",
      "Epoch 41/50\n",
      "60000/60000 [==============================] - 1s - loss: 1.6278e-04 - acc: 1.0000 - val_loss: 0.0769 - val_acc: 0.9824\n",
      "Epoch 42/50\n",
      "60000/60000 [==============================] - 1s - loss: 1.5597e-04 - acc: 1.0000 - val_loss: 0.0771 - val_acc: 0.9820\n",
      "Epoch 43/50\n",
      "60000/60000 [==============================] - 1s - loss: 1.4900e-04 - acc: 1.0000 - val_loss: 0.0774 - val_acc: 0.9819\n",
      "Epoch 44/50\n",
      "60000/60000 [==============================] - 1s - loss: 1.4310e-04 - acc: 1.0000 - val_loss: 0.0779 - val_acc: 0.9822\n",
      "Epoch 45/50\n",
      "60000/60000 [==============================] - 1s - loss: 1.3797e-04 - acc: 1.0000 - val_loss: 0.0782 - val_acc: 0.9823\n",
      "Epoch 46/50\n",
      "60000/60000 [==============================] - 1s - loss: 1.3249e-04 - acc: 1.0000 - val_loss: 0.0782 - val_acc: 0.9816\n",
      "Epoch 47/50\n",
      "60000/60000 [==============================] - 1s - loss: 1.2822e-04 - acc: 1.0000 - val_loss: 0.0781 - val_acc: 0.9820\n",
      "Epoch 48/50\n",
      "60000/60000 [==============================] - 1s - loss: 1.2339e-04 - acc: 1.0000 - val_loss: 0.0787 - val_acc: 0.9824\n",
      "Epoch 49/50\n",
      "60000/60000 [==============================] - 1s - loss: 1.1919e-04 - acc: 1.0000 - val_loss: 0.0787 - val_acc: 0.9820\n",
      "Epoch 50/50\n",
      "60000/60000 [==============================] - 1s - loss: 1.1524e-04 - acc: 1.0000 - val_loss: 0.0792 - val_acc: 0.9820\n",
      "@ Total Time Spent: 56.50 seconds\n"
     ]
    }
   ],
   "source": [
    "nb_epoch = 50\n",
    "batch_size = 256\n",
    "start = time.time()\n",
    "h = model1.fit(x=X_train, y=y_train, batch_size=batch_size, epochs=nb_epoch, validation_data=(X_test, y_test), shuffle=True)\n",
    "model1.save('MNIST_model_no_data_augmentation.h5')\n",
    "print('@ Total Time Spent: %.2f seconds' % (time.time() - start))"
   ]
  },
  {
   "cell_type": "code",
   "execution_count": 8,
   "metadata": {
    "collapsed": false
   },
   "outputs": [
    {
     "data": {
      "image/png": "[encoded data removed]",
      "text/plain": [
       "<matplotlib.figure.Figure at 0x213a75e4c50>"
      ]
     },
     "metadata": {},
     "output_type": "display_data"
    }
   ],
   "source": [
    "def plot_acc_loss(h, nb_epoch):\n",
    "    acc, loss, val_acc, val_loss = h.history['acc'], h.history['loss'], h.history['val_acc'], h.history['val_loss']\n",
    "    plt.figure(figsize=(15, 5))\n",
    "    plt.subplot(121)\n",
    "    plt.plot(range(nb_epoch), acc, label='Train')\n",
    "    plt.plot(range(nb_epoch), val_acc, label='Test')\n",
    "    plt.title('Accuracy over ' + str(nb_epoch) + ' Epochs', size=15)\n",
    "    plt.legend()\n",
    "    plt.grid(True)\n",
    "    plt.subplot(122)\n",
    "    plt.plot(range(nb_epoch), loss, label='Train')\n",
    "    plt.plot(range(nb_epoch), val_loss, label='Test')\n",
    "    plt.title('Loss over ' + str(nb_epoch) + ' Epochs', size=15)\n",
    "    plt.legend()\n",
    "    plt.grid(True)\n",
    "    plt.show()\n",
    "    \n",
    "plot_acc_loss(h, nb_epoch)"
   ]
  },
  {
   "cell_type": "markdown",
   "metadata": {},
   "source": [
    "### 可以看到，仅仅使用了两个1024节点的全连接层，就可以让模型在测试集上的准确度达到98%，且耗时不到1分钟。"
   ]
  },
  {
   "cell_type": "code",
   "execution_count": 11,
   "metadata": {
    "collapsed": false
   },
   "outputs": [
    {
     "name": "stdout",
     "output_type": "stream",
     "text": [
      "Training Accuracy = 100.00 %     loss = 0.000110\n",
      "Testing Accuracy = 98.20 %    loss = 0.079164\n"
     ]
    }
   ],
   "source": [
    "loss, accuracy = model1.evaluate(X_train, y_train, verbose=0)\n",
    "print(\"Training Accuracy = %.2f %%     loss = %f\" % (accuracy * 100, loss))\n",
    "loss, accuracy = model1.evaluate(X_test, y_test, verbose=0)\n",
    "print(\"Testing Accuracy = %.2f %%    loss = %f\" % (accuracy * 100, loss))"
   ]
  },
  {
   "cell_type": "markdown",
   "metadata": {},
   "source": [
    "## Model 2 - 卷积神经网络\n",
    "\n",
    "现在让我们来看看如果在模型1的前端加上卷积层，效果会如何。这里用的是在CIFAR10数据集能够达到89%准确率的模型\n",
    "（有一种杀鸡用牛刀的感觉...）"
   ]
  },
  {
   "cell_type": "code",
   "execution_count": 8,
   "metadata": {
    "collapsed": false
   },
   "outputs": [
    {
     "name": "stdout",
     "output_type": "stream",
     "text": [
      "_________________________________________________________________\n",
      "Layer (type)                 Output Shape              Param #   \n",
      "=================================================================\n",
      "input_2 (InputLayer)         (None, 28, 28, 1)         0         \n",
      "_________________________________________________________________\n",
      "conv2d_7 (Conv2D)            (None, 28, 28, 64)        640       \n",
      "_________________________________________________________________\n",
      "conv2d_8 (Conv2D)            (None, 28, 28, 64)        36928     \n",
      "_________________________________________________________________\n",
      "max_pooling2d_4 (MaxPooling2 (None, 14, 14, 64)        0         \n",
      "_________________________________________________________________\n",
      "conv2d_9 (Conv2D)            (None, 14, 14, 128)       73856     \n",
      "_________________________________________________________________\n",
      "conv2d_10 (Conv2D)           (None, 14, 14, 128)       147584    \n",
      "_________________________________________________________________\n",
      "max_pooling2d_5 (MaxPooling2 (None, 7, 7, 128)         0         \n",
      "_________________________________________________________________\n",
      "conv2d_11 (Conv2D)           (None, 7, 7, 256)         295168    \n",
      "_________________________________________________________________\n",
      "conv2d_12 (Conv2D)           (None, 7, 7, 256)         590080    \n",
      "_________________________________________________________________\n",
      "max_pooling2d_6 (MaxPooling2 (None, 3, 3, 256)         0         \n",
      "_________________________________________________________________\n",
      "flatten_2 (Flatten)          (None, 2304)              0         \n",
      "_________________________________________________________________\n",
      "dense_3 (Dense)              (None, 128)               295040    \n",
      "_________________________________________________________________\n",
      "dropout_2 (Dropout)          (None, 128)               0         \n",
      "_________________________________________________________________\n",
      "dense_4 (Dense)              (None, 10)                1290      \n",
      "=================================================================\n",
      "Total params: 1,440,586\n",
      "Trainable params: 1,440,586\n",
      "Non-trainable params: 0\n",
      "_________________________________________________________________\n"
     ]
    }
   ],
   "source": [
    "x = Input(shape=(28, 28, 1))\n",
    "y = x\n",
    "y = Convolution2D(filters=64, kernel_size=3, strides=1, padding='same', activation='relu', kernel_initializer='he_normal')(y)\n",
    "y = Convolution2D(filters=64, kernel_size=3, strides=1, padding='same', activation='relu', kernel_initializer='he_normal')(y)\n",
    "y = MaxPooling2D(pool_size=2, strides=2, padding='valid')(y)\n",
    "\n",
    "y = Convolution2D(filters=128, kernel_size=3, strides=1, padding='same', activation='relu', kernel_initializer='he_normal')(y)\n",
    "y = Convolution2D(filters=128, kernel_size=3, strides=1, padding='same', activation='relu', kernel_initializer='he_normal')(y)\n",
    "y = MaxPooling2D(pool_size=2, strides=2, padding='valid')(y)\n",
    "\n",
    "y = Convolution2D(filters=256, kernel_size=3, strides=1, padding='same', activation='relu', kernel_initializer='he_normal')(y)\n",
    "y = Convolution2D(filters=256, kernel_size=3, strides=1, padding='same', activation='relu', kernel_initializer='he_normal')(y)\n",
    "y = MaxPooling2D(pool_size=2, strides=2, padding='valid')(y)\n",
    "\n",
    "y = Flatten()(y)\n",
    "y = Dense(units=128, activation='relu', kernel_initializer='he_normal')(y)\n",
    "y = Dropout(0.5)(y)\n",
    "y = Dense(units=nb_classes, activation='softmax', kernel_initializer='he_normal')(y)\n",
    "\n",
    "model2 = Model(inputs=x, outputs=y, name='model1')\n",
    "model2.compile(loss='categorical_crossentropy', optimizer='adadelta', metrics=['accuracy'])\n",
    "model2.summary()"
   ]
  },
  {
   "cell_type": "code",
   "execution_count": 9,
   "metadata": {
    "collapsed": true
   },
   "outputs": [
    {
     "name": "stdout",
     "output_type": "stream",
     "text": [
      "Train on 60000 samples, validate on 10000 samples\n",
      "Epoch 1/50\n",
      "60000/60000 [==============================] - 8s - loss: 0.3775 - acc: 0.8781 - val_loss: 0.0828 - val_acc: 0.9747\n",
      "Epoch 2/50\n",
      "60000/60000 [==============================] - 8s - loss: 0.0708 - acc: 0.9795 - val_loss: 0.0432 - val_acc: 0.9854\n",
      "Epoch 3/50\n",
      "60000/60000 [==============================] - 8s - loss: 0.0481 - acc: 0.9866 - val_loss: 0.0271 - val_acc: 0.9911\n",
      "Epoch 4/50\n",
      "60000/60000 [==============================] - 8s - loss: 0.0348 - acc: 0.9891 - val_loss: 0.0227 - val_acc: 0.9932\n",
      "Epoch 5/50\n",
      "60000/60000 [==============================] - 8s - loss: 0.0273 - acc: 0.9921 - val_loss: 0.0208 - val_acc: 0.9926\n",
      "Epoch 6/50\n",
      "60000/60000 [==============================] - 8s - loss: 0.0221 - acc: 0.9931 - val_loss: 0.0256 - val_acc: 0.9927\n",
      "Epoch 7/50\n",
      "60000/60000 [==============================] - 8s - loss: 0.0184 - acc: 0.9947 - val_loss: 0.0172 - val_acc: 0.9947\n",
      "Epoch 8/50\n",
      "60000/60000 [==============================] - 8s - loss: 0.0157 - acc: 0.9953 - val_loss: 0.0176 - val_acc: 0.9943\n",
      "Epoch 9/50\n",
      "60000/60000 [==============================] - 8s - loss: 0.0116 - acc: 0.9961 - val_loss: 0.0198 - val_acc: 0.9947\n",
      "Epoch 10/50\n",
      "60000/60000 [==============================] - 8s - loss: 0.0096 - acc: 0.9968 - val_loss: 0.0184 - val_acc: 0.9946\n",
      "Epoch 11/50\n",
      "60000/60000 [==============================] - 8s - loss: 0.0091 - acc: 0.9970 - val_loss: 0.0205 - val_acc: 0.9942\n",
      "Epoch 12/50\n",
      "60000/60000 [==============================] - 8s - loss: 0.0067 - acc: 0.9978 - val_loss: 0.0204 - val_acc: 0.9943\n",
      "Epoch 13/50\n",
      "60000/60000 [==============================] - 8s - loss: 0.0061 - acc: 0.9982 - val_loss: 0.0165 - val_acc: 0.9958\n",
      "Epoch 14/50\n",
      "60000/60000 [==============================] - 8s - loss: 0.0053 - acc: 0.9983 - val_loss: 0.0247 - val_acc: 0.9926\n",
      "Epoch 15/50\n",
      "60000/60000 [==============================] - 8s - loss: 0.0049 - acc: 0.9984 - val_loss: 0.0211 - val_acc: 0.9946\n",
      "Epoch 16/50\n",
      "60000/60000 [==============================] - 8s - loss: 0.0045 - acc: 0.9986 - val_loss: 0.0210 - val_acc: 0.9947\n",
      "Epoch 17/50\n",
      "60000/60000 [==============================] - 8s - loss: 0.0040 - acc: 0.9985 - val_loss: 0.0222 - val_acc: 0.9946\n",
      "Epoch 18/50\n",
      "60000/60000 [==============================] - 8s - loss: 0.0038 - acc: 0.9988 - val_loss: 0.0242 - val_acc: 0.9949\n",
      "Epoch 19/50\n",
      "60000/60000 [==============================] - 8s - loss: 0.0031 - acc: 0.9990 - val_loss: 0.0239 - val_acc: 0.9950\n",
      "Epoch 20/50\n",
      "60000/60000 [==============================] - 8s - loss: 0.0032 - acc: 0.9990 - val_loss: 0.0221 - val_acc: 0.9949\n",
      "Epoch 21/50\n",
      "60000/60000 [==============================] - 8s - loss: 0.0023 - acc: 0.9992 - val_loss: 0.0213 - val_acc: 0.9950\n",
      "Epoch 22/50\n",
      "60000/60000 [==============================] - 8s - loss: 0.0018 - acc: 0.9995 - val_loss: 0.0206 - val_acc: 0.9951\n",
      "Epoch 23/50\n",
      "60000/60000 [==============================] - 8s - loss: 0.0028 - acc: 0.9990 - val_loss: 0.0238 - val_acc: 0.9956\n",
      "Epoch 24/50\n",
      "60000/60000 [==============================] - 8s - loss: 0.0016 - acc: 0.9995 - val_loss: 0.0261 - val_acc: 0.9956\n",
      "Epoch 25/50\n",
      "60000/60000 [==============================] - 8s - loss: 0.0018 - acc: 0.9994 - val_loss: 0.0309 - val_acc: 0.9941\n",
      "Epoch 26/50\n",
      "60000/60000 [==============================] - 8s - loss: 9.9579e-04 - acc: 0.9996 - val_loss: 0.0269 - val_acc: 0.9953\n",
      "Epoch 27/50\n",
      "60000/60000 [==============================] - 8s - loss: 0.0016 - acc: 0.9995 - val_loss: 0.0262 - val_acc: 0.9951\n",
      "Epoch 28/50\n",
      "60000/60000 [==============================] - 8s - loss: 0.0018 - acc: 0.9994 - val_loss: 0.0273 - val_acc: 0.9951\n",
      "Epoch 29/50\n",
      "60000/60000 [==============================] - 8s - loss: 0.0013 - acc: 0.9996 - val_loss: 0.0264 - val_acc: 0.9947\n",
      "Epoch 30/50\n",
      "60000/60000 [==============================] - 8s - loss: 9.1219e-04 - acc: 0.9997 - val_loss: 0.0312 - val_acc: 0.9939\n",
      "Epoch 31/50\n",
      "60000/60000 [==============================] - 8s - loss: 8.3112e-04 - acc: 0.9998 - val_loss: 0.0324 - val_acc: 0.9930\n",
      "Epoch 32/50\n",
      "60000/60000 [==============================] - 8s - loss: 8.9540e-04 - acc: 0.9997 - val_loss: 0.0275 - val_acc: 0.9949\n",
      "Epoch 33/50\n",
      "60000/60000 [==============================] - 8s - loss: 0.0014 - acc: 0.9995 - val_loss: 0.0287 - val_acc: 0.9952\n",
      "Epoch 34/50\n",
      "60000/60000 [==============================] - 8s - loss: 0.0011 - acc: 0.9996 - val_loss: 0.0221 - val_acc: 0.9961\n",
      "Epoch 35/50\n",
      "60000/60000 [==============================] - 8s - loss: 8.4860e-04 - acc: 0.9997 - val_loss: 0.0322 - val_acc: 0.9951\n",
      "Epoch 36/50\n",
      "60000/60000 [==============================] - 8s - loss: 0.0014 - acc: 0.9996 - val_loss: 0.0302 - val_acc: 0.9946\n",
      "Epoch 37/50\n",
      "60000/60000 [==============================] - 8s - loss: 7.5141e-04 - acc: 0.9998 - val_loss: 0.0277 - val_acc: 0.9954\n",
      "Epoch 38/50\n",
      "60000/60000 [==============================] - 8s - loss: 4.6628e-04 - acc: 0.9999 - val_loss: 0.0300 - val_acc: 0.9951\n",
      "Epoch 39/50\n",
      "60000/60000 [==============================] - 8s - loss: 5.8248e-04 - acc: 0.9999 - val_loss: 0.0360 - val_acc: 0.9946\n",
      "Epoch 40/50\n",
      "60000/60000 [==============================] - 8s - loss: 4.6957e-04 - acc: 0.9998 - val_loss: 0.0304 - val_acc: 0.9949\n",
      "Epoch 41/50\n",
      "60000/60000 [==============================] - 8s - loss: 2.9024e-04 - acc: 0.9999 - val_loss: 0.0317 - val_acc: 0.9954\n",
      "Epoch 42/50\n",
      "60000/60000 [==============================] - 8s - loss: 4.3539e-04 - acc: 0.9999 - val_loss: 0.0353 - val_acc: 0.9956\n",
      "Epoch 43/50\n",
      "60000/60000 [==============================] - 8s - loss: 5.8100e-04 - acc: 0.9998 - val_loss: 0.0326 - val_acc: 0.9953\n",
      "Epoch 44/50\n",
      "60000/60000 [==============================] - 8s - loss: 6.0035e-04 - acc: 0.9998 - val_loss: 0.0300 - val_acc: 0.9948\n",
      "Epoch 45/50\n",
      "60000/60000 [==============================] - 8s - loss: 5.4690e-04 - acc: 0.9998 - val_loss: 0.0296 - val_acc: 0.9948\n",
      "Epoch 46/50\n",
      "60000/60000 [==============================] - 8s - loss: 8.5087e-04 - acc: 0.9997 - val_loss: 0.0348 - val_acc: 0.9955\n",
      "Epoch 47/50\n",
      "60000/60000 [==============================] - 8s - loss: 9.2257e-04 - acc: 0.9996 - val_loss: 0.0299 - val_acc: 0.9950\n",
      "Epoch 48/50\n",
      "60000/60000 [==============================] - 8s - loss: 9.2295e-04 - acc: 0.9998 - val_loss: 0.0258 - val_acc: 0.9954\n",
      "Epoch 49/50\n",
      "60000/60000 [==============================] - 8s - loss: 1.3730e-04 - acc: 1.0000 - val_loss: 0.0282 - val_acc: 0.9959\n",
      "Epoch 50/50\n",
      "60000/60000 [==============================] - 8s - loss: 6.3804e-05 - acc: 1.0000 - val_loss: 0.0272 - val_acc: 0.9957\n",
      "@ Total Time Spent: 430.37 seconds\n"
     ]
    }
   ],
   "source": [
    "nb_epoch = 50\n",
    "batch_size = 256\n",
    "start = time.time()\n",
    "h = model2.fit(x=X_train, y=y_train, batch_size=batch_size, epochs=nb_epoch, validation_data=(X_test, y_test), shuffle=True)\n",
    "model2.save('MNIST_model_no_data_augmentation_CNN.h5')\n",
    "print('@ Total Time Spent: %.2f seconds' % (time.time() - start))"
   ]
  },
  {
   "cell_type": "code",
   "execution_count": 11,
   "metadata": {
    "collapsed": false
   },
   "outputs": [
    {
     "data": {
      "image/png": "[encoded data removed]",
      "text/plain": [
       "<matplotlib.figure.Figure at 0x1bfb0a0e588>"
      ]
     },
     "metadata": {},
     "output_type": "display_data"
    }
   ],
   "source": [
    "plot_acc_loss(h, nb_epoch)"
   ]
  },
  {
   "cell_type": "markdown",
   "metadata": {},
   "source": [
    "### 可以看到，使用CNN的模型收敛速度要快的多，经过50代训练，可以达到99.5%的准确率，训练用时460秒。"
   ]
  },
  {
   "cell_type": "code",
   "execution_count": 13,
   "metadata": {
    "collapsed": false
   },
   "outputs": [
    {
     "name": "stdout",
     "output_type": "stream",
     "text": [
      "Training Accuracy = 100.00 %     loss = 0.000001\n",
      "Testing Accuracy = 99.57 %    loss = 0.027190\n"
     ]
    }
   ],
   "source": [
    "loss, accuracy = model2.evaluate(X_train, y_train, verbose=0)\n",
    "print(\"Training Accuracy = %.2f %%     loss = %f\" % (accuracy * 100, loss))\n",
    "loss, accuracy = model2.evaluate(X_test, y_test, verbose=0)\n",
    "print(\"Testing Accuracy = %.2f %%    loss = %f\" % (accuracy * 100, loss))"
   ]
  },
  {
   "cell_type": "markdown",
   "metadata": {},
   "source": [
    "## Visualizations"
   ]
  },
  {
   "cell_type": "code",
   "execution_count": 17,
   "metadata": {
    "collapsed": false
   },
   "outputs": [
    {
     "data": {
      "image/png": "[encoded data removed]",
      "text/plain": [
       "<matplotlib.figure.Figure at 0x1bfcfbcbcf8>"
      ]
     },
     "metadata": {},
     "output_type": "display_data"
    }
   ],
   "source": [
    "import numpy as np\n",
    "rand_id = np.random.choice(range(10000), size=10)\n",
    "X_pred = np.array([X_test[i] for i in rand_id])\n",
    "y_true = [y_test[i] for i in rand_id]\n",
    "y_true = np.argmax(y_true, axis=1)\n",
    "y_pred = model2.predict(X_pred)\n",
    "y_pred = np.argmax(y_pred, axis=1)\n",
    "plt.figure(figsize=(15, 7))\n",
    "for i in range(10):\n",
    "    plt.subplot(2, 5, i + 1)\n",
    "    plt.imshow(X_pred[i].reshape(28, 28), cmap='gray')\n",
    "    plt.title('True: %s \\n Pred: %s' % (y_true[i], y_pred[i]), size=15)\n",
    "plt.show()    "
   ]
  },
  {
   "cell_type": "markdown",
   "metadata": {},
   "source": [
    "## Summary"
   ]
  },
  {
   "cell_type": "markdown",
   "metadata": {},
   "source": [
    "Model | Accuracy (Train) | Accracy (Test) | Epochs | Time\n",
    "----  | ----             | ----           | ----   | ---\n",
    "MLP: FC(1024, 1024) | 100% | 98% | 50  | 56s\n",
    "Conv (64, 64, 128, 128, 256, 256), FC(128) | 100% | 99.5% | 50 | 460s"
   ]
  }
 ],
 "metadata": {
  "kernelspec": {
   "display_name": "Python 3",
   "language": "python",
   "name": "python3"
  },
  "language_info": {
   "codemirror_mode": {
    "name": "ipython",
    "version": 3
   },
   "file_extension": ".py",
   "mimetype": "text/x-python",
   "name": "python",
   "nbconvert_exporter": "python",
   "pygments_lexer": "ipython3",
   "version": "3.5.3"
  }
 },
 "nbformat": 4,
 "nbformat_minor": 2
}
