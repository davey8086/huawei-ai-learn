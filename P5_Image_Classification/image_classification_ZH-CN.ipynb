{
 "cells": [
  {
   "cell_type": "markdown",
   "metadata": {},
   "source": [
    "\n",
    "# 图像分类\n",
    "\n",
    "在该项目中，你将会对来自 [CIFAR-10 数据集](https://www.cs.toronto.edu/~kriz/cifar.html) 中的图像进行分类。数据集中图片的内容包括飞机（airplane）、狗（dogs）、猫（cats）及其他物体。你需要处理这些图像，接着对所有的样本训练一个卷积神经网络。\n",
    "\n",
    "具体而言，在项目中你要对图像进行正规化处理（normalization)，同时还要对图像的标签进行 one-hot 编码。接着你将会应用到你所学的技能来搭建一个具有卷积层、最大池化（Max Pooling）层、Dropout  层及全连接（fully connected）层的神经网络。最后，你会训练你的神经网络，会得到你神经网络在样本图像上的预测结果。\n",
    "\n",
    "## 下载数据\n",
    "\n",
    "运行如下代码下载 [CIFAR-10 dataset for python](https://www.cs.toronto.edu/~kriz/cifar-10-python.tar.gz)。"
   ]
  },
  {
   "cell_type": "code",
   "execution_count": 2,
   "metadata": {},
   "outputs": [
    {
     "name": "stderr",
     "output_type": "stream",
     "text": [
      "CIFAR-10 Dataset: 171MB [01:13, 2.32MB/s]                                                        \n"
     ]
    },
    {
     "name": "stdout",
     "output_type": "stream",
     "text": [
      "All files found!\n"
     ]
    }
   ],
   "source": [
    "\"\"\"\n",
    "DON'T MODIFY ANYTHING IN THIS CELL THAT IS BELOW THIS LINE\n",
    "\"\"\"\n",
    "from urllib.request import urlretrieve\n",
    "from os.path import isfile, isdir\n",
    "from tqdm import tqdm\n",
    "import problem_unittests as tests\n",
    "import tarfile\n",
    "\n",
    "cifar10_dataset_folder_path = 'cifar-10-batches-py'\n",
    "\n",
    "class DLProgress(tqdm):\n",
    "    last_block = 0\n",
    "\n",
    "    def hook(self, block_num=1, block_size=1, total_size=None):\n",
    "        self.total = total_size\n",
    "        self.update((block_num - self.last_block) * block_size)\n",
    "        self.last_block = block_num\n",
    "\n",
    "if not isfile('cifar-10-python.tar.gz'):\n",
    "    with DLProgress(unit='B', unit_scale=True, miniters=1, desc='CIFAR-10 Dataset') as pbar:\n",
    "        urlretrieve(\n",
    "            'https://www.cs.toronto.edu/~kriz/cifar-10-python.tar.gz',\n",
    "            'cifar-10-python.tar.gz',\n",
    "            pbar.hook)\n",
    "\n",
    "if not isdir(cifar10_dataset_folder_path):\n",
    "    with tarfile.open('cifar-10-python.tar.gz') as tar:\n",
    "        tar.extractall()\n",
    "        tar.close()\n",
    "\n",
    "\n",
    "tests.test_folder_path(cifar10_dataset_folder_path)"
   ]
  },
  {
   "cell_type": "markdown",
   "metadata": {},
   "source": [
    "## 探索数据集\n",
    "\n",
    "\n",
    "为防止在运行过程中内存不足的问题，该数据集已经事先被分成了5批（batch），名为`data_batch_1`、`data_batch_2`等。每一批中都含有 *图像* 及对应的 *标签*，都是如下类别中的一种：\n",
    "\n",
    "* 飞机\n",
    "* 汽车\n",
    "* 鸟\n",
    "* 鹿\n",
    "* 狗\n",
    "* 青蛙\n",
    "* 马\n",
    "* 船\n",
    "* 卡车\n",
    "\n",
    "理解数据集也是对数据进行预测的一部分。修改如下代码中的 `batch_id` 和 `sample_id`，看看输出的图像是什么样子。其中，`batch_id` 代表着批次数（1-5），`sample_id` 代表着在该批内图像及标签的编号。\n",
    "\n",
    "你可以尝试回答如下问题：\n",
    "* 可能出现的 *标签* 都包括哪些？\n",
    "* 图像数据的取值范围是多少？\n",
    "* *标签* 的排列顺序是随机的还是有序的？\n",
    "\n",
    "对这些问题的回答，会有助于更好地处理数据，并能更好地进行预测。"
   ]
  },
  {
   "cell_type": "code",
   "execution_count": 18,
   "metadata": {},
   "outputs": [
    {
     "name": "stdout",
     "output_type": "stream",
     "text": [
      "\n",
      "Stats of batch 5:\n",
      "Samples: 10000\n",
      "Label Counts: {0: 1014, 1: 1014, 2: 952, 3: 1016, 4: 997, 5: 1025, 6: 980, 7: 977, 8: 1003, 9: 1022}\n",
      "First 20 Labels: [1, 8, 5, 1, 5, 7, 4, 3, 8, 2, 7, 2, 0, 1, 5, 9, 6, 2, 0, 8]\n",
      "\n",
      "Example of Image 9999:\n",
      "Image - Min Value: 4 Max Value: 255\n",
      "Image - Shape: (32, 32, 3)\n",
      "Label - Label Id: 1 Name: automobile\n"
     ]
    },
    {
     "data": {
      "image/png": "[encoded data removed]",
      "text/plain": [
       "<matplotlib.figure.Figure at 0x1f8fae7b0b8>"
      ]
     },
     "metadata": {
      "image/png": {
       "height": 250,
       "width": 253
      }
     },
     "output_type": "display_data"
    }
   ],
   "source": [
    "%matplotlib inline\n",
    "%config InlineBackend.figure_format = 'retina'\n",
    "\n",
    "import helper\n",
    "import numpy as np\n",
    "\n",
    "# Explore the dataset\n",
    "batch_id = 5\n",
    "sample_id = 9999\n",
    "helper.display_stats(cifar10_dataset_folder_path, batch_id, sample_id)"
   ]
  },
  {
   "cell_type": "markdown",
   "metadata": {},
   "source": [
    "## 图像预处理功能的实现\n",
    "### 正规化\n",
    "\n",
    "在如下的代码中，修改 `normalize` 函数，使之能够对输入的图像数据 `x` 进行处理，输出一个经过正规化的、Numpy array 格式的图像数据。\n",
    "\n",
    "**注意：**\n",
    "处理后的值应当在 $[0,1]$ 的范围之内。返回值应当和输入值具有相同的形状。"
   ]
  },
  {
   "cell_type": "code",
   "execution_count": 10,
   "metadata": {},
   "outputs": [
    {
     "name": "stdout",
     "output_type": "stream",
     "text": [
      "Tests Passed\n"
     ]
    }
   ],
   "source": [
    "\n",
    "def normalize(x):\n",
    "    \"\"\"\n",
    "    Normalize a list of sample image data in the range of 0 to 1\n",
    "    : x: List of image data.  The image shape is (32, 32, 3)\n",
    "    : return: Numpy array of normalize data\n",
    "    \"\"\"\n",
    "    # TODO: Implement Function\n",
    "    return (x - np.min(x))/(np.max(x) - np.min(x))\n",
    "\n",
    "\n",
    "\"\"\"\n",
    "DON'T MODIFY ANYTHING IN THIS CELL THAT IS BELOW THIS LINE\n",
    "\"\"\"\n",
    "tests.test_normalize(normalize)"
   ]
  },
  {
   "cell_type": "markdown",
   "metadata": {},
   "source": [
    "### One-hot 编码\n",
    "\n",
    "在如下代码中，你将继续实现预处理的功能，实现一个 `one_hot_encode` 函数。函数的输入 `x` 是 *标签* 构成的列表，返回值是经过 One_hot 处理过后的这列 *标签* 对应的 One_hot 编码，以 Numpy array 储存。其中，*标签* 的取值范围从0到9。每次调用该函数时，对相同的标签值，它输出的编码也是相同的。请确保在函数外保存编码的映射（map of encodings）。\n",
    "\n",
    "**提示：**\n",
    "\n",
    "你可以尝试使用 sklearn preprocessing 模块中的 `LabelBinarizer` 函数。"
   ]
  },
  {
   "cell_type": "code",
   "execution_count": 13,
   "metadata": {},
   "outputs": [
    {
     "name": "stdout",
     "output_type": "stream",
     "text": [
      "Tests Passed\n"
     ]
    }
   ],
   "source": [
    "from sklearn.preprocessing import LabelBinarizer\n",
    "# 预先训练好encoder，确保一定会编码为十类\n",
    "lb = LabelBinarizer()\n",
    "lb.fit([0, 1, 2, 3, 4, 5, 6, 7, 8, 9])\n",
    "\n",
    "def one_hot_encode(x):\n",
    "    \"\"\"\n",
    "    One hot encode a list of sample labels. Return a one-hot encoded vector for each label.\n",
    "    : x: List of sample Labels\n",
    "    : return: Numpy array of one-hot encoded labels\n",
    "    \"\"\"\n",
    "    # TODO: Implement Function\n",
    "    return lb.transform(x)\n",
    "\n",
    "\n",
    "\"\"\"\n",
    "DON'T MODIFY ANYTHING IN THIS CELL THAT IS BELOW THIS LINE\n",
    "\"\"\"\n",
    "tests.test_one_hot_encode(one_hot_encode)"
   ]
  },
  {
   "cell_type": "markdown",
   "metadata": {},
   "source": [
    "### 随机打乱数据\n",
    "\n",
    "正如你在上方探索数据部分所看到的，样本的顺序已经被随机打乱了。尽管再随机处理一次也没问题，不过对于该数据我们没必要再进行一次相关操作了。"
   ]
  },
  {
   "cell_type": "markdown",
   "metadata": {},
   "source": [
    "## 对所有图像数据进行预处理并保存结果\n",
    "\n",
    "运行如下代码，它将会预处理所有的 CIFAR-10 数据并将它另存为文件。此外，如下的代码还将会把 10% 的训练数据留出作为验证数据。"
   ]
  },
  {
   "cell_type": "code",
   "execution_count": 19,
   "metadata": {
    "collapsed": true
   },
   "outputs": [],
   "source": [
    "\"\"\"\n",
    "DON'T MODIFY ANYTHING IN THIS CELL\n",
    "\"\"\"\n",
    "# Preprocess Training, Validation, and Testing Data\n",
    "helper.preprocess_and_save_data(cifar10_dataset_folder_path, normalize, one_hot_encode)"
   ]
  },
  {
   "cell_type": "markdown",
   "metadata": {},
   "source": [
    "# 检查点\n",
    "\n",
    "这是你的首个检查点。因为预处理完的数据已经被保存到硬盘上了，所以如果你需要回顾或重启该 notebook，你可以在这里重新开始。"
   ]
  },
  {
   "cell_type": "code",
   "execution_count": 1,
   "metadata": {},
   "outputs": [
    {
     "name": "stdout",
     "output_type": "stream",
     "text": [
      "features Dimension:  (5000, 32, 32, 3)\n",
      "labels Dimension (5000, 10)\n",
      "Example: label for #0 image is [0 0 0 0 1 0 0 0 0 0]\n"
     ]
    }
   ],
   "source": [
    "\"\"\"\n",
    "DON'T MODIFY ANYTHING IN THIS CELL\n",
    "\"\"\"\n",
    "import pickle\n",
    "import problem_unittests as tests\n",
    "import helper\n",
    "\n",
    "# Load the Preprocessed Validation data\n",
    "valid_features, valid_labels = pickle.load(open('preprocess_validation.p', mode='rb'))\n",
    "\n",
    "print(\"features Dimension: \", valid_features.shape)\n",
    "print(\"labels Dimension\", valid_labels.shape)\n",
    "print(\"Example: label for #0 image is\", valid_labels[0,:])"
   ]
  },
  {
   "cell_type": "markdown",
   "metadata": {},
   "source": [
    "## 搭建神经网络\n",
    "\n",
    "为搭建神经网络，你需要将搭建每一层的过程封装到一个函数中。大部分的代码你在函数外已经见过。为能够更透彻地测试你的代码，我们要求你把每一层都封装到一个函数中。这能够帮助我们给予你更好的回复，同时还能让我们使用 unittests 在你提交报告前检测出你项目中的小问题。\n",
    "\n",
    ">**注意：** 如果你时间紧迫，那么在该部分我们为你提供了一个便捷方法。在接下来的一些问题中，你可以使用来自 [TensorFlow Layers](https://www.tensorflow.org/api_docs/python/tf/layers) 或 [TensorFlow Layers (contrib)](https://www.tensorflow.org/api_guides/python/contrib.layers) 包中的函数来搭建各层，不过不可以用他们搭建卷积-最大池化层。TF Layers 和 Keras 及 TFLean 中对层的抽象比较相似，所以你应该很容易上手。\n",
    "\n",
    "> 不过，如果你希望能够更多地实践，我们希望你能够在**不**使用 TF Layers 的情况下解决所有问题。你依然**能**使用来自其他包但和 layers 中重名的函数。例如，你可以使用 TF Neural Network 版本的 `conv_2d`[tf.nn.conv2d](https://www.tensorflow.org/api_docs/python/tf/nn/conv2d). \n",
    "\n",
    "让我们开始吧！\n",
    "\n",
    "### 输入\n",
    "\n",
    "神经网络需要能够读取图像数据、经 one-hot 编码之后的标签及 dropout 中的保留概率。修改如下函数：\n",
    "\n",
    "* 修改 `neural_net_image_input` 函数：\n",
    " * 返回 [TF Placeholder](https://www.tensorflow.org/api_docs/python/tf/placeholder)。\n",
    " * 使用 `image_shape` 设定形状，设定批大小（batch size)为 `None`。\n",
    " * 使用 [TF Placeholder](https://www.tensorflow.org/api_docs/python/tf/placeholder) 中的 `Name` 参数，命名该 TensorFlow placeholder 为 \"x\"。\n",
    "\n",
    "\n",
    "* 修改 `neural_net_label_input` 函数： \n",
    " * 返回 [TF Placeholder](https://www.tensorflow.org/api_docs/python/tf/placeholder)。\n",
    " * 使用 `n_classes` 设定形状，设定批大小（batch size)为 `None`。\n",
    " * 使用 [TF Placeholder](https://www.tensorflow.org/api_docs/python/tf/placeholder) 中的 `Name` 参数，命名该 TensorFlow placeholder 为 \"y\"。\n",
    "\n",
    "\n",
    "* 修改 `neural_net_keep_prob_input` 函数：\n",
    " * 返回 [TF Placeholder](https://www.tensorflow.org/api_docs/python/tf/placeholder) 作为 dropout 的保留概率（keep probability）。\n",
    " * 使用 [TF Placeholder](https://www.tensorflow.org/api_docs/python/tf/placeholder) 中的 `Name` 参数，命名该 TensorFlow placeholder 为 \"keep_prob\"。\n",
    " \n",
    "我们会在项目最后使用这些名字，来载入你储存的模型。\n",
    "\n",
    "**注意：**在 TensorFlow 中，对形状设定为 `None`，能帮助设定一个动态的大小。"
   ]
  },
  {
   "cell_type": "code",
   "execution_count": 2,
   "metadata": {},
   "outputs": [
    {
     "name": "stdout",
     "output_type": "stream",
     "text": [
      "Image Input Tests Passed.\n",
      "Label Input Tests Passed.\n",
      "Keep Prob Tests Passed.\n"
     ]
    }
   ],
   "source": [
    "import tensorflow as tf\n",
    "\n",
    "# 整个网络的输入尺寸：\n",
    "# 第一维：batch的大小（就是样本数量，比如128张样本图）\n",
    "# 第二维：长\n",
    "# 第三维：宽\n",
    "# 第四维：颜色通道数（一般都是RGB图片，因此是三个通道）\n",
    "def neural_net_image_input(image_shape):\n",
    "    \"\"\"\n",
    "    Return a Tensor for a batch of image input\n",
    "    : image_shape: Shape of the images\n",
    "    : return: Tensor for image input.\n",
    "    \"\"\"\n",
    "    # TODO: Implement Function\n",
    "    return tf.placeholder(tf.float32, shape=[None, image_shape[0], image_shape[1], image_shape[2]], name='x')\n",
    "    # 用加号性质合并，语法更简洁\n",
    "    return tf.placeholder(tf.float32, shape=[[None,] + image_shape], name='x')\n",
    "    # TensorFlow的shape参数既允许list也允许tuple类型\n",
    "    return tf.placeholder(tf.float32, shape=((None,) + image_shape), name='x')   \n",
    "\n",
    "# 整个网络的输出结果\n",
    "# 第一维：样本（对应于输入的每一张样本图）\n",
    "# 第二维：分类号（由于采用onehot编码，因此有多少种分类这个维度就有多长）\n",
    "def neural_net_label_input(n_classes):\n",
    "    \"\"\"\n",
    "    Return a Tensor for a batch of label input\n",
    "    : n_classes: Number of classes\n",
    "    : return: Tensor for label input.\n",
    "    \"\"\"\n",
    "    # TODO: Implement Function\n",
    "    return tf.placeholder(tf.float32, shape=[None, n_classes], name='y')\n",
    "\n",
    "# Drop-out专用\n",
    "def neural_net_keep_prob_input():\n",
    "    \"\"\"\n",
    "    Return a Tensor for keep probability\n",
    "    : return: Tensor for keep probability.\n",
    "    \"\"\"\n",
    "    # TODO: Implement Function\n",
    "    return tf.placeholder(tf.float32, name='keep_prob')\n",
    "\n",
    "\n",
    "\"\"\"\n",
    "DON'T MODIFY ANYTHING IN THIS CELL THAT IS BELOW THIS LINE\n",
    "\"\"\"\n",
    "tf.reset_default_graph()\n",
    "tests.test_nn_image_inputs(neural_net_image_input)\n",
    "tests.test_nn_label_inputs(neural_net_label_input)\n",
    "tests.test_nn_keep_prob_inputs(neural_net_keep_prob_input)"
   ]
  },
  {
   "cell_type": "markdown",
   "metadata": {},
   "source": [
    "### 卷积-最大池（Convolution and Max Pooling）化层\n",
    "\n",
    "卷积层在图像处理中取得了不小的成功。在这部分的代码中，你需要修改 `conv2d_maxpool` 函数来先后实现卷积及最大池化的功能。\n",
    "\n",
    "* 使用 `conv_ksize`、`conv_num_outputs` 及 `x_tensor` 来创建权重（weight）及偏差（bias）变量。\n",
    "* 对 `x_tensor` 进行卷积，使用 `conv_strides` 及*权重*。\n",
    " * 我们建议使用 SAME padding，不过你也可尝试其他 padding 模式。 \n",
    "\n",
    "\n",
    "* 加上*偏差*。\n",
    "* 对卷积结果加上一个非线性函数作为激活层。\n",
    "* 基于 `pool_ksize` 及 `pool_strides` 进行最大池化。\n",
    " * 我们建议使用 SAME padding，不过你也可尝试其他 padding 模式。\n",
    "\n",
    "\n",
    "**注意：**\n",
    "你**不**可以使用来自 [TensorFlow Layers](https://www.tensorflow.org/api_docs/python/tf/layers) 或 [TensorFlow Layers (contrib)](https://www.tensorflow.org/api_guides/python/contrib.layers) 包中的函数来实现**这一层**的功能。但是你可以使用 TensorFlow 的[Neural Network](https://www.tensorflow.org/api_docs/python/tf/nn)包。\n",
    "\n",
    "对于如上的快捷方法，你在**其他层**中可以尝试使用。\n",
    "\n",
    "\n",
    "**提示：**\n",
    "当你在 Python 中希望展开（unpacking）某个变量的值作为函数的参数，你可以参考 [unpacking](https://docs.python.org/3/tutorial/controlflow.html#unpacking-argument-lists) 运算符。"
   ]
  },
  {
   "cell_type": "code",
   "execution_count": 3,
   "metadata": {
    "collapsed": true
   },
   "outputs": [],
   "source": [
    "# 权重初始值的方差会影响准确率\n",
    "global_stddev = 0.01"
   ]
  },
  {
   "cell_type": "code",
   "execution_count": 4,
   "metadata": {},
   "outputs": [
    {
     "name": "stdout",
     "output_type": "stream",
     "text": [
      "Tests Passed\n"
     ]
    }
   ],
   "source": [
    "def conv2d_maxpool(x_tensor, conv_num_outputs, conv_ksize, conv_strides, pool_ksize, pool_strides):\n",
    "    \"\"\"\n",
    "    Apply convolution then max pooling to x_tensor\n",
    "    :param x_tensor: TensorFlow Tensor\n",
    "    :param conv_num_outputs: Number of outputs for the convolutional layer\n",
    "    :param conv_ksize: kernal size 2-D Tuple for the convolutional layer\n",
    "    :param conv_strides: Stride 2-D Tuple for convolution\n",
    "    :param pool_ksize: kernal size 2-D Tuple for pool\n",
    "    :param pool_strides: Stride 2-D Tuple for pool\n",
    "    : return: A tensor that represents convolution and max pooling of x_tensor\n",
    "    \"\"\"\n",
    "    # 初始化卷积层的weight和bias矩阵\n",
    "    # x_tensor shape = [batch, height, width, depth]\n",
    "    # weight = height * width * depth * output ~ init at normal distribution N(0, 0.01)\n",
    "    # bias = output ~ init at 0\n",
    "    depth = x_tensor.shape[3].value\n",
    "    weight_shape = [conv_ksize[0], conv_ksize[1], depth, conv_num_outputs]\n",
    "    weight_init_val = tf.truncated_normal(weight_shape, mean=0, stddev=global_stddev)\n",
    "    # Define variables\n",
    "    weight = tf.Variable(weight_init_val)\n",
    "    bias = tf.Variable(tf.zeros(conv_num_outputs))\n",
    "    \n",
    "    # 执行二维卷积（根据给定输入以及滤波器尺寸、扫描方式）\n",
    "    # stride = [batch, height, width, depth]\n",
    "    # Apply stride only to height and width: [1, x, x, 1]\n",
    "    stride = [1, conv_strides[0], conv_strides[1], 1]\n",
    "    y = tf.nn.conv2d(input=x_tensor, filter=weight, strides=stride, padding='SAME')\n",
    "    y = tf.nn.bias_add(y, bias)\n",
    "    \n",
    "    # 送入非线性激活函数产生概率值\n",
    "    y = tf.nn.relu(y)\n",
    "    \n",
    "    # 用最大池化处理数据（根据给定的池化滤波器尺寸和扫描方式）\n",
    "    filter_shape = [1, pool_ksize[0], pool_ksize[1], 1]\n",
    "    stride = [1, pool_strides[0], pool_strides[1], 1]\n",
    "    y = tf.nn.max_pool(y, ksize=filter_shape, strides=stride, padding='SAME')\n",
    "    \n",
    "    # 返回最后的输出结果\n",
    "    return y\n",
    "\n",
    "\n",
    "\"\"\"\n",
    "DON'T MODIFY ANYTHING IN THIS CELL THAT IS BELOW THIS LINE\n",
    "\"\"\"\n",
    "tests.test_con_pool(conv2d_maxpool)"
   ]
  },
  {
   "cell_type": "markdown",
   "metadata": {},
   "source": [
    "### 展开层\n",
    "\n",
    "修改 `flatten` 函数，来将4维的输入张量 `x_tensor` 转换为一个二维的张量。输出的形状应当是 `(Batch Size, Flattened Image Size)`。\n",
    "快捷方法：你可以使用来自 [TensorFlow Layers](https://www.tensorflow.org/api_docs/python/tf/layers) 或 [TensorFlow Layers (contrib)](https://www.tensorflow.org/api_guides/python/contrib.layers) 包中的函数来实现该功能。不过你也可以只使用 TensorFlow 包中的函数来挑战自己。"
   ]
  },
  {
   "cell_type": "code",
   "execution_count": 5,
   "metadata": {},
   "outputs": [
    {
     "name": "stdout",
     "output_type": "stream",
     "text": [
      "Tests Passed\n"
     ]
    }
   ],
   "source": [
    "import numpy as np\n",
    "def flatten(x_tensor):\n",
    "    \"\"\"\n",
    "    Flatten x_tensor to (Batch Size, Flattened Image Size)\n",
    "    : x_tensor: A tensor of size (Batch Size, ...), where ... are the image dimensions.\n",
    "    : return: A tensor of size (Batch Size, Flattened Image Size).\n",
    "    \"\"\"\n",
    "    # TODO: Implement Function\n",
    "    # 获得输入矩阵在所有维度上的长度值的list\n",
    "    # 例如x如果有128张图，长乘宽是32x32，有RGB三个颜色通道，那么x_shape = [128, 32, 32, 3]\n",
    "    x_shape = x_tensor.shape.as_list()\n",
    "\n",
    "    # 把后三个维度压缩为一个维度，用一个向量表示一张图的所有像素信息\n",
    "    img_len = np.prod(x_shape[1:])\n",
    "    \n",
    "    # OPT1：用-1自由推断维度长度\n",
    "    return tf.reshape(x_tensor, shape=[-1, img_len])\n",
    "\n",
    "    # OPT2：用原有shape对象，不可以直接用x_shape[0]，因为类型不同\n",
    "    return tf.reshape(x_tensor, shape=[tf.shape(x_tensor)[0], img_len])\n",
    "\n",
    "    # OPT3：直接调用API将x_tensor变形为[batch, k]\n",
    "    return tf.contrib.layers.flatten(x_tensor)\n",
    "\n",
    "\n",
    "\"\"\"\n",
    "DON'T MODIFY ANYTHING IN THIS CELL THAT IS BELOW THIS LINE\n",
    "\"\"\"\n",
    "tests.test_flatten(flatten)"
   ]
  },
  {
   "cell_type": "markdown",
   "metadata": {},
   "source": [
    "### 全连接层\n",
    "\n",
    "修改 `fully_conn` 函数，来对形如 `(batch Size, num_outputs)` 的输入 `x_tensor` 应用一个全连接层。快捷方法：你可以使用来自 [TensorFlow Layers](https://www.tensorflow.org/api_docs/python/tf/layers) 或 [TensorFlow Layers (contrib)](https://www.tensorflow.org/api_guides/python/contrib.layers) 包中的函数来实现该功能。不过你也可以只使用 TensorFlow 包中的函数来挑战自己。"
   ]
  },
  {
   "cell_type": "code",
   "execution_count": 6,
   "metadata": {},
   "outputs": [
    {
     "name": "stdout",
     "output_type": "stream",
     "text": [
      "Tests Passed\n"
     ]
    }
   ],
   "source": [
    "def fully_conn(x_tensor, num_outputs):\n",
    "    \"\"\"\n",
    "    Apply a fully connected layer to x_tensor using weight and bias\n",
    "    : x_tensor: A 2-D tensor where the first dimension is batch size.\n",
    "    : num_outputs: The number of output that the new tensor should be.\n",
    "    : return: A 2-D tensor where the second dimension is num_outputs.\n",
    "    \"\"\"\n",
    "    # OPT1：实现全链接的隐藏层。其实就是标准的矩阵乘法形式。\n",
    "    # 因为已知 input = batch * K，output = batch * num_outputs, 因此可以推测出 weight = K * num_outputs\n",
    "    weight = tf.Variable(tf.truncated_normal([x_tensor.shape[1].value, num_outputs], mean=0, stddev=global_stddev))\n",
    "    bias = tf.Variable(tf.zeros(num_outputs))\n",
    "    y = tf.matmul(x_tensor, weight)        # b,k * k,n = b,n\n",
    "    y = tf.add(y, bias)\n",
    "    y = tf.nn.relu(y)\n",
    "    return y\n",
    "    \n",
    "    # OPT2：直接调用API将x_tensor经过全链接层输出为num_outputs个输出，默认使用ReLU作为激励函数\n",
    "    return tf.contrib.layers.fully_connected(x_tensor, num_outputs, activation_fn=tf.nn.relu)\n",
    "\n",
    "\n",
    "\"\"\"\n",
    "DON'T MODIFY ANYTHING IN THIS CELL THAT IS BELOW THIS LINE\n",
    "\"\"\"\n",
    "tests.test_fully_conn(fully_conn)"
   ]
  },
  {
   "cell_type": "markdown",
   "metadata": {},
   "source": [
    "### 输出层\n",
    "\n",
    "修改 `output` 函数，来对形如 `(batch Size, num_outputs)` 的输入 `x_tensor` 应用一个全连接层。快捷方法：你可以使用来自 [TensorFlow Layers](https://www.tensorflow.org/api_docs/python/tf/layers) 或 [TensorFlow Layers (contrib)](https://www.tensorflow.org/api_guides/python/contrib.layers) 包中的函数来实现该功能。不过你也可以只使用 TensorFlow 包中的函数来挑战自己。\n",
    "\n",
    "**注意：**\n",
    "激活函数、softmax 或者交叉熵（corss entropy）**不**应被加入到该层。"
   ]
  },
  {
   "cell_type": "code",
   "execution_count": 7,
   "metadata": {},
   "outputs": [
    {
     "name": "stdout",
     "output_type": "stream",
     "text": [
      "Tests Passed\n"
     ]
    }
   ],
   "source": [
    "def output(x_tensor, num_outputs):\n",
    "    \"\"\"\n",
    "    Apply a output layer to x_tensor using weight and bias\n",
    "    : x_tensor: A 2-D tensor where the first dimension is batch size.\n",
    "    : num_outputs: The number of output that the new tensor should be.\n",
    "    : return: A 2-D tensor where the second dimension is num_outputs.\n",
    "    \"\"\"\n",
    "    # OPT1：实现全链接的隐藏层。其实就是标准的矩阵乘法形式。\n",
    "    weight = tf.Variable(tf.truncated_normal([x_tensor.shape[1].value, num_outputs], mean=0, stddev=global_stddev))\n",
    "    bias = tf.Variable(tf.zeros(num_outputs))\n",
    "    y = tf.matmul(x_tensor, weight)\n",
    "    y = tf.add(y, bias)\n",
    "    return y\n",
    "    \n",
    "    # OPT2：直接调用API将x_tensor通过全链接层输出，不经过任何激励函数。\n",
    "    return tf.contrib.layers.fully_connected(x_tensor, num_outputs, activation_fn=None)\n",
    "\n",
    "\n",
    "\"\"\"\n",
    "DON'T MODIFY ANYTHING IN THIS CELL THAT IS BELOW THIS LINE\n",
    "\"\"\"\n",
    "tests.test_output(output)"
   ]
  },
  {
   "cell_type": "markdown",
   "metadata": {},
   "source": [
    "### 创建卷积模型\n",
    "\n",
    "修改 `conv_net` 函数，使之能够生成一个卷积神经网络模型。该函数的输入为一批图像数据 `x`，输出为 logits。在函数中，使用上方你修改的创建各种层的函数来创建该模型：\n",
    "\n",
    "* 使用 1 到 3 个卷积-最大池化层\n",
    "* 使用一个展开层\n",
    "* 使用 1 到 3 个全连接层\n",
    "* 使用一个输出层\n",
    "* 返回输出结果\n",
    "* 在一个或多个层上使用 [TensorFlow's Dropout](https://www.tensorflow.org/api_docs/python/tf/nn/dropout)，对应的保留概率为 `keep_prob`. "
   ]
  },
  {
   "cell_type": "code",
   "execution_count": 138,
   "metadata": {},
   "outputs": [
    {
     "name": "stdout",
     "output_type": "stream",
     "text": [
      "Neural Network Built!\n"
     ]
    }
   ],
   "source": [
    "def conv_net(x, keep_prob):\n",
    "    \"\"\"\n",
    "    Create a convolutional neural network model\n",
    "    : x: Placeholder tensor that holds image data.\n",
    "    : keep_prob: Placeholder tensor that hold dropout keep probability.\n",
    "    : return: Tensor that represents logits\n",
    "    \"\"\"\n",
    "    # 卷积池化层\n",
    "    # 可调参数列表\n",
    "    # 0. 层数：不断调用并串联conv2d_maxpool，且每一层可以调整下面五个参数：\n",
    "    # 1. 输出特征个数：conv_num_outputs\n",
    "    # 2. 卷积滤波器二维尺寸：conv_ksize\n",
    "    # 3. 卷积滤波器二维步长：conv_strides\n",
    "    # 4. 池化滤波器二维尺寸：pool_ksize\n",
    "    # 5. 池化滤波器二维步长：pool_strides\n",
    "    # 函数签名：conv2d_maxpool(x, conv_num_outputs, conv_ksize, conv_strides, pool_ksize, pool_strides)\n",
    "    x_after_pool = x\n",
    "    x_after_pool = conv2d_maxpool(x_after_pool, 16, [3, 3], [1, 1], [2, 2], [1, 1])\n",
    "    x_after_pool = conv2d_maxpool(x_after_pool, 16, [3, 3], [1, 1], [2, 2], [1, 1])\n",
    "    x_after_pool = conv2d_maxpool(x_after_pool, 16, [3, 3], [1, 1], [2, 2], [1, 1])\n",
    "    \n",
    "    # 展开层\n",
    "    x_after_flatten = flatten(x_after_pool)\n",
    "\n",
    "    # 全链接层\n",
    "    # 可调参数列表\n",
    "    # 层数：串联fully_conn\n",
    "    # 输出特征个数：num_outputs\n",
    "    # 函数签名：fully_conn(x_tensor, num_outputs)\n",
    "    x_after_full_conn = fully_conn(x_after_flatten, 1024)\n",
    "\n",
    "    \n",
    "    # Dropout：在全链接层和输出层之间进行\n",
    "    x_after_dropout = tf.nn.dropout(x_after_full_conn, keep_prob)\n",
    "    \n",
    "    # 输出层\n",
    "    # 输出特征个数为10，对应于实际要分类的10个one-hot特征\n",
    "    y = output(x_after_dropout, 10)\n",
    "    \n",
    "    return y\n",
    "\n",
    "\n",
    "\"\"\"\n",
    "DON'T MODIFY ANYTHING IN THIS CELL THAT IS BELOW THIS LINE\n",
    "\"\"\"\n",
    "\n",
    "##############################\n",
    "## Build the Neural Network ##\n",
    "##############################\n",
    "\n",
    "# Remove previous weights, bias, inputs, etc..\n",
    "tf.reset_default_graph()\n",
    "\n",
    "# Inputs\n",
    "x = neural_net_image_input((32, 32, 3))\n",
    "y = neural_net_label_input(10)\n",
    "keep_prob = neural_net_keep_prob_input()\n",
    "\n",
    "# Model\n",
    "logits = conv_net(x, keep_prob)\n",
    "\n",
    "# 给输出结果起个名字方便后续调用\n",
    "# Name logits Tensor, so that is can be loaded from disk after training\n",
    "logits = tf.identity(logits, name='logits')\n",
    "\n",
    "# 代价函数：使用交叉熵作为代价函数\n",
    "# 对代价函数进行最优化：AdamOptimizer，一种SGD方法\n",
    "# Loss and Optimizer\n",
    "cost = tf.reduce_mean(tf.nn.softmax_cross_entropy_with_logits(logits=logits, labels=y))\n",
    "optimizer = tf.train.AdamOptimizer().minimize(cost)\n",
    "\n",
    "# 定义评估指标: 准确率\n",
    "# 扫描每个图像，比较估计值和真实值label沿第二维的最大值索引\n",
    "correct_pred = tf.equal(tf.argmax(logits, 1), tf.argmax(y, 1))    \n",
    "# 求平均\n",
    "accuracy = tf.reduce_mean(tf.cast(correct_pred, tf.float32), name='accuracy')\n",
    "\n",
    "tests.test_conv_net(conv_net)"
   ]
  },
  {
   "cell_type": "markdown",
   "metadata": {},
   "source": [
    "## 训练该神经网络\n",
    "\n",
    "### 最优化\n",
    "\n",
    "修改 `train_neural_network` 函数以执行单次最优化。该最优化过程应在一个 `session` 中使用 `optimizer` 来进行该过程，它的 `feed_dict` 包括：\n",
    "* `x` 代表输入图像\n",
    "* `y` 代表*标签*\n",
    "* `keep_prob` 为 Dropout 过程中的保留概率\n",
    "\n",
    "对每批数据该函数都会被调用，因而 `tf.global_variables_initializer()` 已经被调用过。\n",
    "\n",
    "注意：该函数并不要返回某个值，它只对神经网络进行最优化。"
   ]
  },
  {
   "cell_type": "code",
   "execution_count": 9,
   "metadata": {},
   "outputs": [
    {
     "name": "stdout",
     "output_type": "stream",
     "text": [
      "Tests Passed\n"
     ]
    }
   ],
   "source": [
    "def train_neural_network(session, optimizer, keep_probability, feature_batch, label_batch):\n",
    "    \"\"\"\n",
    "    Optimize the session on a batch of images and labels\n",
    "    : session: Current TensorFlow session\n",
    "    : optimizer: TensorFlow optimizer function\n",
    "    : keep_probability: keep probability\n",
    "    : feature_batch: Batch of Numpy image data\n",
    "    : label_batch: Batch of Numpy label data\n",
    "    \"\"\"\n",
    "    # TODO: Implement Function\n",
    "    session.run(optimizer, feed_dict={x:feature_batch, y:label_batch, keep_prob:keep_probability})\n",
    "\n",
    "\n",
    "\"\"\"\n",
    "DON'T MODIFY ANYTHING IN THIS CELL THAT IS BELOW THIS LINE\n",
    "\"\"\"\n",
    "tests.test_train_nn(train_neural_network)"
   ]
  },
  {
   "cell_type": "markdown",
   "metadata": {},
   "source": [
    "### 显示状态\n",
    "\n",
    "修改 `print_stats` 函数来打印 loss 值及验证准确率。 使用全局的变量 `valid_features` 及 `valid_labels` 来计算验证准确率。 设定保留概率为 1.0 来计算 loss 值及验证准确率。"
   ]
  },
  {
   "cell_type": "code",
   "execution_count": 10,
   "metadata": {
    "collapsed": true
   },
   "outputs": [],
   "source": [
    "def print_stats(session, feature_batch, label_batch, cost, accuracy):\n",
    "    \"\"\"\n",
    "    Print information about loss and validation accuracy\n",
    "    : session: Current TensorFlow session\n",
    "    : feature_batch: Batch of Numpy image data\n",
    "    : label_batch: Batch of Numpy label data\n",
    "    : cost: TensorFlow cost function\n",
    "    : accuracy: TensorFlow accuracy function\n",
    "    \"\"\"\n",
    "    # 此时已经对模型训练完一批数据\n",
    "    # 查看模型对当前训练集的预测值与真实值之间的差距（交叉熵）\n",
    "    loss = session.run(cost, feed_dict={x:feature_batch, y:label_batch, keep_prob:1})\n",
    "    \n",
    "    # 查看模型对当前训练集的预测准确度\n",
    "    acc = session.run(accuracy, feed_dict={x:valid_features, y:valid_labels, keep_prob:1})\n",
    "    \n",
    "    # 实时显示\n",
    "    print(\"loss =\", loss, \"   accuracy =\", round(acc*100, 2), \"%\")"
   ]
  },
  {
   "cell_type": "markdown",
   "metadata": {},
   "source": [
    "### 超参数调节\n",
    "\n",
    "你需要调节如下的参数：\n",
    "* 设定 `epoches` 为模型停止学习或开始过拟合时模型的迭代次数。\n",
    "* 设定 `batch_size` 为你内存能支持的最大值。一般我们设定该值为：\n",
    " * 64\n",
    " * 128\n",
    " * 256\n",
    " * ...\n",
    " \n",
    " \n",
    "* 设定 `keep_probability` 为在 dropout 过程中保留一个节点的概率。"
   ]
  },
  {
   "cell_type": "code",
   "execution_count": 143,
   "metadata": {
    "collapsed": true
   },
   "outputs": [],
   "source": [
    "# TODO: Tune Parameters\n",
    "# 15代基本能稳定在55%\n",
    "epochs = 15\n",
    "\n",
    "# batch_size越大，每个epoch调用train_neural_network的频率就越低（稍微快些），但是会导致早几代的准确率下降(收敛速度下降)\n",
    "# 1080ti似乎可以支持到1024\n",
    "# 注意batch_size过大导致OOM之后，需要重新运行checkpoint后的所有代码才可以，否则会持续OOM。\n",
    "batch_size = 512\n",
    "\n",
    "# 减弱过拟合\n",
    "keep_probability = 0.5\n",
    "\n",
    "global_stddev = 0.1"
   ]
  },
  {
   "cell_type": "markdown",
   "metadata": {},
   "source": [
    "### 对单批 CIFAR-10 数据进行训练\n",
    "\n",
    "相比于在所有 CIFAR-10 数据上训练神经网络，我们首先使用一批数据进行训练。这会帮助你在调节模型提高精度的过程中节省时间。当最终的验证精度超过 50% 之后，你就可以前往下一节在所有数据上运行该模型了。"
   ]
  },
  {
   "cell_type": "code",
   "execution_count": 89,
   "metadata": {
    "scrolled": false
   },
   "outputs": [
    {
     "name": "stdout",
     "output_type": "stream",
     "text": [
      "Checking the Training on a Single Batch...\n",
      "Epoch  1, CIFAR-10 Batch 1:  loss = 2.01225    accuracy = 36.4 %\n",
      "Epoch  2, CIFAR-10 Batch 1:  loss = 1.8636    accuracy = 42.14 %\n",
      "Epoch  3, CIFAR-10 Batch 1:  loss = 1.73107    accuracy = 45.02 %\n",
      "Epoch  4, CIFAR-10 Batch 1:  loss = 1.71657    accuracy = 45.78 %\n",
      "Epoch  5, CIFAR-10 Batch 1:  loss = 1.63374    accuracy = 48.2 %\n",
      "Epoch  6, CIFAR-10 Batch 1:  loss = 1.46242    accuracy = 49.16 %\n",
      "Epoch  7, CIFAR-10 Batch 1:  loss = 1.40084    accuracy = 48.76 %\n",
      "Epoch  8, CIFAR-10 Batch 1:  loss = 1.35205    accuracy = 50.6 %\n",
      "Epoch  9, CIFAR-10 Batch 1:  loss = 1.31065    accuracy = 48.5 %\n",
      "Epoch 10, CIFAR-10 Batch 1:  loss = 1.14954    accuracy = 51.08 %\n",
      "Epoch 11, CIFAR-10 Batch 1:  loss = 1.13003    accuracy = 49.52 %\n",
      "Epoch 12, CIFAR-10 Batch 1:  loss = 1.07696    accuracy = 50.78 %\n",
      "Epoch 13, CIFAR-10 Batch 1:  loss = 1.04031    accuracy = 51.9 %\n",
      "Epoch 14, CIFAR-10 Batch 1:  loss = 0.996598    accuracy = 52.14 %\n",
      "Epoch 15, CIFAR-10 Batch 1:  loss = 0.956844    accuracy = 51.9 %\n",
      "Time Spent: 13.73\n"
     ]
    }
   ],
   "source": [
    "\"\"\"\n",
    "DON'T MODIFY ANYTHING IN THIS CELL\n",
    "\"\"\"\n",
    "from time import time\n",
    "print('Checking the Training on a Single Batch...')\n",
    "\n",
    "with tf.Session() as sess:\n",
    "    # Initializing the variables\n",
    "    sess.run(tf.global_variables_initializer())\n",
    "    \n",
    "    # 对五万张照片中的第一批（10000张）照片进行训练，每次选择9000张作为训练集。\n",
    "    start = time()\n",
    "    for epoch in range(epochs):\n",
    "        batch_i = 1\n",
    "        for batch_features, batch_labels in helper.load_preprocess_training_batch(batch_i, batch_size):\n",
    "            train_neural_network(sess, optimizer, keep_probability, batch_features, batch_labels)\n",
    "        print('Epoch {:>2}, CIFAR-10 Batch {}:  '.format(epoch + 1, batch_i), end='')\n",
    "        print_stats(sess, batch_features, batch_labels, cost, accuracy)\n",
    "    end = round(time() - start, 2)\n",
    "    print(\"Time Spent:\", end)"
   ]
  },
  {
   "cell_type": "markdown",
   "metadata": {},
   "source": [
    "## 参数与模型性能的关系探索"
   ]
  },
  {
   "cell_type": "markdown",
   "metadata": {},
   "source": [
    "### epoch \n",
    "\n",
    "- 代数越多，模型的准确度会趋近于越好，并收敛于一个值左右，上下震动。\n",
    "\n",
    "\n",
    "- 当准确度不再随epoch增长而增长时，模型就算收敛了。再往下训练有可能发展为过拟合。\n",
    "\n",
    "| epoch | batch_size | prob | stddev | accuracy |\n",
    "| ----- | ---------- | ---- | ------ | -------- |\n",
    "| **#1**  | 512        | 0.5  | 0.01 | **26%**  |\n",
    "| **#2**  | 512        | 0.5  | 0.01 | **33%**  |\n",
    "| **#3**  | 512        | 0.5  | 0.01 | **39%**  |\n",
    "| **#4**  | 512        | 0.5  | 0.01 | **42%**  |\n",
    "| **#5**  | 512        | 0.5  | 0.01 | **45%**  |\n",
    "| **#10** | 512        | 0.5  | 0.01 | **52%**  |\n",
    "| **#15** | 512        | 0.5  | 0.01 | **54%**  |\n",
    "| **#20** | 512        | 0.5  | 0.01 | **54%**  |\n",
    "| **#25** | 512        | 0.5  | 0.01 | **56%**  |\n",
    "| **#30** | 512        | 0.5  | 0.01 | **57%**  |\n",
    "| **#35** | 512        | 0.5  | 0.01 | **56%**  |\n",
    "| **#40** | 512        | 0.5  | 0.01 | **57%**  |\n",
    "\n",
    "以上结果基于模型参数:\n",
    "- 卷积层：输出个数 128, 滤波器尺寸 [3, 3], 滤波器步长 [1, 1], 池化尺寸 [2, 2], 池化步长 [1, 1]\n",
    "- 全链接层：输出个数 512"
   ]
  },
  {
   "cell_type": "markdown",
   "metadata": {},
   "source": [
    "### `batch_size` \n",
    "\n",
    "- 结论：`batch_size` 会影响训练时间，但不会影响准确率\n",
    "\n",
    "| time (sec) | epoch | batch_size | prob | stddev | accuracy |\n",
    "| ---------- | ----- | ---------- | ---- | ------ | -------- |\n",
    "| **80**     | 35    | **1024**   | 0.5  | 0.01   | 55% (start at 20%) |\n",
    "| **83**     | 35    | **512**    | 0.5  | 0.01   | 55% (start at 25%) |\n",
    "| **93**     | 35    | **256**    | 0.5  | 0.01   | 55% (start at 26%) |\n",
    "| **116**    | 35    | **128**    | 0.5  | 0.01   | 55% (start at 32%) |\n",
    "| **161**    | 35    | **64**     | 0.5  | 0.01   | 55% (start at 39%) |\n",
    "\n",
    "以上结果基于模型参数:\n",
    "- 卷积层：输出个数 128, 滤波器尺寸 [3, 3], 滤波器步长 [1, 1], 池化尺寸 [2, 2], 池化步长 [1, 1]\n",
    "- 全链接层：输出个数 512"
   ]
  },
  {
   "cell_type": "markdown",
   "metadata": {},
   "source": [
    "### `stddev` \n",
    "\n",
    "- `stddev` 过小会导致收敛过慢。达到相同准确率需要更多轮训练时间。\n",
    "\n",
    "| time (sec) | epoch | batch_size | prob | stddev | accuracy |\n",
    "| ---------- | ----- | ---------- | ---- | ------ | -------- |\n",
    "| **34**     | **15**    | 1024       | 0.5  | **0.01**   | 55%      |\n",
    "| **80**     | **35**    | 1024       | 0.5  | **0.001**  | 55%      |\n",
    "\n",
    "\n",
    "- `stddev` 过大会导致欠拟合\n",
    "\n",
    "| time (sec) | epoch | batch_size | prob | stddev | accuracy |\n",
    "| ---------- | ----- | ---------- | ---- | ------ | -------- |\n",
    "| 80         | 35    | 1024       | 0.5  | **0.01**   | **55%**      |\n",
    "| 80         | 35    | 1024       | 0.5  |  **0.1**   | **55%**      |\n",
    "| 80         | 35    | 1024       | 0.5  |    **1**   | **11%**      |\n",
    "\n",
    "以上结果基于模型参数:\n",
    "- 卷积层：输出个数 128, 滤波器尺寸 [3, 3], 滤波器步长 [1, 1], 池化尺寸 [2, 2], 池化步长 [1, 1]\n",
    "- 全链接层：输出个数 512"
   ]
  },
  {
   "cell_type": "markdown",
   "metadata": {},
   "source": [
    "### keep_probability\n",
    "\n",
    "- 调小每个节点的保留概率可以缓解过拟合的情况\n",
    "\n",
    "\n",
    "- 但如果保留概率过小，则会出现欠拟合。"
   ]
  },
  {
   "cell_type": "code",
   "execution_count": 38,
   "metadata": {
    "scrolled": true
   },
   "outputs": [
    {
     "data": {
      "text/plain": [
       "<matplotlib.figure.Figure at 0x2810001fd30>"
      ]
     },
     "metadata": {},
     "output_type": "display_data"
    },
    {
     "data": {
      "image/png": "[encoded data removed]",
      "text/plain": [
       "<matplotlib.figure.Figure at 0x2816f474fd0>"
      ]
     },
     "metadata": {},
     "output_type": "display_data"
    }
   ],
   "source": [
    "import matplotlib.pyplot as plt\n",
    "idx = np.arange(35)\n",
    "res_005 = [18.32,23.0,30.46,33.52,36.76,38.04,38.4,40.86,41.66,42.68,42.38,42.96,45.14,45.84,46.04,46.28,46.26,47.1,46.68,47.82,47.36,48.0,48.78,48.92,49.64,49.52,49.36,49.62,49.18,50.14,49.68,50.54,49.18,50.62,50.44]\n",
    "res_01 = [26.12, 31.72, 38.5, 40.84, 43.36, 44.96, 46.36, 48.0, 49.64, 50.48, 50.82, 51.36, 52.54, 53.12, 53.3, 53.18, 53.28, 53.08, 53.78, 55.54, 55.64, 55.66, 55.6, 55.78, 56.06, 57.46, 56.9, 57.6, 57.76, 58.12, 58.14, 57.86, 57.86, 58.28, 58.16]\n",
    "res_05 = [26.48,36.14,39.66,45.08,47.34,50.4,51.56,52.72,52.72,53.36,53.12,54.5,55.52,55.24,54.9,55.62,55.1,53.38,54.58,55.44,54.68,52.76,55.62,55.98,56.82,57.2,57.3,57.1,56.9,57.0,56.62,57.12,55.66,56.14,56.18]\n",
    "res_09 = [25.56,37.88,41.14,45.5,48.78,50.4,49.4,51.22,52.66,54.5,53.18,55.18,55.46,56.14,56.06,54.28,54.22,53.02,53.36,52.42,51.0,53.54,52.76,54.98,54.86,55.16,55.2,54.94,53.62,50.8,53.0,52.04,54.16,52.24,52.74]\n",
    "res_10 = [25.16,32.88,37.6,40.82,43.56,46.88,50.94,51.68,52.52,50.76,52.96,53.68,54.2,53.9,53.76,53.8,55.12,55.0,56.14,55.34,53.96,52.2,55.28,53.36,53.48,50.56,51.98,52.62,52.72,54.2,53.64,53.12,52.66,55.04,55.36]\n",
    "plt.figure(figsize=(15,5))\n",
    "plt.plot(idx, res_005, label='keep rate = 0.05')\n",
    "plt.plot(idx, res_01, label='keep rate = 0.1')\n",
    "plt.plot(idx, res_05, label='keep rate = 0.5')\n",
    "plt.plot(idx, res_09, label='keep rate = 0.9')\n",
    "plt.plot(idx, res_10, label='keep rate = 1.0')   # No dropout\n",
    "plt.title(\"Accuracy under different dropout rate\")\n",
    "plt.legend(fontsize=13)\n",
    "plt.grid(True)\n",
    "plt.show()\n"
   ]
  },
  {
   "cell_type": "markdown",
   "metadata": {},
   "source": [
    "### 完全训练该模型\n",
    "\n",
    "因为你在单批 CIFAR-10 数据上已经得到了一个不错的准确率了，那你可以尝试在所有五批数据上进行训练。"
   ]
  },
  {
   "cell_type": "code",
   "execution_count": 139,
   "metadata": {
    "scrolled": false
   },
   "outputs": [
    {
     "name": "stdout",
     "output_type": "stream",
     "text": [
      "Training...\n",
      "Epoch  1, CIFAR-10 Batch 1:  loss = 2.09307    accuracy = 28.66 %\n",
      "Epoch  1, CIFAR-10 Batch 2:  loss = 1.7693    accuracy = 35.7 %\n",
      "Epoch  1, CIFAR-10 Batch 3:  loss = 1.59276    accuracy = 39.3 %\n",
      "Epoch  1, CIFAR-10 Batch 4:  loss = 1.52608    accuracy = 42.88 %\n",
      "Epoch  1, CIFAR-10 Batch 5:  loss = 1.57057    accuracy = 45.24 %\n",
      "Epoch  2, CIFAR-10 Batch 1:  loss = 1.57112    accuracy = 45.5 %\n",
      "Epoch  2, CIFAR-10 Batch 2:  loss = 1.38283    accuracy = 48.64 %\n",
      "Epoch  2, CIFAR-10 Batch 3:  loss = 1.23539    accuracy = 49.14 %\n",
      "Epoch  2, CIFAR-10 Batch 4:  loss = 1.28118    accuracy = 49.94 %\n",
      "Epoch  2, CIFAR-10 Batch 5:  loss = 1.25992    accuracy = 52.32 %\n",
      "Epoch  3, CIFAR-10 Batch 1:  loss = 1.31034    accuracy = 52.9 %\n",
      "Epoch  3, CIFAR-10 Batch 2:  loss = 1.18839    accuracy = 54.54 %\n",
      "Epoch  3, CIFAR-10 Batch 3:  loss = 1.04468    accuracy = 54.14 %\n",
      "Epoch  3, CIFAR-10 Batch 4:  loss = 1.07237    accuracy = 56.6 %\n",
      "Epoch  3, CIFAR-10 Batch 5:  loss = 1.04407    accuracy = 56.72 %\n",
      "Epoch  4, CIFAR-10 Batch 1:  loss = 1.09756    accuracy = 57.1 %\n",
      "Epoch  4, CIFAR-10 Batch 2:  loss = 1.01959    accuracy = 58.26 %\n",
      "Epoch  4, CIFAR-10 Batch 3:  loss = 0.908608    accuracy = 57.58 %\n",
      "Epoch  4, CIFAR-10 Batch 4:  loss = 0.913614    accuracy = 60.42 %\n",
      "Epoch  4, CIFAR-10 Batch 5:  loss = 0.870336    accuracy = 59.74 %\n",
      "Epoch  5, CIFAR-10 Batch 1:  loss = 0.938603    accuracy = 59.14 %\n",
      "Epoch  5, CIFAR-10 Batch 2:  loss = 0.894872    accuracy = 61.36 %\n",
      "Epoch  5, CIFAR-10 Batch 3:  loss = 0.755662    accuracy = 60.7 %\n",
      "Epoch  5, CIFAR-10 Batch 4:  loss = 0.783073    accuracy = 62.12 %\n",
      "Epoch  5, CIFAR-10 Batch 5:  loss = 0.736353    accuracy = 62.36 %\n",
      "Epoch  6, CIFAR-10 Batch 1:  loss = 0.839645    accuracy = 60.3 %\n",
      "Epoch  6, CIFAR-10 Batch 2:  loss = 0.764476    accuracy = 63.22 %\n",
      "Epoch  6, CIFAR-10 Batch 3:  loss = 0.657835    accuracy = 62.7 %\n",
      "Epoch  6, CIFAR-10 Batch 4:  loss = 0.673994    accuracy = 63.9 %\n",
      "Epoch  6, CIFAR-10 Batch 5:  loss = 0.62813    accuracy = 62.76 %\n",
      "Epoch  7, CIFAR-10 Batch 1:  loss = 0.672632    accuracy = 63.64 %\n",
      "Epoch  7, CIFAR-10 Batch 2:  loss = 0.679402    accuracy = 64.08 %\n",
      "Epoch  7, CIFAR-10 Batch 3:  loss = 0.545741    accuracy = 63.9 %\n",
      "Epoch  7, CIFAR-10 Batch 4:  loss = 0.577627    accuracy = 63.96 %\n",
      "Epoch  7, CIFAR-10 Batch 5:  loss = 0.537175    accuracy = 62.84 %\n",
      "Epoch  8, CIFAR-10 Batch 1:  loss = 0.573941    accuracy = 64.3 %\n",
      "Epoch  8, CIFAR-10 Batch 2:  loss = 0.611532    accuracy = 64.16 %\n",
      "Epoch  8, CIFAR-10 Batch 3:  loss = 0.450235    accuracy = 64.56 %\n",
      "Epoch  8, CIFAR-10 Batch 4:  loss = 0.48255    accuracy = 64.78 %\n",
      "Epoch  8, CIFAR-10 Batch 5:  loss = 0.43611    accuracy = 65.14 %\n",
      "Epoch  9, CIFAR-10 Batch 1:  loss = 0.497509    accuracy = 65.18 %\n",
      "Epoch  9, CIFAR-10 Batch 2:  loss = 0.517562    accuracy = 66.3 %\n",
      "Epoch  9, CIFAR-10 Batch 3:  loss = 0.424025    accuracy = 63.72 %\n",
      "Epoch  9, CIFAR-10 Batch 4:  loss = 0.440471    accuracy = 65.1 %\n",
      "Epoch  9, CIFAR-10 Batch 5:  loss = 0.347626    accuracy = 66.1 %\n",
      "Epoch 10, CIFAR-10 Batch 1:  loss = 0.418946    accuracy = 65.32 %\n",
      "Epoch 10, CIFAR-10 Batch 2:  loss = 0.455364    accuracy = 66.14 %\n",
      "Epoch 10, CIFAR-10 Batch 3:  loss = 0.323968    accuracy = 66.48 %\n",
      "Epoch 10, CIFAR-10 Batch 4:  loss = 0.391614    accuracy = 64.9 %\n",
      "Epoch 10, CIFAR-10 Batch 5:  loss = 0.312599    accuracy = 65.86 %\n",
      "Epoch 11, CIFAR-10 Batch 1:  loss = 0.329802    accuracy = 65.7 %\n",
      "Epoch 11, CIFAR-10 Batch 2:  loss = 0.400377    accuracy = 64.26 %\n",
      "Epoch 11, CIFAR-10 Batch 3:  loss = 0.302707    accuracy = 65.78 %\n",
      "Epoch 11, CIFAR-10 Batch 4:  loss = 0.318054    accuracy = 65.92 %\n",
      "Epoch 11, CIFAR-10 Batch 5:  loss = 0.285328    accuracy = 64.58 %\n",
      "Epoch 12, CIFAR-10 Batch 1:  loss = 0.288765    accuracy = 63.88 %\n",
      "Epoch 12, CIFAR-10 Batch 2:  loss = 0.364699    accuracy = 63.2 %\n",
      "Epoch 12, CIFAR-10 Batch 3:  loss = 0.241804    accuracy = 65.52 %\n",
      "Epoch 12, CIFAR-10 Batch 4:  loss = 0.25681    accuracy = 65.7 %\n",
      "Epoch 12, CIFAR-10 Batch 5:  loss = 0.234722    accuracy = 65.02 %\n",
      "Epoch 13, CIFAR-10 Batch 1:  loss = 0.227661    accuracy = 66.7 %\n",
      "Epoch 13, CIFAR-10 Batch 2:  loss = 0.248815    accuracy = 66.84 %\n",
      "Epoch 13, CIFAR-10 Batch 3:  loss = 0.186888    accuracy = 65.84 %\n",
      "Epoch 13, CIFAR-10 Batch 4:  loss = 0.244733    accuracy = 62.76 %\n",
      "Epoch 13, CIFAR-10 Batch 5:  loss = 0.19178    accuracy = 66.8 %\n",
      "Epoch 14, CIFAR-10 Batch 1:  loss = 0.186484    accuracy = 67.78 %\n",
      "Epoch 14, CIFAR-10 Batch 2:  loss = 0.207454    accuracy = 67.06 %\n",
      "Epoch 14, CIFAR-10 Batch 3:  loss = 0.168    accuracy = 67.12 %\n",
      "Epoch 14, CIFAR-10 Batch 4:  loss = 0.193025    accuracy = 64.54 %\n",
      "Epoch 14, CIFAR-10 Batch 5:  loss = 0.166023    accuracy = 68.16 %\n",
      "Epoch 15, CIFAR-10 Batch 1:  loss = 0.158841    accuracy = 66.8 %\n",
      "Epoch 15, CIFAR-10 Batch 2:  loss = 0.168162    accuracy = 66.34 %\n",
      "Epoch 15, CIFAR-10 Batch 3:  loss = 0.141671    accuracy = 67.26 %\n",
      "Epoch 15, CIFAR-10 Batch 4:  loss = 0.14164    accuracy = 66.42 %\n",
      "Epoch 15, CIFAR-10 Batch 5:  loss = 0.123076    accuracy = 68.32 %\n",
      "Time Spent: 65.21\n"
     ]
    }
   ],
   "source": [
    "\"\"\"\n",
    "DON'T MODIFY ANYTHING IN THIS CELL\n",
    "\"\"\"\n",
    "save_model_path = './image_classification'\n",
    "\n",
    "print('Training...')\n",
    "with tf.Session() as sess:\n",
    "    # Initializing the variables\n",
    "    sess.run(tf.global_variables_initializer())\n",
    "    start = time()\n",
    "    # Training cycle\n",
    "    for epoch in range(epochs):\n",
    "        # Loop over all batches\n",
    "        n_batches = 5\n",
    "        for batch_i in range(1, n_batches + 1):\n",
    "            for batch_features, batch_labels in helper.load_preprocess_training_batch(batch_i, batch_size):\n",
    "                train_neural_network(sess, optimizer, keep_probability, batch_features, batch_labels)\n",
    "            print('Epoch {:>2}, CIFAR-10 Batch {}:  '.format(epoch + 1, batch_i), end='')\n",
    "            print_stats(sess, batch_features, batch_labels, cost, accuracy)\n",
    "    end = round(time() - start, 2)\n",
    "    print(\"Time Spent:\", end)        \n",
    "    # Save Model\n",
    "    saver = tf.train.Saver()\n",
    "    save_path = saver.save(sess, save_model_path)"
   ]
  },
  {
   "cell_type": "markdown",
   "metadata": {},
   "source": [
    "### 卷积层输出个数\n",
    "\n",
    "- conv_num_ouput 越大，训练耗时越大，但准确率没有明显变化。\n",
    "\n",
    "| time (sec) | 卷积层输出 | 卷积层尺寸 | 卷积层步长 | 池化层尺寸 | 池化层步长 | 全链接层输出 | 准确率    |\n",
    "| ---------- | -------- | --------- | -------- | -------- | -------- | ----------- | -------- |\n",
    "| **54**     | **8**    | [3,3]     |    1     |   [2,2]  | 1        |    128     |     **61%**   |\n",
    "| **58**     | **16**   | [3,3]     |    1     |   [2,2]  | 1        |    128     |     **62%**   |\n",
    "| **67**     | **32**   | [3,3]     |    1     |   [2,2]  | 1        |    128     |     **62%**   |\n",
    "| **91**     | **64**   | [3,3]     |    1     |   [2,2]  | 1        |    128     |     **62%**   |\n",
    "| **131**    | **128**  | [3,3]     |    1     |   [2,2]  | 1        |    128     |     **61%**   |\n",
    "\n",
    "- 以上结果基于以下参数:\n",
    "    - 训练代数 epoch 15\n",
    "    - batch_size = 64\n",
    "    - keep_prob = 0.5\n",
    "    - stddev = 0.01"
   ]
  },
  {
   "cell_type": "markdown",
   "metadata": {},
   "source": [
    "### 全链接层输出个数\n",
    "\n",
    "- full_num_ouput 越大，准确率有稳定的明显提升\n",
    "\n",
    "| time (sec) | 卷积层输出 | 卷积层尺寸 | 卷积层步长 | 池化层尺寸 | 池化层步长 | 全链接层输出 | 准确率 | 达到60%准确率的代数 |\n",
    "| ---------- | -------- | --------- | -------- | -------- | -------- | ----------- | -------- | --------------|\n",
    "| **66**     | 16       | [3,3]     |    1     |   [2,2]  | 1        |  **64**    |   **59%** | N/A\n",
    "| **56**     | 16       | [3,3]     |    1     |   [2,2]  | 1        |  **128**   |   **62%** | #8\n",
    "| **60**     | 16       | [3,3]     |    1     |   [2,2]  | 1        |  **256**   |   **63%** | #5\n",
    "| **66**     | 16       | [3,3]     |    1     |   [2,2]  | 1        |  **512**   |   **64%** | #3\n",
    "| **82**     | 16       | [3,3]     |    1     |   [2,2]  | 1        |  **1024**  |   **65%** | #3\n",
    "\n",
    "- 以上结果基于以下参数:\n",
    "    - 训练代数 epoch 15\n",
    "    - batch_size = 64\n",
    "    - keep_prob = 0.5\n",
    "    - stddev = 0.01"
   ]
  },
  {
   "cell_type": "markdown",
   "metadata": {},
   "source": [
    "### 卷积层串联个数\n",
    "\n",
    "- 将卷积层多层级联可以提升准确率。\n",
    "\n",
    "| time (sec) | 卷积层输出 | 卷积层尺寸 | 卷积层步长 | 池化层尺寸 | 池化层步长 | 全链接层输出 | 准确率 |\n",
    "| ---------- | -------- | --------- | -------- | -------- | -------- | ----------- | -------- |\n",
    "| **66**  | **16**       | [3,3]     |    1     |   [2,2]  | 1        |  1024    |   **65%** |\n",
    "| **120** | **16,16**    | [3,3]     |    1     |   [2,2]  | 1        |  1024    |   **66%** |\n",
    "| **212** | **16,16,16** | [3,3]     |    1     |   [2,2]  | 1        |  1024    |   **67%** |\n",
    "| **260** | **16,16,16,16,16** | [3,3]     |    1     |   [2,2]  | 1  |  1024    |   **64%** |"
   ]
  },
  {
   "cell_type": "markdown",
   "metadata": {},
   "source": [
    "### 全链接层串联个数\n",
    "\n",
    "尝试了增加全链接层的级联个数，但是没有明显的准确率提升。"
   ]
  },
  {
   "cell_type": "markdown",
   "metadata": {},
   "source": [
    "### 卷积滤波器尺寸\n",
    "\n",
    "测试微调滤波器的尺寸 [2 x 2], [3 x 3], [4 x 4], [8 x 8]，结果显示 [3 x 3] 最好。"
   ]
  },
  {
   "cell_type": "markdown",
   "metadata": {},
   "source": [
    "### 再次讨论batch_size的影响\n",
    "\n",
    "- 在后期调整模型参数的时候，一开始使用的batch_size都是64，从训练上看，收敛速度相当快，甚至能够达到第2代训练就能上60%，不过相对的完整15代训练时间要200多秒才能完成三层卷积层的模型。\n",
    "\n",
    "\n",
    "- 后来想起来batch_size能够影响速度，就将batch_size升至512，训练速度可以减少到65秒，很爽，不过同时也发现收敛速度变慢，需要到第5代才能爬升到60%的准确率。\n",
    "\n",
    "\n",
    "综上所述，观察到batch_size会影响收敛速率和训练速度。"
   ]
  },
  {
   "cell_type": "markdown",
   "metadata": {},
   "source": [
    "# 检查点\n",
    "\n",
    "该模型已经被存储到你的硬盘中。\n",
    "\n",
    "## 测试模型\n",
    "\n",
    "这部分将在测试数据集上测试你的模型。这边得到的准确率将作为你的最终准确率。你应该得到一个高于 50% 准确率。如果它没有超过 50%，那么你需要继续调整模型架构及参数。"
   ]
  },
  {
   "cell_type": "code",
   "execution_count": 142,
   "metadata": {},
   "outputs": [
    {
     "name": "stdout",
     "output_type": "stream",
     "text": [
      "(10000, 32, 32, 3)\n",
      "INFO:tensorflow:Restoring parameters from ./image_classification\n",
      "Testing Accuracy: 0.6753159463405609\n",
      "\n"
     ]
    },
    {
     "data": {
      "image/png": "[encoded data removed]",
      "text/plain": [
       "<matplotlib.figure.Figure at 0x1c2c6a17dd8>"
      ]
     },
     "metadata": {
      "image/png": {
       "height": 319,
       "width": 355
      }
     },
     "output_type": "display_data"
    }
   ],
   "source": [
    "\"\"\"\n",
    "DON'T MODIFY ANYTHING IN THIS CELL\n",
    "\"\"\"\n",
    "%matplotlib inline\n",
    "%config InlineBackend.figure_format = 'retina'\n",
    "\n",
    "import tensorflow as tf\n",
    "import pickle\n",
    "import helper\n",
    "import random\n",
    "\n",
    "# Set batch size if not already set\n",
    "try:\n",
    "    if batch_size:\n",
    "        pass\n",
    "except NameError:\n",
    "    batch_size = 64\n",
    "\n",
    "save_model_path = './image_classification'\n",
    "n_samples = 4\n",
    "top_n_predictions = 3\n",
    "\n",
    "def test_model():\n",
    "    \"\"\"\n",
    "    Test the saved model against the test dataset\n",
    "    \"\"\"\n",
    "\n",
    "    # 拿到相应的验证集专用数据\n",
    "    test_features, test_labels = pickle.load(open('preprocess_training.p', mode='rb'))\n",
    "    print(test_features.shape)\n",
    "    loaded_graph = tf.Graph()\n",
    "\n",
    "    with tf.Session(graph=loaded_graph) as sess:\n",
    "        # Load model\n",
    "        loader = tf.train.import_meta_graph(save_model_path + '.meta')\n",
    "        loader.restore(sess, save_model_path)\n",
    "\n",
    "        # Get Tensors from loaded model\n",
    "        loaded_x = loaded_graph.get_tensor_by_name('x:0')\n",
    "        loaded_y = loaded_graph.get_tensor_by_name('y:0')\n",
    "        loaded_keep_prob = loaded_graph.get_tensor_by_name('keep_prob:0')\n",
    "        loaded_logits = loaded_graph.get_tensor_by_name('logits:0')\n",
    "        loaded_acc = loaded_graph.get_tensor_by_name('accuracy:0')\n",
    "        \n",
    "        # Get accuracy in batches for memory limitations\n",
    "        test_batch_acc_total = 0\n",
    "        test_batch_count = 0\n",
    "        \n",
    "        for train_feature_batch, train_label_batch in helper.batch_features_labels(test_features, test_labels, batch_size):\n",
    "            test_batch_acc_total += sess.run(\n",
    "                loaded_acc,\n",
    "                feed_dict={loaded_x: train_feature_batch, loaded_y: train_label_batch, loaded_keep_prob: 1.0})\n",
    "            test_batch_count += 1\n",
    "\n",
    "        print('Testing Accuracy: {}\\n'.format(test_batch_acc_total/test_batch_count))\n",
    "\n",
    "        # Print Random Samples\n",
    "        random_test_features, random_test_labels = tuple(zip(*random.sample(list(zip(test_features, test_labels)), n_samples)))\n",
    "        random_test_predictions = sess.run(\n",
    "            tf.nn.top_k(tf.nn.softmax(loaded_logits), top_n_predictions),\n",
    "            feed_dict={loaded_x: random_test_features, loaded_y: random_test_labels, loaded_keep_prob: 1.0})\n",
    "        helper.display_image_predictions(random_test_features, random_test_labels, random_test_predictions)\n",
    "\n",
    "\n",
    "test_model()"
   ]
  },
  {
   "cell_type": "markdown",
   "metadata": {},
   "source": [
    "### 测试结果\n",
    "\n",
    "> Testing Accuracy: 0.6753159463405609\n",
    "\n",
    "可以看到，经过对每个可调参数的fine tune，最终使用以下参数搭配达到了**67%**的准确度。准备尝试一些新的方法，进一步提升准确度。\n",
    "\n",
    "- epoch = 15\n",
    "- batch_size = 64\n",
    "- keep_prob = 0.5\n",
    "- stddev = 0.01\n",
    "- 卷积层输出结构：16, 16, 16 (三层级联)\n",
    "- 卷积层激活函数：ReLU\n",
    "- 卷积滤波器尺寸：3 x 3\n",
    "- 卷积滤波器步长：1\n",
    "- 池化滤波器尺寸：2 x 2\n",
    "- 池化滤波器步长：1\n",
    "- 全链接层输出结构：1024 （单层）\n",
    "- 全链接层激活函数：ReLU\n",
    "- Padding：SAME Padding"
   ]
  },
  {
   "cell_type": "markdown",
   "metadata": {},
   "source": [
    "## 为什么仅有 50%~ 80% 的准确率？\n",
    "\n",
    "你也许会觉得奇怪，为什么你的准确率总是提高不上去。对于简单的 CNN 网络而言，50% 并非是很差的表现。纯粹的猜测只会得到 10% 的准确率（因为一共有 10 类）。这是因为还有许多许多能够应用到你模型的技巧。在你做完了该项目之后，你可以探索探索我们给你推荐的一些方法。\n",
    "\n",
    "\n",
    "## 提交该项目\n",
    "\n",
    "在提交项目前，请确保你在运行了所有的 cell 之后保存了项目。将项目储存为 \"image_classification.ipynb\" 并导出为一个 HTML 文件。你可以再菜单栏中选择 File -> Download as 进行导出。请将 \"helper.py\" 及  \"problem_unittests.py\" 文件也放在你的提交文件中。"
   ]
  }
 ],
 "metadata": {
  "anaconda-cloud": {},
  "kernelspec": {
   "display_name": "Python 3",
   "language": "python",
   "name": "python3"
  },
  "language_info": {
   "codemirror_mode": {
    "name": "ipython",
    "version": 3
   },
   "file_extension": ".py",
   "mimetype": "text/x-python",
   "name": "python",
   "nbconvert_exporter": "python",
   "pygments_lexer": "ipython3",
   "version": "3.5.3"
  }
 },
 "nbformat": 4,
 "nbformat_minor": 1
}
