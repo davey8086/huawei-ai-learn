{
 "cells": [
  {
   "cell_type": "markdown",
   "metadata": {},
   "source": [
    "# 机器学习工程师纳米学位\n",
    "## 模型评价与验证\n",
    "## 项目 1: 预测波士顿房价\n",
    "\n",
    "\n",
    "欢迎来到机器学习工程师纳米学位的第一个项目！在此文件中，有些示例代码已经提供给你，但你还需要实现更多的功能来让项目成功运行。除非有明确要求，你无须修改任何已给出的代码。以**'练习'**开始的标题表示接下来的内容中有需要你必须实现的功能。每一部分都会有详细的指导，需要实现的部分也会在注释中以**'TODO'**标出。请仔细阅读所有的提示！\n",
    "\n",
    "除了实现代码外，你还**必须**回答一些与项目和实现有关的问题。每一个需要你回答的问题都会以**'问题 X'**为标题。请仔细阅读每个问题，并且在问题后的**'回答'**文字框中写出完整的答案。你的项目将会根据你对问题的回答和撰写代码所实现的功能来进行评分。\n",
    "\n",
    ">**提示：**Code 和 Markdown 区域可通过 **Shift + Enter** 快捷键运行。此外，Markdown可以通过双击进入编辑模式。"
   ]
  },
  {
   "cell_type": "markdown",
   "metadata": {},
   "source": [
    "## 开始\n",
    "在这个项目中，你将利用马萨诸塞州波士顿郊区的房屋信息数据训练和测试一个模型，并对模型的性能和预测能力进行测试。通过该数据训练后的好的模型可以被用来对房屋做特定预测---尤其是对房屋的价值。对于房地产经纪等人的日常工作来说，这样的预测模型被证明非常有价值。\n",
    "\n",
    "此项目的数据集来自[UCI机器学习知识库](https://archive.ics.uci.edu/ml/datasets/Housing)。波士顿房屋这些数据于1978年开始统计，共506个数据点，涵盖了麻省波士顿不同郊区房屋14种特征的信息。本项目对原始数据集做了以下处理：\n",
    "- 有16个`'MEDV'` 值为50.0的数据点被移除。 这很可能是由于这些数据点包含**遗失**或**看不到的值**。\n",
    "- 有1个数据点的 `'RM'` 值为8.78. 这是一个异常值，已经被移除。\n",
    "- 对于本项目，房屋的`'RM'`， `'LSTAT'`，`'PTRATIO'`以及`'MEDV'`特征是必要的，其余不相关特征已经被移除。\n",
    "- `'MEDV'`特征的值已经过必要的数学转换，可以反映35年来市场的通货膨胀效应。\n",
    "\n",
    "运行下面区域的代码以载入波士顿房屋数据集，以及一些此项目所需的Python库。如果成功返回数据集的大小，表示数据集已载入成功。"
   ]
  },
  {
   "cell_type": "code",
   "execution_count": 1,
   "metadata": {},
   "outputs": [
    {
     "name": "stdout",
     "output_type": "stream",
     "text": [
      "Boston housing dataset has 489 data points with 4 variables each.\n"
     ]
    },
    {
     "data": {
      "text/html": [
       "<div>\n",
       "<style>\n",
       "    .dataframe thead tr:only-child th {\n",
       "        text-align: right;\n",
       "    }\n",
       "\n",
       "    .dataframe thead th {\n",
       "        text-align: left;\n",
       "    }\n",
       "\n",
       "    .dataframe tbody tr th {\n",
       "        vertical-align: top;\n",
       "    }\n",
       "</style>\n",
       "<table border=\"1\" class=\"dataframe\">\n",
       "  <thead>\n",
       "    <tr style=\"text-align: right;\">\n",
       "      <th></th>\n",
       "      <th>RM</th>\n",
       "      <th>LSTAT</th>\n",
       "      <th>PTRATIO</th>\n",
       "    </tr>\n",
       "  </thead>\n",
       "  <tbody>\n",
       "    <tr>\n",
       "      <th>0</th>\n",
       "      <td>6.575</td>\n",
       "      <td>4.98</td>\n",
       "      <td>15.3</td>\n",
       "    </tr>\n",
       "    <tr>\n",
       "      <th>1</th>\n",
       "      <td>6.421</td>\n",
       "      <td>9.14</td>\n",
       "      <td>17.8</td>\n",
       "    </tr>\n",
       "    <tr>\n",
       "      <th>2</th>\n",
       "      <td>7.185</td>\n",
       "      <td>4.03</td>\n",
       "      <td>17.8</td>\n",
       "    </tr>\n",
       "    <tr>\n",
       "      <th>3</th>\n",
       "      <td>6.998</td>\n",
       "      <td>2.94</td>\n",
       "      <td>18.7</td>\n",
       "    </tr>\n",
       "    <tr>\n",
       "      <th>4</th>\n",
       "      <td>7.147</td>\n",
       "      <td>5.33</td>\n",
       "      <td>18.7</td>\n",
       "    </tr>\n",
       "  </tbody>\n",
       "</table>\n",
       "</div>"
      ],
      "text/plain": [
       "      RM  LSTAT  PTRATIO\n",
       "0  6.575   4.98     15.3\n",
       "1  6.421   9.14     17.8\n",
       "2  7.185   4.03     17.8\n",
       "3  6.998   2.94     18.7\n",
       "4  7.147   5.33     18.7"
      ]
     },
     "execution_count": 1,
     "metadata": {},
     "output_type": "execute_result"
    }
   ],
   "source": [
    "# Import libraries necessary for this project\n",
    "# 载入此项目所需要的库\n",
    "import numpy as np\n",
    "import pandas as pd\n",
    "import visuals as vs # Supplementary code\n",
    "from sklearn.model_selection import ShuffleSplit\n",
    "\n",
    "# Pretty display for notebooks\n",
    "# 让结果在notebook中显示\n",
    "%matplotlib inline\n",
    "\n",
    "# Load the Boston housing dataset\n",
    "# 载入波士顿房屋的数据集\n",
    "data = pd.read_csv('housing.csv')\n",
    "prices = data['MEDV']\n",
    "features = data.drop('MEDV', axis = 1)\n",
    "\n",
    "# Success\n",
    "# 完成\n",
    "print \"Boston housing dataset has {} data points with {} variables each.\".format(*data.shape)\n",
    "\n",
    "data.head()\n",
    "\n",
    "features.head()"
   ]
  },
  {
   "cell_type": "markdown",
   "metadata": {},
   "source": [
    "## 分析数据\n",
    "在项目的第一个部分，你会对波士顿房地产数据进行初步的观察并给出你的分析。通过对数据的探索来熟悉数据可以让你更好地理解和解释你的结果。\n",
    "\n",
    "由于这个项目的最终目标是建立一个预测房屋价值的模型，我们需要将数据集分为**特征(features)**和**目标变量(target variable)**。**特征** `'RM'`， `'LSTAT'`，和 `'PTRATIO'`，给我们提供了每个数据点的数量相关的信息。**目标变量**：` 'MEDV'`，是我们希望预测的变量。他们分别被存在`features`和`prices`两个变量名中。"
   ]
  },
  {
   "cell_type": "markdown",
   "metadata": {},
   "source": [
    "## 练习：基础统计运算\n",
    "你的第一个编程练习是计算有关波士顿房价的描述统计数据。我们已为你导入了` numpy `，你需要使用这个库来执行必要的计算。这些统计数据对于分析模型的预测结果非常重要的。\n",
    "在下面的代码中，你要做的是：\n",
    "- 计算`prices`中的`'MEDV'`的最小值、最大值、均值、中值和标准差；\n",
    "- 将运算结果储存在相应的变量中。"
   ]
  },
  {
   "cell_type": "code",
   "execution_count": 155,
   "metadata": {},
   "outputs": [
    {
     "name": "stdout",
     "output_type": "stream",
     "text": [
      "Statistics for Boston housing dataset:\n",
      "\n",
      "Minimum price: $105,000.00\n",
      "Maximum price: $1,024,800.00\n",
      "Mean price: $454,342.94\n",
      "Median price $438,900.00\n",
      "Standard deviation of prices: $165,171.13\n"
     ]
    }
   ],
   "source": [
    "# TODO: Minimum price of the data\n",
    "#目标：计算价值的最小值\n",
    "minimum_price = np.min(prices)\n",
    "\n",
    "# TODO: Maximum price of the data\n",
    "#目标：计算价值的最大值\n",
    "maximum_price = np.max(prices)\n",
    "\n",
    "# TODO: Mean price of the data\n",
    "#目标：计算价值的平均值\n",
    "mean_price = np.mean(prices)\n",
    "\n",
    "# TODO: Median price of the data\n",
    "#目标：计算价值的中值\n",
    "median_price = np.median(prices)\n",
    "\n",
    "# TODO: Standard deviation of prices of the data\n",
    "#目标：计算价值的标准差\n",
    "std_price = np.std(prices)\n",
    "\n",
    "# Show the calculated statistics\n",
    "#目标：输出计算的结果\n",
    "print \"Statistics for Boston housing dataset:\\n\"\n",
    "print \"Minimum price: ${:,.2f}\".format(minimum_price)\n",
    "print \"Maximum price: ${:,.2f}\".format(maximum_price)\n",
    "print \"Mean price: ${:,.2f}\".format(mean_price)\n",
    "print \"Median price ${:,.2f}\".format(median_price)\n",
    "print \"Standard deviation of prices: ${:,.2f}\".format(std_price)"
   ]
  },
  {
   "cell_type": "markdown",
   "metadata": {},
   "source": [
    "### 问题1 - 特征观察\n",
    "\n",
    "如前文所述，本项目中我们关注的是其中三个值:`'RM'`、`'LSTAT'` 和`'PTRATIO'`，对每一个数据点:\n",
    "- `'RM'` 是该地区中每个房屋的平均房间数量；\n",
    "- `'LSTAT'` 是指该地区有多少百分比的房东属于是低收入阶层（有工作但收入微薄）；\n",
    "- `'PTRATIO'` 是该地区的中学和小学里，学生和老师的数目比（`学生/老师`）。\n",
    "\n",
    "_凭直觉，上述三个特征中对每一个来说，你认为增大该特征的数值，`'MEDV'`的值会是**增大**还是**减小**呢？每一个答案都需要你给出理由。_\n",
    "\n",
    "**提示：**你预期一个`'RM'` 值是6的房屋跟`'RM'` 值是7的房屋相比，价值更高还是更低呢？"
   ]
  },
  {
   "cell_type": "markdown",
   "metadata": {},
   "source": [
    "**回答** \n",
    "1. 'MEDV'与'RM'成正比，因为房屋的房间数量越多肯定价格越贵。\n",
    "2. 'MEDV'与'LSTAT'成反比，因为低收入人群越多，房价应该越低。\n",
    "3. 'MEDV'与'PTRATIO'成反比，因为学生/老师比越大，说明教育资源越紧缺，教育质量越堪忧，因此人们来这的欲望也越低，房价也就越低。"
   ]
  },
  {
   "cell_type": "markdown",
   "metadata": {},
   "source": [
    "## 建模\n",
    "在项目的第二部分中，你需要了解必要的工具和技巧来让你的模型进行预测。用这些工具和技巧对每一个模型的表现做精确的衡量可以极大地增强你预测的信心。"
   ]
  },
  {
   "cell_type": "markdown",
   "metadata": {},
   "source": [
    "### 练习：定义衡量标准\n",
    "如果不能对模型的训练和测试的表现进行量化地评估，我们就很难衡量模型的好坏。通常我们会定义一些衡量标准，这些标准可以通过对某些误差或者拟合程度的计算来得到。在这个项目中，你将通过运算[*决定系数*](http://stattrek.com/statistics/dictionary.aspx?definition=coefficient_of_determination) R<sup>2</sup> 来量化模型的表现。模型的决定系数是回归分析中十分常用的统计信息，经常被当作衡量模型预测能力好坏的标准。\n",
    "\n",
    "R<sup>2</sup>的数值范围从0至1，表示**目标变量**的预测值和实际值之间的相关程度平方的百分比。一个模型的R<sup>2</sup> 值为0还不如直接用**平均值**来预测效果好；而一个R<sup>2</sup> 值为1的模型则可以对目标变量进行完美的预测。从0至1之间的数值，则表示该模型中目标变量中有百分之多少能够用**特征**来解释。_模型也可能出现负值的R<sup>2</sup>，这种情况下模型所做预测有时会比直接计算目标变量的平均值差很多。_\n",
    "\n",
    "在下方代码的 `performance_metric` 函数中，你要实现：\n",
    "- 使用 `sklearn.metrics` 中的 `r2_score` 来计算 `y_true` 和 `y_predict`的R<sup>2</sup>值，作为对其表现的评判。\n",
    "- 将他们的表现评分储存到`score`变量中。"
   ]
  },
  {
   "cell_type": "code",
   "execution_count": 5,
   "metadata": {
    "collapsed": true
   },
   "outputs": [],
   "source": [
    "from sklearn.metrics import r2_score\n",
    "\n",
    "def performance_metric(y_true, y_predict):\n",
    "    \"\"\" Calculates and returns the performance score between \n",
    "        true and predicted values based on the metric chosen. \"\"\"\n",
    "    \n",
    "    # TODO: Calculate the performance score between 'y_true' and 'y_predict'\n",
    "    score = r2_score(y_true, y_predict)\n",
    "    \n",
    "    # Return the score\n",
    "    return score"
   ]
  },
  {
   "cell_type": "markdown",
   "metadata": {},
   "source": [
    "### 问题2 - 拟合程度\n",
    "\n",
    "假设一个数据集有五个数据且一个模型做出下列目标变量的预测：\n",
    "\n",
    "| 真实数值 | 预测数值 |\n",
    "| :-------------: | :--------: |\n",
    "| 3.0 | 2.5 |\n",
    "| -0.5 | 0.0 |\n",
    "| 2.0 | 2.1 |\n",
    "| 7.0 | 7.8 |\n",
    "| 4.2 | 5.3 |\n",
    "*你会觉得这个模型已成功地描述了目标变量的变化吗？如果成功，请解释为什么，如果没有，也请给出原因。*  \n",
    "\n",
    "运行下方的代码，使用`performance_metric`函数来计算模型的决定系数。"
   ]
  },
  {
   "cell_type": "code",
   "execution_count": 6,
   "metadata": {},
   "outputs": [
    {
     "name": "stdout",
     "output_type": "stream",
     "text": [
      "Model has a coefficient of determination, R^2, of 0.923.\n"
     ]
    },
    {
     "data": {
      "image/png": "[encoded data removed]",
      "text/plain": [
       "<matplotlib.figure.Figure at 0x2d2af98>"
      ]
     },
     "metadata": {},
     "output_type": "display_data"
    }
   ],
   "source": [
    "# Calculate the performance of this model\n",
    "test_id = np.arange(1, 6)\n",
    "test_true = [3, -0.5, 2, 7, 4.2]\n",
    "test_predict = [2.5, 0.0, 2.1, 7.8, 5.3]\n",
    "score = performance_metric(test_true, test_predict)\n",
    "print \"Model has a coefficient of determination, R^2, of {:.3f}.\".format(score)\n",
    "\n",
    "import matplotlib.pyplot as plt\n",
    "plt.scatter(test_id, test_true, marker='o', label='true')\n",
    "plt.scatter(test_id, test_predict, marker='x', label='predict')\n",
    "plt.legend()\n",
    "plt.show()"
   ]
  },
  {
   "cell_type": "markdown",
   "metadata": {},
   "source": [
    "**回答**:\n",
    "- 由于$R^2=0.923$，可以知道模型拟合的比较好，也就是说模型可以解释92.3%的真实值。\n",
    "- 另一方面，通过画图对比两个数据集的分布趋势（如上图所示），可以看到预测点基本上都在真实值附近，因此该模型拟合的挺好的。"
   ]
  },
  {
   "cell_type": "markdown",
   "metadata": {},
   "source": [
    "### 练习: 数据分割与重排\n",
    "接下来，你需要把波士顿房屋数据集分成训练和测试两个子集。通常在这个过程中，数据也会被重新排序，以消除数据集中由于排序而产生的偏差。\n",
    "在下面的代码中，你需要：\n",
    "- 使用 `sklearn.model_selection` 中的 `train_test_split`， 将`features`和`prices`的数据都分成用于训练的数据子集和用于测试的数据子集。\n",
    "  - 分割比例为：80%的数据用于训练，20%用于测试；\n",
    "  - 选定一个数值以设定 `train_test_split` 中的 `random_state` ，这会确保结果的一致性；\n",
    "- 最终分离出的子集为`X_train`,`X_test`,`y_train`,和`y_test`。"
   ]
  },
  {
   "cell_type": "code",
   "execution_count": 11,
   "metadata": {},
   "outputs": [
    {
     "name": "stdout",
     "output_type": "stream",
     "text": [
      "X_total:  (489, 3)\n",
      "y_total:  (489L,)\n",
      "X_train:  (391, 3)\n",
      "X_test:  (98, 3)\n",
      "y_train:  (391L,)\n",
      "y_test:  (98L,)\n",
      "Training and testing split was successful.\n"
     ]
    }
   ],
   "source": [
    "from sklearn.model_selection import train_test_split\n",
    "\n",
    "\n",
    "# TODO: Shuffle and split the data into training and testing subsets\n",
    "X_train, X_test, y_train, y_test = train_test_split(features, prices, train_size = 0.8, random_state=0)\n",
    "\n",
    "print \"X_total: \", features.shape\n",
    "print \"y_total: \", prices.shape\n",
    "print \"X_train: \", X_train.shape\n",
    "print \"X_test: \", X_test.shape\n",
    "print \"y_train: \", y_train.shape\n",
    "print \"y_test: \", y_test.shape\n",
    "# Success\n",
    "print \"Training and testing split was successful.\""
   ]
  },
  {
   "cell_type": "markdown",
   "metadata": {},
   "source": [
    "### 问题 3- 训练及测试\n",
    "*将数据集按一定比例分为训练用的数据集和测试用的数据集对学习算法有什么好处？*\n",
    "\n",
    "**提示：** 如果没有数据来对模型进行测试，会出现什么问题？"
   ]
  },
  {
   "cell_type": "markdown",
   "metadata": {},
   "source": [
    "**答案: ** 不考虑交叉验证中用到的验证数据集，有以下结论：\n",
    "- **训练数据集**用来建立和完善模型。模型的训练误差可以指示模型是否欠拟合，如果模型的训练误差很大，就说明模型过于简单，连该学的特征和关系还没有学会。\n",
    "- **测试数据集**则主要用来评估模型。模型针对测试数据集的误差可以指示模型是否过拟合，如果模型的训练误差极小，但测试数据集的误差较大，就说明模型过于复杂，把不应该学的也学了。\n",
    "- 模型存在的根本目的，是为了预测未来的未知数据集。但是由于我们不可能未卜先知，因此我们不可能用未知的数据集来评估模型，我们只能使用已知且尚未用于训练模型的数据集（即测试数据）来评估模型，并用**测试数据的误差**来近似未知数据集的**泛化误差**。\n",
    "\n",
    "综上所述，如果模型未经测试，将不知道模型的泛化能力如何（有可能已经过拟合）。\n",
    "\n",
    "将数据集拆分为训练用和测试用可以确保训练和测试是完全独立的，即测试数据完全没有参与建立模型的过程，这样模型在测试集下的性能才是客观的。"
   ]
  },
  {
   "cell_type": "markdown",
   "metadata": {},
   "source": [
    "----\n",
    "\n",
    "## 分析模型的表现\n",
    "在项目的第三部分，我们来看一下几个模型针对不同的数据集在学习和测试上的表现。另外，你需要专注于一个特定的算法，用全部训练集训练时，提高它的`'max_depth'` 参数，观察这一参数的变化如何影响模型的表现。把你模型的表现画出来对于分析过程十分有益。可视化可以让我们看到一些单看结果看不到的行为。"
   ]
  },
  {
   "cell_type": "markdown",
   "metadata": {},
   "source": [
    "### 学习曲线\n",
    "下方区域内的代码会输出四幅图像，它们是一个决策树模型在不同最大深度下的表现。每一条曲线都直观的显示了随着训练数据量的增加，模型学习曲线的训练评分和测试评分的变化。注意，曲线的阴影区域代表的是该曲线的不确定性（用标准差衡量）。这个模型的训练和测试部分都使用决定系数R<sup>2</sup>来评分。\n",
    "\n",
    "运行下方区域中的代码，并利用输出的图形回答下面的问题。"
   ]
  },
  {
   "cell_type": "code",
   "execution_count": 159,
   "metadata": {
    "scrolled": false
   },
   "outputs": [
    {
     "data": {
      "image/png": "[encoded data removed]",
      "text/plain": [
       "<matplotlib.figure.Figure at 0xc4ab438>"
      ]
     },
     "metadata": {},
     "output_type": "display_data"
    }
   ],
   "source": [
    "# Produce learning curves for varying training set sizes and maximum depths\n",
    "vs.ModelLearning(features, prices)"
   ]
  },
  {
   "cell_type": "markdown",
   "metadata": {},
   "source": [
    "### 问题 4 - 学习数据\n",
    "*选择上述图像中的其中一个，并给出其最大深度。随着训练数据量的增加，训练曲线的评分有怎样的变化？测试曲线呢？如果有更多的训练数据，是否能有效提升模型的表现呢？*\n",
    "**提示：**学习曲线的评分是否最终会收敛到特定的值？"
   ]
  },
  {
   "cell_type": "markdown",
   "metadata": {},
   "source": [
    "**答案: **\n",
    "\n",
    "- 对于`max_depth = 3`的图，随着训练数据量的增加，训练曲线的评分从1逐渐趋近于0.8，测试曲线也从0逐渐趋近于0.8。似乎即使有更多的数据，也不能让这两个分数有太大变化了，因为收敛值就是0.8左右，意思就是这个深度的决策树只能达到这个水平了。"
   ]
  },
  {
   "cell_type": "markdown",
   "metadata": {},
   "source": [
    "### 复杂度曲线\n",
    "下列代码内的区域会输出一幅图像，它展示了一个已经经过训练和验证的决策树模型在不同最大深度条件下的表现。这个图形将包含两条曲线，一个是训练的变化，一个是测试的变化。跟**学习曲线**相似，阴影区域代表该曲线的不确定性，模型训练和测试部分的评分都用的 `performance_metric` 函数。\n",
    "\n",
    "运行下方区域中的代码，并利用输出的图形并回答下面的两个问题。"
   ]
  },
  {
   "cell_type": "code",
   "execution_count": 160,
   "metadata": {},
   "outputs": [
    {
     "data": {
      "image/png": "[encoded data removed]",
      "text/plain": [
       "<matplotlib.figure.Figure at 0xd32c4a8>"
      ]
     },
     "metadata": {},
     "output_type": "display_data"
    }
   ],
   "source": [
    "vs.ModelComplexity(X_train, y_train)"
   ]
  },
  {
   "cell_type": "markdown",
   "metadata": {},
   "source": [
    "### 问题 5- 偏差与方差之间的权衡取舍\n",
    "*当模型以最大深度 1训练时，模型的预测是出现很大的偏差还是出现了很大的方差？当模型以最大深度10训练时，情形又如何呢？图形中的哪些特征能够支持你的结论？*\n",
    "  \n",
    "**提示：** 你如何得知模型是否出现了偏差很大或者方差很大的问题？"
   ]
  },
  {
   "cell_type": "markdown",
   "metadata": {},
   "source": [
    "**答案: **\n",
    "- 模型以最大深度1训练时，训练的分数和测试的分数都在0.4左右。训练的分数低，说明模型过于简单，该学的还学的不够，所以是偏差大（bias）。\n",
    "- 模型以最大深度10训练时，训练分数已经接近满分，但是测试分数相对最大深度9的分数有所下降，变成了0.7。训练分数极好但测试分数不尽人意，说明模型过于复杂，学的太多了，把训练样本里不该学的东西也学了，逐渐失去了泛化能力，因此测试样本分就低了，所以是方差大（variance）。"
   ]
  },
  {
   "cell_type": "markdown",
   "metadata": {},
   "source": [
    "### 问题 6- 最优模型的猜测\n",
    "*你认为最大深度是多少的模型能够最好地对未见过的数据进行预测？你得出这个答案的依据是什么？*"
   ]
  },
  {
   "cell_type": "markdown",
   "metadata": {},
   "source": [
    "#### **答案: **\n",
    "从图中看应该是`max_depth = 4`的模型。此时的验证集的分数达到最高，再大的话分数就开始逐渐降低。因此这个深度的模型最好。\n",
    "\n",
    "后来把整体代码全单独择出来在PyCharm里跑了几次，发现有小概率会出现最优解返回为5的情况，这取决于对数据集划分后数据集的分布情况。"
   ]
  },
  {
   "cell_type": "markdown",
   "metadata": {},
   "source": [
    "-----\n",
    "\n",
    "## 评价模型表现\n",
    "在这个项目的最后，你将自己建立模型，并使用最优化的`fit_model`函数，基于客户房子的特征来预测该房屋的价值。"
   ]
  },
  {
   "cell_type": "markdown",
   "metadata": {},
   "source": [
    "### 问题 7- 网格搜索（Grid Search）\n",
    "*什么是网格搜索法？如何用它来优化学习算法？*\n"
   ]
  },
  {
   "cell_type": "markdown",
   "metadata": {},
   "source": [
    "**回答: **\n",
    "网格搜索本质上是利用**穷举的思想**尝试不同的参数组合来确定最优模型。不过具体到实现上，网格搜索并不是完全的穷举（那样运算量太大了），而是：\n",
    "\n",
    "- Step #1：让用户直接指明要搜索哪几个参数，并限定这些个参数要搜索的取值范围（这里的参数指的是**模型自身的参数**，而不是训练数据的特征参数，对于决策树来说主要是树的深度，对于神经网络来说主要是隐藏层数等），这样网格搜索就可以根据这些信息构造出来一个搜索空间（本质上是这些参数取值的排列组合，每个组合都对应一个模型）。\n",
    "\n",
    "\n",
    "- Step #2：然后再用训练数据集来跑这些模型，选出训练出来的模型中评分最好的作为最终模型。其中这里所说的评分对于分类模型可能是F1 Score，对于回归模型可能是$R^2$。这种“训练很多模型然后挑选最优模型的过程”，就是模型参数本身的调优过程，由于本质上这是寻找参数分布规律（即参数的参数）的操作，因此也被称为超参数搜索（Hyper-parameter Search）。\n",
    "\n"
   ]
  },
  {
   "cell_type": "markdown",
   "metadata": {},
   "source": [
    "### 问题 8- 交叉验证\n",
    "*什么是K折交叉验证法（k-fold cross-validation）？优化模型时，使用这种方法对网格搜索有什么好处？网格搜索是如何结合交叉验证来完成对最佳参数组合的选择的？* \n",
    "\n",
    "**提示：** 跟为何需要一组测试集的原因差不多，网格搜索时如果不使用交叉验证会有什么问题？GridSearchCV中的[`'cv_results'`](http://scikit-learn.org/stable/modules/generated/sklearn.model_selection.GridSearchCV.html)属性能告诉我们什么？"
   ]
  },
  {
   "cell_type": "markdown",
   "metadata": {},
   "source": [
    "**答案: 三个问题，依次回答如下。**\n",
    "\n",
    "--------\n",
    "\n",
    "**问：什么是K折交叉验证法（k-fold cross-validation）？**\n",
    "\n",
    "- 答：在解释K折交叉验证法之前，首先让我们来看看没有交叉验证法是什么样的。在没有交叉验证的时候，机器学习的数据集只分为训练集和测试集。用训练集训练出来的模型就已经是最终模型了，再把测试集放到我们的模型中跑来评估模型的泛化性能。要特别注意的是，这时候不管测试出来的结果好与坏，都已经成定局了，我们不能再用测试集来修正模型，那样就是作弊了，一方面违反了测试集不能参与模型构建和训练的规定，一方面手头再也没有模型没用过的数据了。此时的测试集也就变相成为训练集，得出的性能评分只能评估bias不能评估variance，即使模型出现过拟合也意识不到。**那么如何做到既不动测试集，又能够评估模型的泛化性能呢？**为了避免上面这种没有回旋余地的窘境，解决方案就是我们把原训练集`Train`进一步拆分为`Train'`和`Validation`（即新训练集和验证集），其中验证集用来评估模型的泛化能力。这样，我们就成功做到在未使用测试集的前提下对模型的bias（用训练集）和variance（用验证集）进行评估。\n",
    "\n",
    "```\n",
    "\n",
    "┌────────────────────────────────────┬────────────┐\n",
    "│                Train               │    Test    │\n",
    "└────────────────────────────────────┴────────────┘\n",
    "↑                                    ↑\n",
    "┌───────────────────────┬────────────┐\n",
    "│         Train'        │ Validation │\n",
    "└───────────────────────┴────────────┘\n",
    "                        Pretend As Test\n",
    "\n",
    "```\n",
    "\n",
    "而**K折交叉验证法**就是在此基础上，将原训练集进一步等分为K段互斥子集，构造K套不同的训练集+验证集组合，其中每个组合依次使用K段中的1段作为验证集，剩下K-1段作为训练集。然后将模型用这K套数据集进行训练/评估，最后将这K次训练后用相应验证集评估得到的K个性能分数求平均作为模型的整体性能。"
   ]
  },
  {
   "cell_type": "markdown",
   "metadata": {},
   "source": [
    "------\n",
    "\n",
    "**问：优化模型时，使用K折交叉验证法对网格搜索有什么好处？**\n",
    "\n",
    "- 答：假设我们不用网格搜索 + K-Fold CV，而是直接用网格搜索 + Hold-out，可能会导致网格搜索得到的所谓“最优模型”并不是真正的最优模型，而如果用了K-Fold CV就可以减少这种可能性。这背后的原因在于数据集的分布和划分。**机器学习所用的数据集有以下2个大前提：**\n",
    " \n",
    " \n",
    "- **数据集本身能够代表真实世界中事物的趋势和分布**。具体可以细分为两个维度：\n",
    "    \n",
    "    - **纵向（时间维）**：比如波士顿房价数据集，只能反应数据集采集的那个年代波士顿的房价，用于预测现在的波士顿肯定不现实。因为它不能代表当前波士顿房价的趋势和分布特性。\n",
    "    \n",
    "    - **横向（特征维）**：数据集所提供的特征应该尽可能的全面。真实世界中，影响一个事物发展趋势的因素是相当复杂和多样的，如果数据集包含的特征过少，那么无论你怎么训练，都不可能进行准确的预测，因为忽略了一些重要因素。\n",
    "  \n",
    "  \n",
    "- **数据集内训练集和验证集的划分应尽可能保证独立同分布（I.I.D）**。如果两者分布是一致的，那么网格搜索出的最优解就是真的最优解。如果两者的分布差别很大，比如训练集中A特征特别重要，但验证集中B特征特别重要，那么即使用网格搜索得到的“最优解”性能可能也很差，原因是它训练出来的模型只能用于预测**符合训练集统计特征的数据**，用在验证集上就不好使了，因此并不是针对整体数据集来说的最优解。K-Fold CV通过多次尝试求平均从统计角度上规避了这种情况的出现，搭配网格搜索，可以确保网格搜索的解是真的最优解。\n"
   ]
  },
  {
   "cell_type": "markdown",
   "metadata": {},
   "source": [
    "------\n",
    "\n",
    "**问：网格搜索是如何结合交叉验证来完成对最佳参数组合的选择的？**\n",
    "\n",
    "- 答：网格搜索负责hold住模型这边的参数调优，交叉验证负责hold住数据集这边确保分布平均打分。两者嵌套在一起，完成最佳参数组合的选择。（见下面我简单写的伪代码）\n",
    "\n",
    "```\n",
    "伪代码：\n",
    "\n",
    "1. 准备网格搜索：给网格搜索指明要搜索的参数和参数取值区间，假设一共有<M>种排列组合。\n",
    "\n",
    "2. 准备数据集：将数据集用K-Fold CV划分成<K>套训练集+验证集。\n",
    "\n",
    "3. for 模型参数组合i in range(M)：\n",
    "\n",
    "      for 训练集j in range(K)：\n",
    "\n",
    "          训练模型\n",
    "\n",
    "          用验证集j对模型评分存入score[j]\n",
    "\n",
    "      end\n",
    "\n",
    "      将score数组的平均值存入mean_score[i]\n",
    "\n",
    "   end\n",
    "\n",
    "4. 选择mean_score最大的模型参数组合作为最终模型。\n",
    "\n",
    "```\n",
    "\n",
    "\n",
    "\n",
    "---\n",
    "`cv_results_`不仅包含用户配置的搜索空间，也包含通过网格搜索加K-Fold得到的所有结论，包括各个split的训练得分和测试得分等等。\n",
    "\n",
    "以下面代码为例，可以看到sklearn中的网格搜索模型是如何具体构造出来的：\n",
    "```\n",
    "grid = GridSearchCV(estimator=regressor, param_grid=params, scoring=scoring_fnc, cv=cv_sets)\n",
    "```\n",
    "- `estimator` 要用的机器学习模型对象：这里实际上用的还是决策树。\n",
    "- `param_grid` 参数网格词典：用户需要提供他认为对该模型调优很重要的参数以及可能的取值（潜在的最优参数区间），这样就限定了网格搜索只在一个有限的空间内搜索，不会太耗费时间。词典的每一个键值对都是一个参与搜索的参数维度。键值对的键表示这个参数的名称，在这里用的是是决策树的深度。键值对的值是这个参数所需要搜索的取值列表，这里选择的要尝试的范围是1到10。参数的具体取值可以通过先画学习曲线来确定下大致的取值范围。\n",
    "- `scoring` 评分机制：指定评价模型好坏的评估参数，这里用的实际上就是$R^2$。\n",
    "- `cv` 交叉验证集：给出用来训练和验证用的数据集。这里使用了ShuffleSplit将原数据的训练集构造成为训练集和验证集。\n"
   ]
  },
  {
   "cell_type": "markdown",
   "metadata": {},
   "source": [
    "### 练习：训练模型\n",
    "在最后一个练习中，你将需要将所学到的内容整合，使用**决策树演算法**训练一个模型。为了保证你得出的是一个最优模型，你需要使用网格搜索法训练模型，以找到最佳的 `'max_depth'` 参数。你可以把`'max_depth'` 参数理解为决策树算法在做出预测前，允许其对数据提出问题的数量。决策树是**监督学习算法**中的一种。\n",
    "\n",
    "此外，你会发现你的实现使用的是 `ShuffleSplit()` 。它也是交叉验证的一种方式（见变量 `'cv_sets'`）。虽然这不是**问题8**中描述的 K-Fold 交叉验证，这个教程验证方法也很有用！这里 `ShuffleSplit()` 会创造10个(`'n_splits'`)混洗过的集合，每个集合中20%(`'test_size'`)的数据会被用作**验证集**。当你在实现的时候，想一想这跟 K-Fold 交叉验证有哪些相同点，哪些不同点？\n",
    "\n",
    "在下方 `fit_model` 函数中，你需要做的是：\n",
    "- 使用  `sklearn.tree` 中的 [`DecisionTreeRegressor`](http://scikit-learn.org/stable/modules/generated/sklearn.tree.DecisionTreeRegressor.html) 创建一个决策树的回归函数；\n",
    "  - 将这个回归函数储存到 `'regressor'` 变量中；\n",
    "- 为 `'max_depth'` 创造一个字典，它的值是从1至10的数组，并储存到 `'params'` 变量中；\n",
    "- 使用 `sklearn.metrics` 中的 [`make_scorer`](http://scikit-learn.org/stable/modules/generated/sklearn.metrics.make_scorer.html)  创建一个评分函数；\n",
    "  - 将 `performance_metric` 作为参数传至这个函数中；\n",
    "  - 将评分函数储存到 `'scoring_fnc'` 变量中；\n",
    "- 使用 `sklearn.model_selection` 中的 [`GridSearchCV`](http://scikit-learn.org/stable/modules/generated/sklearn.model_selection.GridSearchCV.html) 创建一个网格搜索对象；\n",
    "  - 将变量`'regressor'`, `'params'`, `'scoring_fnc'`, 和 `'cv_sets'` 作为参数传至这个对象中；\n",
    "  - 将 `GridSearchCV` 存到 `'grid'` 变量中。\n",
    "  \n",
    "如果有同学对python函数如何传递多个参数不熟悉，可以参考这个MIT课程的[视频](http://cn-static.udacity.com/mlnd/videos/MIT600XXT114-V004200_DTH.mp4)。"
   ]
  },
  {
   "cell_type": "code",
   "execution_count": 12,
   "metadata": {
    "collapsed": true
   },
   "outputs": [],
   "source": [
    "# TODO: Import 'make_scorer', 'DecisionTreeRegressor', and 'GridSearchCV'\n",
    "from sklearn.tree import DecisionTreeRegressor\n",
    "from sklearn.metrics import make_scorer\n",
    "from sklearn.model_selection import GridSearchCV\n",
    "\n",
    "def fit_model(X, y):\n",
    "    \"\"\" Performs grid search over the 'max_depth' parameter for a \n",
    "        decision tree regressor trained on the input data [X, y]. \"\"\"\n",
    "    \n",
    "    # Create cross-validation sets from the training data\n",
    "    cv_sets = ShuffleSplit(n_splits = 10, test_size = 0.2, random_state = 0)\n",
    "\n",
    "    # TODO: Create a decision tree regressor object\n",
    "    regressor = DecisionTreeRegressor(random_state=0)\n",
    "\n",
    "    # TODO: Create a dictionary for the parameter 'max_depth' with a range from 1 to 10\n",
    "    params = {'max_depth' : np.arange(1, 11)}\n",
    "\n",
    "    # TODO: Transform 'performance_metric' into a scoring function using 'make_scorer' \n",
    "    scoring_fnc = make_scorer(performance_metric)\n",
    "\n",
    "    # 注意一定要Shift+Tab查看函数签名，特别是对于这种参数巨多而且全带默认值的函数，不指明参数名就赋值很容易出奇怪的错误。\n",
    "    # 如果最后一个参数不写成`cv=cv_sets`，那么会被识别成fit_params这个参数，导致报一堆错。\n",
    "    grid = GridSearchCV(regressor, params, scoring_fnc, cv=cv_sets)\n",
    "\n",
    "    # Fit the grid search object to the data to compute the optimal model\n",
    "    grid.fit(X, y)\n",
    "\n",
    "    # Return the optimal model after fitting the data\n",
    "    return grid.best_estimator_"
   ]
  },
  {
   "cell_type": "markdown",
   "metadata": {},
   "source": [
    "### 做出预测\n",
    "当我们用数据训练出一个模型，它现在就可用于对新的数据进行预测。在决策树回归函数中，模型已经学会对新输入的数据*提问*，并返回对**目标变量**的预测值。你可以用这个预测来获取数据未知目标变量的信息，这些数据必须是不包含在训练数据之内的。"
   ]
  },
  {
   "cell_type": "markdown",
   "metadata": {},
   "source": [
    "### 问题 9- 最优模型\n",
    "*最优模型的最大深度（maximum depth）是多少？此答案与你在**问题 6**所做的猜测是否相同？*\n",
    "\n",
    "运行下方区域内的代码，将决策树回归函数代入训练数据的集合，以得到最优化的模型。"
   ]
  },
  {
   "cell_type": "code",
   "execution_count": 13,
   "metadata": {
    "scrolled": true
   },
   "outputs": [
    {
     "name": "stdout",
     "output_type": "stream",
     "text": [
      "Parameter 'max_depth' is 4 for the optimal model.\n"
     ]
    }
   ],
   "source": [
    "# Fit the training data to the model using grid search\n",
    "reg = fit_model(features, prices)\n",
    "\n",
    "# Produce the value for 'max_depth'\n",
    "print \"Parameter 'max_depth' is {} for the optimal model.\".format(reg.get_params()['max_depth'])"
   ]
  },
  {
   "cell_type": "markdown",
   "metadata": {},
   "source": [
    "**Answer: 最优模型的最大深度是4，和图上看的基本上接近。**"
   ]
  },
  {
   "cell_type": "markdown",
   "metadata": {},
   "source": [
    "### 问题 10 - 预测销售价格\n",
    "想像你是一个在波士顿地区的房屋经纪人，并期待使用此模型以帮助你的客户评估他们想出售的房屋。你已经从你的三个客户收集到以下的资讯:\n",
    "\n",
    "| 特征 | 客戶 1 | 客戶 2 | 客戶 3 |\n",
    "| :---: | :---: | :---: | :---: |\n",
    "| 房屋内房间总数 | 5 间房间 | 4 间房间 | 8 间房间 |\n",
    "| 社区贫困指数（％被认为是贫困阶层） | 17% | 32% | 3% |\n",
    "| 邻近学校的学生-老师比例 | 15：1 | 22：1 | 12：1 |\n",
    "\n",
    "*你会建议每位客户的房屋销售的价格为多少？从房屋特征的数值判断，这样的价格合理吗？* \n",
    "\n",
    "**提示：**用你在**分析数据**部分计算出来的统计信息来帮助你证明你的答案。\n",
    "\n",
    "运行下列的代码区域，使用你优化的模型来为每位客户的房屋价值做出预测。"
   ]
  },
  {
   "cell_type": "code",
   "execution_count": 14,
   "metadata": {},
   "outputs": [
    {
     "name": "stdout",
     "output_type": "stream",
     "text": [
      "Predicted selling price for Client 1's home: $408,800.00\n",
      "Predicted selling price for Client 2's home: $231,253.45\n",
      "Predicted selling price for Client 3's home: $938,053.85\n"
     ]
    }
   ],
   "source": [
    "# Produce a matrix for client data\n",
    "client_data = [[5, 17, 15], # Client 1\n",
    "               [4, 32, 22], # Client 2\n",
    "               [8, 3, 12]]  # Client 3\n",
    "\n",
    "# Show predictions\n",
    "for i, price in enumerate(reg.predict(client_data)):\n",
    "    print \"Predicted selling price for Client {}'s home: ${:,.2f}\".format(i+1, price)"
   ]
  },
  {
   "cell_type": "markdown",
   "metadata": {},
   "source": [
    "**答案: **\n",
    "建议销售价：\n",
    "```\n",
    "- Client A: $408,800\n",
    "- Client B: $231,253\n",
    "- Client C: $938,053\n",
    "```\n",
    "价格挺合理的。\n",
    "\n",
    "\n",
    "- 首先可以将结果与一开始得到的所有房价数据的统计信息对比如下，可见房价的区间为105000至1024800，三个客户的建议价格都在这个取值区间内。\n",
    "```\n",
    "Minimum price: $105,000.00\n",
    "Maximum price: $1,024,800.00\n",
    "Mean price: $454,342.94\n",
    "Median price $438,900.00\n",
    "Standard deviation of prices: $165,171.13\n",
    "```\n",
    "\n",
    "- 然后可以有针对性的看每个顾客的房型对应的房价数据的分布\n"
   ]
  },
  {
   "cell_type": "code",
   "execution_count": 18,
   "metadata": {},
   "outputs": [
    {
     "name": "stdout",
     "output_type": "stream",
     "text": [
      "count         5.000000\n",
      "mean     357420.000000\n",
      "std      166334.052437\n",
      "min      184800.000000\n",
      "25%      249900.000000\n",
      "50%      289800.000000\n",
      "75%      485100.000000\n",
      "max      577500.000000\n",
      "Name: MEDV, dtype: float64\n"
     ]
    },
    {
     "data": {
      "text/html": [
       "<div>\n",
       "<style>\n",
       "    .dataframe thead tr:only-child th {\n",
       "        text-align: right;\n",
       "    }\n",
       "\n",
       "    .dataframe thead th {\n",
       "        text-align: left;\n",
       "    }\n",
       "\n",
       "    .dataframe tbody tr th {\n",
       "        vertical-align: top;\n",
       "    }\n",
       "</style>\n",
       "<table border=\"1\" class=\"dataframe\">\n",
       "  <thead>\n",
       "    <tr style=\"text-align: right;\">\n",
       "      <th></th>\n",
       "      <th>RM</th>\n",
       "      <th>LSTAT</th>\n",
       "      <th>PTRATIO</th>\n",
       "      <th>MEDV</th>\n",
       "    </tr>\n",
       "  </thead>\n",
       "  <tbody>\n",
       "    <tr>\n",
       "      <th>353</th>\n",
       "      <td>3.561</td>\n",
       "      <td>7.12</td>\n",
       "      <td>20.2</td>\n",
       "      <td>577500.0</td>\n",
       "    </tr>\n",
       "    <tr>\n",
       "      <th>355</th>\n",
       "      <td>3.863</td>\n",
       "      <td>13.33</td>\n",
       "      <td>20.2</td>\n",
       "      <td>485100.0</td>\n",
       "    </tr>\n",
       "    <tr>\n",
       "      <th>357</th>\n",
       "      <td>4.138</td>\n",
       "      <td>37.97</td>\n",
       "      <td>20.2</td>\n",
       "      <td>289800.0</td>\n",
       "    </tr>\n",
       "    <tr>\n",
       "      <th>367</th>\n",
       "      <td>4.368</td>\n",
       "      <td>30.63</td>\n",
       "      <td>20.2</td>\n",
       "      <td>184800.0</td>\n",
       "    </tr>\n",
       "    <tr>\n",
       "      <th>389</th>\n",
       "      <td>4.138</td>\n",
       "      <td>23.34</td>\n",
       "      <td>20.2</td>\n",
       "      <td>249900.0</td>\n",
       "    </tr>\n",
       "  </tbody>\n",
       "</table>\n",
       "</div>"
      ],
      "text/plain": [
       "        RM  LSTAT  PTRATIO      MEDV\n",
       "353  3.561   7.12     20.2  577500.0\n",
       "355  3.863  13.33     20.2  485100.0\n",
       "357  4.138  37.97     20.2  289800.0\n",
       "367  4.368  30.63     20.2  184800.0\n",
       "389  4.138  23.34     20.2  249900.0"
      ]
     },
     "execution_count": 18,
     "metadata": {},
     "output_type": "execute_result"
    }
   ],
   "source": [
    "# Client A has Room == 4 由于相应样本较少，可以同时看一下原始数据及房价的统计数据\n",
    "a = data[(data['RM'] > 3.5) & (data['RM'] < 4.5)]\n",
    "print a.MEDV.describe()\n",
    "a"
   ]
  },
  {
   "cell_type": "markdown",
   "metadata": {},
   "source": [
    "可以看到数据集中4间房左右的房价均值为35万，标准差为16万，考虑到另外两种特征的分布，因此Client A建议40万是合适的。"
   ]
  },
  {
   "cell_type": "code",
   "execution_count": 10,
   "metadata": {},
   "outputs": [
    {
     "data": {
      "text/plain": [
       "count        36.000000\n",
       "mean     293416.666667\n",
       "std      101980.105903\n",
       "min      105000.000000\n",
       "25%      217350.000000\n",
       "50%      296100.000000\n",
       "75%      374325.000000\n",
       "max      497700.000000\n",
       "Name: MEDV, dtype: float64"
      ]
     },
     "execution_count": 10,
     "metadata": {},
     "output_type": "execute_result"
    }
   ],
   "source": [
    "# Client B has Room == 5\n",
    "data[(data['RM'] > 4.5) & (data['RM'] < 5.5)].MEDV.describe()"
   ]
  },
  {
   "cell_type": "markdown",
   "metadata": {},
   "source": [
    "可以看到数据集中5间房左右的房价均值为29万，标准差为10万，考虑到另外两种特征的分布，因此Client B建议23万是合适的。"
   ]
  },
  {
   "cell_type": "code",
   "execution_count": 21,
   "metadata": {},
   "outputs": [
    {
     "name": "stdout",
     "output_type": "stream",
     "text": [
      "count    7.000000e+00\n",
      "mean     9.081000e+05\n",
      "std      9.151164e+04\n",
      "min      7.896000e+05\n",
      "25%      8.442000e+05\n",
      "50%      8.988000e+05\n",
      "75%      9.775500e+05\n",
      "max      1.024800e+06\n",
      "Name: MEDV, dtype: float64\n"
     ]
    },
    {
     "data": {
      "text/html": [
       "<div>\n",
       "<style>\n",
       "    .dataframe thead tr:only-child th {\n",
       "        text-align: right;\n",
       "    }\n",
       "\n",
       "    .dataframe thead th {\n",
       "        text-align: left;\n",
       "    }\n",
       "\n",
       "    .dataframe tbody tr th {\n",
       "        vertical-align: top;\n",
       "    }\n",
       "</style>\n",
       "<table border=\"1\" class=\"dataframe\">\n",
       "  <thead>\n",
       "    <tr style=\"text-align: right;\">\n",
       "      <th></th>\n",
       "      <th>RM</th>\n",
       "      <th>LSTAT</th>\n",
       "      <th>PTRATIO</th>\n",
       "      <th>MEDV</th>\n",
       "    </tr>\n",
       "  </thead>\n",
       "  <tbody>\n",
       "    <tr>\n",
       "      <th>97</th>\n",
       "      <td>8.069</td>\n",
       "      <td>4.21</td>\n",
       "      <td>18.0</td>\n",
       "      <td>812700.0</td>\n",
       "    </tr>\n",
       "    <tr>\n",
       "      <th>217</th>\n",
       "      <td>8.266</td>\n",
       "      <td>4.14</td>\n",
       "      <td>17.4</td>\n",
       "      <td>940800.0</td>\n",
       "    </tr>\n",
       "    <tr>\n",
       "      <th>218</th>\n",
       "      <td>8.040</td>\n",
       "      <td>3.13</td>\n",
       "      <td>17.4</td>\n",
       "      <td>789600.0</td>\n",
       "    </tr>\n",
       "    <tr>\n",
       "      <th>224</th>\n",
       "      <td>8.337</td>\n",
       "      <td>2.47</td>\n",
       "      <td>17.4</td>\n",
       "      <td>875700.0</td>\n",
       "    </tr>\n",
       "    <tr>\n",
       "      <th>225</th>\n",
       "      <td>8.247</td>\n",
       "      <td>3.95</td>\n",
       "      <td>17.4</td>\n",
       "      <td>1014300.0</td>\n",
       "    </tr>\n",
       "    <tr>\n",
       "      <th>245</th>\n",
       "      <td>8.259</td>\n",
       "      <td>3.54</td>\n",
       "      <td>19.1</td>\n",
       "      <td>898800.0</td>\n",
       "    </tr>\n",
       "    <tr>\n",
       "      <th>253</th>\n",
       "      <td>8.398</td>\n",
       "      <td>5.91</td>\n",
       "      <td>13.0</td>\n",
       "      <td>1024800.0</td>\n",
       "    </tr>\n",
       "  </tbody>\n",
       "</table>\n",
       "</div>"
      ],
      "text/plain": [
       "        RM  LSTAT  PTRATIO       MEDV\n",
       "97   8.069   4.21     18.0   812700.0\n",
       "217  8.266   4.14     17.4   940800.0\n",
       "218  8.040   3.13     17.4   789600.0\n",
       "224  8.337   2.47     17.4   875700.0\n",
       "225  8.247   3.95     17.4  1014300.0\n",
       "245  8.259   3.54     19.1   898800.0\n",
       "253  8.398   5.91     13.0  1024800.0"
      ]
     },
     "execution_count": 21,
     "metadata": {},
     "output_type": "execute_result"
    }
   ],
   "source": [
    "# Client C has Room == 9 由于样本较少，可以看一下8间房左右的房价统计数据\n",
    "c = data[(data['RM'] > 8) & (data['RM'] < 10)]\n",
    "print c.MEDV.describe()\n",
    "c"
   ]
  },
  {
   "cell_type": "markdown",
   "metadata": {},
   "source": [
    "可以看到数据集中8间房左右的房价均值为90万，标准差为9万，考虑到另外两种特征的分布，因此Client C建议93万是合适的。"
   ]
  },
  {
   "cell_type": "markdown",
   "metadata": {},
   "source": [
    "### ！也可以使用KNN（K近邻）来验证房价数据预测的靠谱程度\n",
    "\n",
    "将Client的特征信息用于寻找最近的5个数据点，然后看看这几个点的房价和预测值的差距是否合理，就能知道大概拟合的怎么样了。"
   ]
  },
  {
   "cell_type": "code",
   "execution_count": 49,
   "metadata": {
    "scrolled": true
   },
   "outputs": [
    {
     "name": "stdout",
     "output_type": "stream",
     "text": [
      "[[101 168 382 232 381]]\n",
      "以第一个Client为例，其各项特征值为：\n",
      "[5, 17, 15] 房价预测 = 408800\n",
      "KNN寻找到的最近训练数据点的各项特征值为：\n",
      "5.628 16.65 14.7 房价预测 = 327600.0\n",
      "5.272 16.14 14.7 房价预测 = 275100.0\n",
      "6.004 17.1 15.2 房价预测 = 396900.0\n",
      "5.79 15.84 16.0 房价预测 = 426300.0\n",
      "5.951 17.92 16.4 房价预测 = 451500.0\n"
     ]
    }
   ],
   "source": [
    "from sklearn.neighbors import NearestNeighbors\n",
    "nb = NearestNeighbors()\n",
    "nb.fit(X_train)\n",
    "\n",
    "# Get the nearest 5 neighbors as reference\n",
    "candidates = nb.kneighbors([client_data[0]], n_neighbors=5, return_distance=False) \n",
    "print candidates\n",
    "print \"以第一个Client为例，其各项特征值为：\"\n",
    "print client_data[0], \"房价预测 = 408800\"\n",
    "print \"KNN寻找到的最近训练数据点的各项特征值为：\"\n",
    "for i in range(5):\n",
    "    c = X_train.iloc[candidates[0][i]]\n",
    "    print float(c.RM), float(c.LSTAT), float(c.PTRATIO), \"房价预测 =\", float(y_train.iloc[candidates[0][i]])"
   ]
  },
  {
   "cell_type": "markdown",
   "metadata": {},
   "source": [
    "注意由于之前的train_test_split已经将data的数据顺序重新采样打乱生成为X_train和y_train，因此这里面的存储顺序和主键顺序已经不再一致。所以使用KNN找到了最近五个训练数据点的编号是其存储顺序的编号，而不是主键。因此需要用iloc访问，而不是loc。"
   ]
  },
  {
   "cell_type": "markdown",
   "metadata": {},
   "source": [
    "### 敏感度\n",
    "\n",
    "一个最优的模型不一定是一个健壮模型。有的时候模型会过于复杂或者过于简单，以致于难以泛化新增添的数据；有的时候模型采用的学习算法并不适用于特定的数据结构；有的时候样本本身可能有太多噪点或样本过少，使得模型无法准确地预测目标变量。这些情况下我们会说模型是欠拟合的。执行下方区域中的代码，采用不同的训练和测试集执行 `fit_model` 函数10次。注意观察对一个特定的客户来说，预测是如何随训练数据的变化而变化的。"
   ]
  },
  {
   "cell_type": "code",
   "execution_count": 164,
   "metadata": {
    "scrolled": true
   },
   "outputs": [
    {
     "name": "stdout",
     "output_type": "stream",
     "text": [
      "Trial 1: $391,183.33\n",
      "Trial 2: $424,935.00\n",
      "Trial 3: $415,800.00\n",
      "Trial 4: $420,622.22\n",
      "Trial 5: $418,377.27\n",
      "Trial 6: $411,931.58\n",
      "Trial 7: $399,663.16\n",
      "Trial 8: $407,232.00\n",
      "Trial 9: $351,577.61\n",
      "Trial 10: $413,700.00\n",
      "\n",
      "Range in prices: $73,357.39\n"
     ]
    }
   ],
   "source": [
    "vs.PredictTrials(features, prices, fit_model, client_data)"
   ]
  },
  {
   "cell_type": "markdown",
   "metadata": {},
   "source": [
    "### 问题 11 - 实用性探讨\n",
    "*简单地讨论一下你建构的模型能否在现实世界中使用？* \n",
    "\n",
    "**提示：** 回答几个问题，并给出相应结论的理由：\n",
    "- *1978年所采集的数据，在今天是否仍然适用？*\n",
    "- *数据中呈现的特征是否足够描述一个房屋？*\n",
    "- *模型是否足够健壮来保证预测的一致性？*\n",
    "- *在波士顿这样的大都市采集的数据，能否应用在其它乡镇地区？*"
   ]
  },
  {
   "cell_type": "markdown",
   "metadata": {},
   "source": [
    "**答案: **\n",
    "- 问：1978年所采集的数据，在今天是否仍然适用？\n",
    "\n",
    "    答：可能有一定参考价值，但是随着时间的推移，影响房价的因素也在不断的变化，因此并不能完全适用。\n",
    "   \n",
    "   \n",
    "- 问：数据中呈现的特征是否足够描述一个房屋？\n",
    "\n",
    "    答：应该可以有更多的特征来描述。比如房屋离各种交通枢纽的距离等等。\n",
    "\n",
    "\n",
    "- 问：模型是否足够健壮来保证预测的一致性？\n",
    "    \n",
    "    答：健壮性还可以吧。起码从上面10次预测的结果可以看到取值区间波动在7万美金、方差为2万美金左右，这对于40万美金左右的房子来说还可以吧。\n",
    "\n",
    "\n",
    "- 问：在波士顿这样的大都市采集的数据，能否应用在其它乡镇地区？\n",
    "    \n",
    "    答：恐怕不行。因为采集的数据很大程度与区域强相关，变了区域规律也就变了，因此模型也就不适用了。"
   ]
  },
  {
   "cell_type": "markdown",
   "metadata": {},
   "source": [
    "### 可选问题 - 预测北京房价\n",
    "\n",
    "（本题结果不影响项目是否通过）通过上面的实践，相信你对机器学习的一些常用概念有了很好的领悟和掌握。但利用70年代的波士顿房价数据进行建模的确对我们来说意义不是太大。现在你可以把你上面所学应用到北京房价数据集中`bj_housing.csv`。\n",
    "\n",
    "免责声明：考虑到北京房价受到宏观经济、政策调整等众多因素的直接影响，预测结果仅供参考。\n",
    "\n",
    "这个数据集的特征有：\n",
    "- Area：房屋面积，平方米\n",
    "- Room：房间数，间\n",
    "- Living: 厅数，间\n",
    "- School: 是否为学区房，0或1\n",
    "- Year: 房屋建造时间，年\n",
    "- Floor: 房屋所处楼层，层\n",
    "\n",
    "目标变量：\n",
    "- Value: 房屋人民币售价，万\n",
    "\n",
    "你可以参考上面学到的内容，拿这个数据集来练习数据分割与重排、定义衡量标准、训练模型、评价模型表现、使用网格搜索配合交叉验证对参数进行调优并选出最佳参数，比较两者的差别，最终得出最佳模型对验证集的预测分数。"
   ]
  },
  {
   "cell_type": "code",
   "execution_count": 150,
   "metadata": {},
   "outputs": [
    {
     "data": {
      "image/png": "[encoded data removed]",
      "text/plain": [
       "<matplotlib.figure.Figure at 0xc3e5710>"
      ]
     },
     "metadata": {},
     "output_type": "display_data"
    },
    {
     "data": {
      "image/png": "[encoded data removed]",
      "text/plain": [
       "<matplotlib.figure.Figure at 0xc3e5b70>"
      ]
     },
     "metadata": {},
     "output_type": "display_data"
    },
    {
     "name": "stdout",
     "output_type": "stream",
     "text": [
      "The final model has a max_depth of  9\n",
      "Model Score on Testing Set:  0.484820304883\n"
     ]
    }
   ],
   "source": [
    "# Beijing Housing Price Prediction Model\n",
    "\n",
    "import numpy as np\n",
    "import pandas as pd\n",
    "from sklearn.model_selection import ShuffleSplit\n",
    "from sklearn.model_selection import train_test_split\n",
    "from sklearn.model_selection import GridSearchCV\n",
    "from sklearn.metrics import r2_score\n",
    "from sklearn.metrics import make_scorer\n",
    "from sklearn.tree import DecisionTreeRegressor\n",
    "\n",
    "\n",
    "data = pd.read_csv('bj_housing.csv')\n",
    "prices = data['Value']\n",
    "features = data.drop('Value', axis=1)    \n",
    "X_train, X_test, y_train, y_test = train_test_split(features, prices, train_size=0.8)\n",
    "\n",
    "# Train the model, and using GridSearch + K-Fold CV for model parameter tuning.\n",
    "def fit_model(X, y):\n",
    "    cv_sets = ShuffleSplit(n_splits=10, test_size=0.2, random_state=0)\n",
    "    regressor = DecisionTreeRegressor(random_state=0)\n",
    "    params = {'max_depth': np.arange(1, 11)}\n",
    "    scoring_fnc = make_scorer(r2_score)\n",
    "    grid = GridSearchCV(estimator=regressor, param_grid=params, scoring=scoring_fnc, cv=cv_sets)\n",
    "    grid.fit(X, y)\n",
    "    return grid.best_estimator_\n",
    "\n",
    "\n",
    "model = fit_model(X_train, y_train)\n",
    "md = model.get_params()['max_depth']\n",
    "vs.ModelLearning(features, prices)\n",
    "vs.ModelComplexity(X_train, y_train)\n",
    "print \"The final model has a max_depth of \", md\n",
    "\n",
    "\n",
    "# Evaluate the final model\n",
    "y_pred = model.predict(pd.DataFrame(X_test))\n",
    "print \"Model Score on Testing Set: \", r2_score(y_pred, y_test)\n",
    "\n",
    "\n",
    "vs.PredictTrials(features, prices, fit_model, )"
   ]
  },
  {
   "cell_type": "markdown",
   "metadata": {},
   "source": [
    "你成功的用新的数据集构建了模型了吗？他能对测试数据进行验证吗？它的表现是否符合你的预期？交叉验证是否有助于提升你模型的表现？"
   ]
  },
  {
   "cell_type": "markdown",
   "metadata": {},
   "source": [
    "**答案：**\n",
    "\n",
    "- 由上图可见，预测北京房价的模型在测试数据集下的性能分数是0.48，达到这个性能所用的决策树模型深度是9。\n"
   ]
  },
  {
   "cell_type": "code",
   "execution_count": 153,
   "metadata": {
    "scrolled": false
   },
   "outputs": [
    {
     "name": "stdout",
     "output_type": "stream",
     "text": [
      "\n",
      "Model tree max depth Statistics over 10 run: \n",
      "count    10.000000\n",
      "mean      6.500000\n",
      "std       2.173067\n",
      "min       3.000000\n",
      "25%       5.250000\n",
      "50%       6.000000\n",
      "75%       8.750000\n",
      "max       9.000000\n",
      "dtype: float64\n",
      "\n",
      "Model R2 Score Statistics over 10 run: \n",
      "count    10.000000\n",
      "mean      0.450899\n",
      "std       0.222173\n",
      "min      -0.028896\n",
      "25%       0.341710\n",
      "50%       0.477015\n",
      "75%       0.625357\n",
      "max       0.700067\n",
      "dtype: float64\n"
     ]
    }
   ],
   "source": [
    "def robust_test(features, prices, models, iteration):\n",
    "    depth = []\n",
    "    score = []\n",
    "    for x in range(iteration):\n",
    "        X_train, X_test, y_train, y_test = train_test_split(features, prices, train_size=0.8, random_state=x)\n",
    "        model = fit_model(X_train, y_train)\n",
    "        depth.append(model.get_params()['max_depth'])\n",
    "        y_pred = model.predict(pd.DataFrame(X_test))\n",
    "        score.append(r2_score(y_pred, y_test))\n",
    "    return depth, score\n",
    "\n",
    "(depth, score) = robust_test(features, prices, fit_model, 10)\n",
    "print \"\\nModel tree max depth Statistics over 10 run: \\n\", pd.Series(depth).describe()\n",
    "print \"\\nModel R2 Score Statistics over 10 run: \\n\", pd.Series(score).describe()"
   ]
  },
  {
   "cell_type": "markdown",
   "metadata": {},
   "source": [
    "**答案：**\n",
    "- 问：它的表现是否符合你的预期？\n",
    "\n",
    "    我多跑了几次，发现模型的性能并不稳定，于是写了一个测试模型鲁棒性能的函数，检查独立构造模型10次中每次最终模型的深度`depth`和针对测试集的分数`score`。然后发现模型最差的时候甚至能够得负分，就是说这时候模型还不如直接对原数据集平均得到的结果准确...不过最好的时候模型还能达到0.7分的高分。考虑到已经使用了GridSearch和K-Fold CV，因此这种不稳定的现象应该不是模型本身参数的问题，也不是数据集本身划分不均匀导致的，而是**数据集提供的特征根本就不够导致的**（详见回答问题8的**机器学习所用的数据集的2个大前提**总结）。影响北京的房价的因素肯定远远不止数据集中这6个特征，还要考虑到政策调控和宏观经济走势的影响。因此这个数据集训练出来的模型的准确度和稳定性都不会太高。\n",
    "\n",
    "\n",
    "- 问：交叉验证是否有助于提升你模型的表现？\n",
    "\n",
    "    使用ShuffleSplit交叉验证还是很重要的，它能确保你在对训练数据集的建模结果更为准确。"
   ]
  },
  {
   "cell_type": "markdown",
   "metadata": {},
   "source": [
    "如果你是从零开始构建机器学习的代码会让你一时觉得无从下手。这时不要着急，你要做的只是查看之前写的代码，把每一行都看明白，然后逐步构建你的模型。当中遇到什么问题也可以在我们论坛寻找答案。也许你会发现你所构建的模型的表现并没有达到你的预期，这说明机器学习并非是一项简单的任务，构建一个表现良好的模型需要长时间的研究和测试。这也是我们接下来的课程中会逐渐学到的。"
   ]
  }
 ],
 "metadata": {
  "kernelspec": {
   "display_name": "Python 2",
   "language": "python",
   "name": "python2"
  },
  "language_info": {
   "codemirror_mode": {
    "name": "ipython",
    "version": 2
   },
   "file_extension": ".py",
   "mimetype": "text/x-python",
   "name": "python",
   "nbconvert_exporter": "python",
   "pygments_lexer": "ipython2",
   "version": "2.7.13"
  }
 },
 "nbformat": 4,
 "nbformat_minor": 1
}
