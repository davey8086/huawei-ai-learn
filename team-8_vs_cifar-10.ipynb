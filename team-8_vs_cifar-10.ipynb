{
 "cells": [
  {
   "cell_type": "code",
   "execution_count": 1,
   "metadata": {},
   "outputs": [],
   "source": [
    "# CIFAR10 Image Classification using Keras"
   ]
  },
  {
   "cell_type": "code",
   "execution_count": 2,
   "metadata": {},
   "outputs": [
    {
     "name": "stderr",
     "output_type": "stream",
     "text": [
      "Using TensorFlow backend.\n"
     ]
    }
   ],
   "source": [
    "from keras.datasets import cifar10\n",
    "from keras.preprocessing.image import ImageDataGenerator\n",
    "from keras.models import Sequential, load_model, Model\n",
    "from keras.layers import Input, Dense, Dropout, Activation, Flatten\n",
    "from keras.layers import Convolution2D, MaxPooling2D\n",
    "from keras.layers.noise import GaussianNoise\n",
    "from keras.layers.normalization import BatchNormalization\n",
    "import pandas as pd\n",
    "import matplotlib.pyplot as plt\n",
    "import time, pickle\n",
    "from keras.utils import to_categorical\n",
    "%matplotlib inline"
   ]
  },
  {
   "cell_type": "code",
   "execution_count": 3,
   "metadata": {},
   "outputs": [],
   "source": [
    "#Import Data"
   ]
  },
  {
   "cell_type": "code",
   "execution_count": 4,
   "metadata": {},
   "outputs": [],
   "source": [
    "nb_classes = 10\n",
    "class_name = {\n",
    "    0: 'airplane',\n",
    "    1: 'automobile',\n",
    "    2: 'bird',\n",
    "    3: 'cat',\n",
    "    4: 'deer',\n",
    "    5: 'dog',\n",
    "    6: 'frog',\n",
    "    7: 'horse',\n",
    "    8: 'ship',\n",
    "    9: 'truck',\n",
    "}"
   ]
  },
  {
   "cell_type": "code",
   "execution_count": 5,
   "metadata": {},
   "outputs": [],
   "source": [
    "(X_train, y_train), (X_test, y_test) = cifar10.load_data()"
   ]
  },
  {
   "cell_type": "code",
   "execution_count": 6,
   "metadata": {},
   "outputs": [
    {
     "name": "stdout",
     "output_type": "stream",
     "text": [
      "X_train shape: (50000, 32, 32, 3)\n",
      "50000 training samples\n",
      "10000 validation samples\n"
     ]
    }
   ],
   "source": [
    "y_train = y_train.reshape(y_train.shape[0])\n",
    "y_test = y_test.reshape(y_test.shape[0])\n",
    "\n",
    "print('X_train shape:', X_train.shape)\n",
    "print(X_train.shape[0], 'training samples')\n",
    "print(X_test.shape[0], 'validation samples')"
   ]
  },
  {
   "cell_type": "code",
   "execution_count": 7,
   "metadata": {},
   "outputs": [],
   "source": [
    "#Normalize"
   ]
  },
  {
   "cell_type": "code",
   "execution_count": 8,
   "metadata": {},
   "outputs": [],
   "source": [
    "X_train = X_train.astype('float32')\n",
    "X_test = X_test.astype('float32')\n",
    "X_train /= 255\n",
    "X_test /= 255"
   ]
  },
  {
   "cell_type": "code",
   "execution_count": 9,
   "metadata": {},
   "outputs": [],
   "source": [
    "#To Categorical"
   ]
  },
  {
   "cell_type": "code",
   "execution_count": 10,
   "metadata": {},
   "outputs": [],
   "source": [
    "y_train = to_categorical(y_train, nb_classes)\n",
    "y_test = to_categorical(y_test, nb_classes)"
   ]
  },
  {
   "cell_type": "code",
   "execution_count": 11,
   "metadata": {},
   "outputs": [],
   "source": [
    "#Create Model # 1\n",
    "#模型采用类似于 VGG16 的结构：\n",
    "#使用固定尺寸的小卷积核 (3x3)\n",
    "#以2的幂次递增的卷积核数量 (64, 128, 256)\n",
    "#两层卷积搭配一层池化\n",
    "#全连接层没有采用 VGG16 庞大的三层结构，避免运算量过大，仅使用 128 个节点的单个FC\n",
    "#权重初始化采用He Normal"
   ]
  },
  {
   "cell_type": "code",
   "execution_count": 12,
   "metadata": {},
   "outputs": [
    {
     "name": "stdout",
     "output_type": "stream",
     "text": [
      "_________________________________________________________________\n",
      "Layer (type)                 Output Shape              Param #   \n",
      "=================================================================\n",
      "input_1 (InputLayer)         (None, 32, 32, 3)         0         \n",
      "_________________________________________________________________\n",
      "conv2d_1 (Conv2D)            (None, 32, 32, 64)        1792      \n",
      "_________________________________________________________________\n",
      "batch_normalization_1 (Batch (None, 32, 32, 64)        256       \n",
      "_________________________________________________________________\n",
      "conv2d_2 (Conv2D)            (None, 32, 32, 64)        36928     \n",
      "_________________________________________________________________\n",
      "batch_normalization_2 (Batch (None, 32, 32, 64)        256       \n",
      "_________________________________________________________________\n",
      "max_pooling2d_1 (MaxPooling2 (None, 16, 16, 64)        0         \n",
      "_________________________________________________________________\n",
      "conv2d_3 (Conv2D)            (None, 16, 16, 128)       73856     \n",
      "_________________________________________________________________\n",
      "batch_normalization_3 (Batch (None, 16, 16, 128)       512       \n",
      "_________________________________________________________________\n",
      "conv2d_4 (Conv2D)            (None, 16, 16, 128)       147584    \n",
      "_________________________________________________________________\n",
      "batch_normalization_4 (Batch (None, 16, 16, 128)       512       \n",
      "_________________________________________________________________\n",
      "max_pooling2d_2 (MaxPooling2 (None, 8, 8, 128)         0         \n",
      "_________________________________________________________________\n",
      "conv2d_5 (Conv2D)            (None, 8, 8, 128)         147584    \n",
      "_________________________________________________________________\n",
      "batch_normalization_5 (Batch (None, 8, 8, 128)         512       \n",
      "_________________________________________________________________\n",
      "conv2d_6 (Conv2D)            (None, 8, 8, 128)         147584    \n",
      "_________________________________________________________________\n",
      "batch_normalization_6 (Batch (None, 8, 8, 128)         512       \n",
      "_________________________________________________________________\n",
      "max_pooling2d_3 (MaxPooling2 (None, 4, 4, 128)         0         \n",
      "_________________________________________________________________\n",
      "flatten_1 (Flatten)          (None, 2048)              0         \n",
      "_________________________________________________________________\n",
      "dense_1 (Dense)              (None, 128)               262272    \n",
      "_________________________________________________________________\n",
      "dropout_1 (Dropout)          (None, 128)               0         \n",
      "_________________________________________________________________\n",
      "dense_2 (Dense)              (None, 10)                1290      \n",
      "=================================================================\n",
      "Total params: 821,450\n",
      "Trainable params: 820,170\n",
      "Non-trainable params: 1,280\n",
      "_________________________________________________________________\n"
     ]
    }
   ],
   "source": [
    "x = Input(shape=(32, 32, 3))\n",
    "y = x\n",
    "y = Convolution2D(filters=64, kernel_size=3, strides=1, padding='same', activation='relu', kernel_initializer='he_normal')(y)\n",
    "y = BatchNormalization()(y)\n",
    "y = Convolution2D(filters=64, kernel_size=3, strides=1, padding='same', activation='relu', kernel_initializer='he_normal')(y)\n",
    "y = BatchNormalization()(y)\n",
    "y = MaxPooling2D(pool_size=2, strides=2, padding='valid')(y)\n",
    "\n",
    "y = Convolution2D(filters=128, kernel_size=3, strides=1, padding='same', activation='relu', kernel_initializer='he_normal')(y)\n",
    "y = BatchNormalization()(y)\n",
    "y = Convolution2D(filters=128, kernel_size=3, strides=1, padding='same', activation='relu', kernel_initializer='he_normal')(y)\n",
    "y = BatchNormalization()(y)\n",
    "y = MaxPooling2D(pool_size=2, strides=2, padding='valid')(y)\n",
    "\n",
    "y = Convolution2D(filters=128, kernel_size=3, strides=1, padding='same', activation='relu', kernel_initializer='he_normal')(y)\n",
    "y = BatchNormalization()(y)\n",
    "y = Convolution2D(filters=128, kernel_size=3, strides=1, padding='same', activation='relu', kernel_initializer='he_normal')(y)\n",
    "y = BatchNormalization()(y)\n",
    "y = MaxPooling2D(pool_size=2, strides=2, padding='valid')(y)\n",
    "\n",
    "y = Flatten()(y)\n",
    "y = Dense(units=128, activation='relu', kernel_initializer='he_normal')(y)\n",
    "y = Dropout(0.5)(y)\n",
    "y = Dense(units=nb_classes, activation='softmax', kernel_initializer='he_normal')(y)\n",
    "\n",
    "# SGD (Stochastic Gradient Descent)\n",
    "# lrate = 0.01\n",
    "# decay = lrate / nb_epoch\n",
    "# sgd = SGD(lr=lrate, momentum=0.9, decay=decay, nesterov=False)\n",
    "\n",
    "model1 = Model(inputs=x, outputs=y, name='model1')\n",
    "\n",
    "model1.compile(loss='categorical_crossentropy', optimizer='adam', metrics=['accuracy'])\n",
    "\n",
    "model1.summary()"
   ]
  },
  {
   "cell_type": "code",
   "execution_count": 13,
   "metadata": {},
   "outputs": [
    {
     "name": "stdout",
     "output_type": "stream",
     "text": [
      "Train on 50000 samples, validate on 10000 samples\n",
      "Epoch 1/100\n",
      "50000/50000 [==============================] - 32s 641us/step - loss: 2.0517 - acc: 0.3178 - val_loss: 1.5036 - val_acc: 0.4702\n",
      "Epoch 2/100\n",
      "50000/50000 [==============================] - 26s 514us/step - loss: 1.4397 - acc: 0.4839 - val_loss: 1.2160 - val_acc: 0.5672\n",
      "Epoch 3/100\n",
      "50000/50000 [==============================] - 26s 514us/step - loss: 1.2129 - acc: 0.5667 - val_loss: 1.1690 - val_acc: 0.5847\n",
      "Epoch 4/100\n",
      "50000/50000 [==============================] - 26s 516us/step - loss: 1.0397 - acc: 0.6337 - val_loss: 1.0049 - val_acc: 0.6420\n",
      "Epoch 5/100\n",
      "50000/50000 [==============================] - 26s 516us/step - loss: 0.9070 - acc: 0.6806 - val_loss: 0.9024 - val_acc: 0.6847\n",
      "Epoch 6/100\n",
      "50000/50000 [==============================] - 26s 518us/step - loss: 0.7989 - acc: 0.7200 - val_loss: 0.8792 - val_acc: 0.6994\n",
      "Epoch 7/100\n",
      "50000/50000 [==============================] - 26s 516us/step - loss: 0.7147 - acc: 0.7487 - val_loss: 0.7711 - val_acc: 0.7341\n",
      "Epoch 8/100\n",
      "50000/50000 [==============================] - 26s 514us/step - loss: 0.6394 - acc: 0.7751 - val_loss: 0.8181 - val_acc: 0.7294\n",
      "Epoch 9/100\n",
      "50000/50000 [==============================] - 26s 515us/step - loss: 0.5799 - acc: 0.7972 - val_loss: 0.7771 - val_acc: 0.7454\n",
      "Epoch 10/100\n",
      "50000/50000 [==============================] - 26s 515us/step - loss: 0.4999 - acc: 0.8243 - val_loss: 0.7041 - val_acc: 0.7635\n",
      "Epoch 11/100\n",
      "50000/50000 [==============================] - 26s 515us/step - loss: 0.4514 - acc: 0.8404 - val_loss: 0.7203 - val_acc: 0.7648\n",
      "Epoch 12/100\n",
      "50000/50000 [==============================] - 26s 515us/step - loss: 0.3952 - acc: 0.8599 - val_loss: 0.7144 - val_acc: 0.7742\n",
      "Epoch 13/100\n",
      "50000/50000 [==============================] - 26s 516us/step - loss: 0.3562 - acc: 0.8741 - val_loss: 0.7591 - val_acc: 0.7647\n",
      "Epoch 14/100\n",
      "50000/50000 [==============================] - 26s 515us/step - loss: 0.3110 - acc: 0.8894 - val_loss: 0.7163 - val_acc: 0.7792\n",
      "Epoch 15/100\n",
      "50000/50000 [==============================] - 26s 515us/step - loss: 0.2740 - acc: 0.9017 - val_loss: 0.7939 - val_acc: 0.7762\n",
      "Epoch 16/100\n",
      "50000/50000 [==============================] - 26s 515us/step - loss: 0.2482 - acc: 0.9115 - val_loss: 0.7648 - val_acc: 0.7870\n",
      "Epoch 17/100\n",
      "50000/50000 [==============================] - 26s 515us/step - loss: 0.2198 - acc: 0.9224 - val_loss: 0.8244 - val_acc: 0.7857\n",
      "Epoch 18/100\n",
      "50000/50000 [==============================] - 26s 519us/step - loss: 0.1972 - acc: 0.9304 - val_loss: 0.8488 - val_acc: 0.7884\n",
      "Epoch 19/100\n",
      "50000/50000 [==============================] - 26s 514us/step - loss: 0.1671 - acc: 0.9411 - val_loss: 0.8795 - val_acc: 0.7805\n",
      "Epoch 20/100\n",
      "50000/50000 [==============================] - 26s 516us/step - loss: 0.1501 - acc: 0.9479 - val_loss: 0.8363 - val_acc: 0.7953\n",
      "Epoch 21/100\n",
      "50000/50000 [==============================] - 26s 517us/step - loss: 0.1433 - acc: 0.9502 - val_loss: 0.9233 - val_acc: 0.7857\n",
      "Epoch 22/100\n",
      "50000/50000 [==============================] - 26s 523us/step - loss: 0.1251 - acc: 0.9567 - val_loss: 0.8950 - val_acc: 0.7939\n",
      "Epoch 23/100\n",
      "50000/50000 [==============================] - 26s 522us/step - loss: 0.1231 - acc: 0.9568 - val_loss: 0.9211 - val_acc: 0.7879\n",
      "Epoch 24/100\n",
      "50000/50000 [==============================] - 26s 515us/step - loss: 0.1100 - acc: 0.9624 - val_loss: 0.9864 - val_acc: 0.7869\n",
      "Epoch 25/100\n",
      "50000/50000 [==============================] - 26s 515us/step - loss: 0.1020 - acc: 0.9649 - val_loss: 0.9831 - val_acc: 0.7982\n",
      "Epoch 26/100\n",
      "50000/50000 [==============================] - 26s 520us/step - loss: 0.0899 - acc: 0.9696 - val_loss: 1.0187 - val_acc: 0.7906\n",
      "Epoch 27/100\n",
      "50000/50000 [==============================] - 26s 517us/step - loss: 0.0872 - acc: 0.9705 - val_loss: 1.0056 - val_acc: 0.7957\n",
      "Epoch 28/100\n",
      "50000/50000 [==============================] - 26s 515us/step - loss: 0.0769 - acc: 0.9741 - val_loss: 1.0002 - val_acc: 0.7972\n",
      "Epoch 29/100\n",
      "50000/50000 [==============================] - 26s 514us/step - loss: 0.0750 - acc: 0.9741 - val_loss: 1.0557 - val_acc: 0.7926\n",
      "Epoch 30/100\n",
      "50000/50000 [==============================] - 26s 515us/step - loss: 0.0825 - acc: 0.9719 - val_loss: 1.3077 - val_acc: 0.7735\n",
      "Epoch 31/100\n",
      "50000/50000 [==============================] - 26s 515us/step - loss: 0.0725 - acc: 0.9751 - val_loss: 1.0378 - val_acc: 0.7979\n",
      "Epoch 32/100\n",
      "50000/50000 [==============================] - 26s 515us/step - loss: 0.0690 - acc: 0.9762 - val_loss: 1.0766 - val_acc: 0.7980\n",
      "Epoch 33/100\n",
      "50000/50000 [==============================] - 26s 514us/step - loss: 0.0638 - acc: 0.9779 - val_loss: 1.1558 - val_acc: 0.7906\n",
      "Epoch 34/100\n",
      "50000/50000 [==============================] - 26s 514us/step - loss: 0.0613 - acc: 0.9789 - val_loss: 1.1661 - val_acc: 0.7929\n",
      "Epoch 35/100\n",
      "50000/50000 [==============================] - 26s 514us/step - loss: 0.0603 - acc: 0.9798 - val_loss: 1.1748 - val_acc: 0.7954\n",
      "Epoch 36/100\n",
      "50000/50000 [==============================] - 26s 514us/step - loss: 0.0564 - acc: 0.9813 - val_loss: 1.1544 - val_acc: 0.7985\n",
      "Epoch 37/100\n",
      "50000/50000 [==============================] - 26s 514us/step - loss: 0.0596 - acc: 0.9796 - val_loss: 1.1910 - val_acc: 0.7896\n",
      "Epoch 38/100\n",
      "50000/50000 [==============================] - 26s 514us/step - loss: 0.0549 - acc: 0.9815 - val_loss: 1.2419 - val_acc: 0.7921\n",
      "Epoch 39/100\n",
      "50000/50000 [==============================] - 26s 514us/step - loss: 0.0553 - acc: 0.9815 - val_loss: 1.1220 - val_acc: 0.8034\n",
      "Epoch 40/100\n",
      "50000/50000 [==============================] - 26s 515us/step - loss: 0.0513 - acc: 0.9825 - val_loss: 1.1486 - val_acc: 0.8015\n",
      "Epoch 41/100\n",
      "50000/50000 [==============================] - 26s 514us/step - loss: 0.0480 - acc: 0.9842 - val_loss: 1.1414 - val_acc: 0.8001\n",
      "Epoch 42/100\n",
      "50000/50000 [==============================] - 26s 514us/step - loss: 0.0451 - acc: 0.9846 - val_loss: 1.2065 - val_acc: 0.7953\n",
      "Epoch 43/100\n",
      "50000/50000 [==============================] - 26s 514us/step - loss: 0.0429 - acc: 0.9856 - val_loss: 1.2528 - val_acc: 0.7992\n",
      "Epoch 44/100\n",
      "50000/50000 [==============================] - 26s 515us/step - loss: 0.0417 - acc: 0.9858 - val_loss: 1.1666 - val_acc: 0.8047\n",
      "Epoch 45/100\n",
      "50000/50000 [==============================] - 26s 515us/step - loss: 0.0363 - acc: 0.9874 - val_loss: 1.2293 - val_acc: 0.8025\n",
      "Epoch 46/100\n",
      "50000/50000 [==============================] - 26s 514us/step - loss: 0.0421 - acc: 0.9860 - val_loss: 1.1945 - val_acc: 0.8016\n",
      "Epoch 47/100\n",
      "50000/50000 [==============================] - 26s 514us/step - loss: 0.0426 - acc: 0.9857 - val_loss: 1.2594 - val_acc: 0.7999\n",
      "Epoch 48/100\n",
      "50000/50000 [==============================] - 26s 514us/step - loss: 0.0474 - acc: 0.9846 - val_loss: 1.2480 - val_acc: 0.7938\n",
      "Epoch 49/100\n",
      "50000/50000 [==============================] - 26s 514us/step - loss: 0.0504 - acc: 0.9837 - val_loss: 1.2016 - val_acc: 0.7977\n",
      "Epoch 50/100\n",
      "50000/50000 [==============================] - 26s 514us/step - loss: 0.0405 - acc: 0.9866 - val_loss: 1.1954 - val_acc: 0.8048\n",
      "Epoch 51/100\n",
      "50000/50000 [==============================] - 26s 514us/step - loss: 0.0420 - acc: 0.9868 - val_loss: 1.2055 - val_acc: 0.8020\n",
      "Epoch 52/100\n",
      "50000/50000 [==============================] - 26s 515us/step - loss: 0.0343 - acc: 0.9886 - val_loss: 1.2604 - val_acc: 0.7986\n",
      "Epoch 53/100\n",
      "50000/50000 [==============================] - 26s 514us/step - loss: 0.0358 - acc: 0.9886 - val_loss: 1.2697 - val_acc: 0.8042\n",
      "Epoch 54/100\n",
      "50000/50000 [==============================] - 26s 514us/step - loss: 0.0381 - acc: 0.9873 - val_loss: 1.3381 - val_acc: 0.7980\n",
      "Epoch 55/100\n",
      "50000/50000 [==============================] - 26s 515us/step - loss: 0.0384 - acc: 0.9872 - val_loss: 1.2833 - val_acc: 0.8025\n",
      "Epoch 56/100\n",
      "50000/50000 [==============================] - 26s 517us/step - loss: 0.0352 - acc: 0.9884 - val_loss: 1.2419 - val_acc: 0.8064\n",
      "Epoch 57/100\n",
      "50000/50000 [==============================] - 26s 517us/step - loss: 0.0357 - acc: 0.9886 - val_loss: 1.2635 - val_acc: 0.8079\n",
      "Epoch 58/100\n",
      "50000/50000 [==============================] - 26s 515us/step - loss: 0.0348 - acc: 0.9883 - val_loss: 1.2907 - val_acc: 0.7926\n"
     ]
    },
    {
     "name": "stdout",
     "output_type": "stream",
     "text": [
      "Epoch 59/100\n",
      "50000/50000 [==============================] - 26s 514us/step - loss: 0.0379 - acc: 0.9879 - val_loss: 1.1458 - val_acc: 0.8089\n",
      "Epoch 60/100\n",
      "50000/50000 [==============================] - 26s 514us/step - loss: 0.0335 - acc: 0.9894 - val_loss: 1.2519 - val_acc: 0.8025\n",
      "Epoch 61/100\n",
      "50000/50000 [==============================] - 26s 514us/step - loss: 0.0321 - acc: 0.9892 - val_loss: 1.3436 - val_acc: 0.7982\n",
      "Epoch 62/100\n",
      "50000/50000 [==============================] - 26s 514us/step - loss: 0.0313 - acc: 0.9892 - val_loss: 1.2772 - val_acc: 0.8054\n",
      "Epoch 63/100\n",
      "50000/50000 [==============================] - 26s 514us/step - loss: 0.0331 - acc: 0.9896 - val_loss: 1.2956 - val_acc: 0.7986\n",
      "Epoch 64/100\n",
      "50000/50000 [==============================] - 26s 514us/step - loss: 0.0344 - acc: 0.9887 - val_loss: 1.2705 - val_acc: 0.8038\n",
      "Epoch 65/100\n",
      "50000/50000 [==============================] - 26s 514us/step - loss: 0.0353 - acc: 0.9882 - val_loss: 1.2319 - val_acc: 0.8070\n",
      "Epoch 66/100\n",
      "50000/50000 [==============================] - 26s 514us/step - loss: 0.0312 - acc: 0.9896 - val_loss: 1.3213 - val_acc: 0.8001\n",
      "Epoch 67/100\n",
      "50000/50000 [==============================] - 26s 515us/step - loss: 0.0340 - acc: 0.9892 - val_loss: 1.3009 - val_acc: 0.8008\n",
      "Epoch 68/100\n",
      "50000/50000 [==============================] - 26s 515us/step - loss: 0.0334 - acc: 0.9894 - val_loss: 1.2377 - val_acc: 0.8065\n",
      "Epoch 69/100\n",
      "50000/50000 [==============================] - 26s 514us/step - loss: 0.0282 - acc: 0.9906 - val_loss: 1.3255 - val_acc: 0.8056\n",
      "Epoch 70/100\n",
      "50000/50000 [==============================] - 26s 514us/step - loss: 0.0269 - acc: 0.9916 - val_loss: 1.3118 - val_acc: 0.8011\n",
      "Epoch 71/100\n",
      "50000/50000 [==============================] - 26s 514us/step - loss: 0.0291 - acc: 0.9904 - val_loss: 1.3596 - val_acc: 0.7998\n",
      "Epoch 72/100\n",
      "50000/50000 [==============================] - 26s 514us/step - loss: 0.0280 - acc: 0.9909 - val_loss: 1.2537 - val_acc: 0.8071\n",
      "Epoch 73/100\n",
      "50000/50000 [==============================] - 26s 514us/step - loss: 0.0326 - acc: 0.9892 - val_loss: 1.2534 - val_acc: 0.8072\n",
      "Epoch 74/100\n",
      "50000/50000 [==============================] - 26s 514us/step - loss: 0.0265 - acc: 0.9916 - val_loss: 1.2873 - val_acc: 0.8123\n",
      "Epoch 75/100\n",
      "50000/50000 [==============================] - 26s 514us/step - loss: 0.0234 - acc: 0.9927 - val_loss: 1.3574 - val_acc: 0.8074\n",
      "Epoch 76/100\n",
      "50000/50000 [==============================] - 26s 514us/step - loss: 0.0243 - acc: 0.9919 - val_loss: 1.3469 - val_acc: 0.8129\n",
      "Epoch 77/100\n",
      "50000/50000 [==============================] - 26s 515us/step - loss: 0.0287 - acc: 0.9904 - val_loss: 1.3027 - val_acc: 0.7989\n",
      "Epoch 78/100\n",
      "50000/50000 [==============================] - 26s 514us/step - loss: 0.0257 - acc: 0.9918 - val_loss: 1.3527 - val_acc: 0.8072\n",
      "Epoch 79/100\n",
      "50000/50000 [==============================] - 26s 515us/step - loss: 0.0301 - acc: 0.9903 - val_loss: 1.3533 - val_acc: 0.8051\n",
      "Epoch 80/100\n",
      "50000/50000 [==============================] - 26s 515us/step - loss: 0.0284 - acc: 0.9908 - val_loss: 1.3228 - val_acc: 0.8076\n",
      "Epoch 81/100\n",
      "50000/50000 [==============================] - 26s 515us/step - loss: 0.0289 - acc: 0.9902 - val_loss: 1.3404 - val_acc: 0.8078\n",
      "Epoch 82/100\n",
      "50000/50000 [==============================] - 26s 515us/step - loss: 0.0261 - acc: 0.9914 - val_loss: 1.4794 - val_acc: 0.8037\n",
      "Epoch 83/100\n",
      "50000/50000 [==============================] - 26s 516us/step - loss: 0.0305 - acc: 0.9905 - val_loss: 1.3597 - val_acc: 0.7981\n",
      "Epoch 84/100\n",
      "50000/50000 [==============================] - 26s 515us/step - loss: 0.0318 - acc: 0.9904 - val_loss: 1.2919 - val_acc: 0.8133\n",
      "Epoch 85/100\n",
      "50000/50000 [==============================] - 26s 515us/step - loss: 0.0240 - acc: 0.9923 - val_loss: 1.4003 - val_acc: 0.8031\n",
      "Epoch 86/100\n",
      "50000/50000 [==============================] - 26s 515us/step - loss: 0.0224 - acc: 0.9923 - val_loss: 1.4110 - val_acc: 0.8076\n",
      "Epoch 87/100\n",
      "50000/50000 [==============================] - 26s 515us/step - loss: 0.0277 - acc: 0.9914 - val_loss: 1.4685 - val_acc: 0.8002\n",
      "Epoch 88/100\n",
      "50000/50000 [==============================] - 26s 515us/step - loss: 0.0255 - acc: 0.9919 - val_loss: 1.2542 - val_acc: 0.8076\n",
      "Epoch 89/100\n",
      "50000/50000 [==============================] - 26s 515us/step - loss: 0.0262 - acc: 0.9918 - val_loss: 1.3260 - val_acc: 0.8095\n",
      "Epoch 90/100\n",
      "50000/50000 [==============================] - 26s 516us/step - loss: 0.0206 - acc: 0.9933 - val_loss: 1.4483 - val_acc: 0.8054\n",
      "Epoch 91/100\n",
      "50000/50000 [==============================] - 26s 516us/step - loss: 0.0239 - acc: 0.9926 - val_loss: 1.3492 - val_acc: 0.8082\n",
      "Epoch 92/100\n",
      "50000/50000 [==============================] - 26s 515us/step - loss: 0.0244 - acc: 0.9924 - val_loss: 1.3672 - val_acc: 0.8120\n",
      "Epoch 93/100\n",
      "50000/50000 [==============================] - 26s 516us/step - loss: 0.0239 - acc: 0.9928 - val_loss: 1.3044 - val_acc: 0.8124\n",
      "Epoch 94/100\n",
      "50000/50000 [==============================] - 26s 515us/step - loss: 0.0227 - acc: 0.9930 - val_loss: 1.3770 - val_acc: 0.8084\n",
      "Epoch 95/100\n",
      "50000/50000 [==============================] - 26s 516us/step - loss: 0.0219 - acc: 0.9925 - val_loss: 1.3774 - val_acc: 0.8113\n",
      "Epoch 96/100\n",
      "50000/50000 [==============================] - 26s 515us/step - loss: 0.0239 - acc: 0.9925 - val_loss: 1.3462 - val_acc: 0.8118\n",
      "Epoch 97/100\n",
      "50000/50000 [==============================] - 26s 514us/step - loss: 0.0233 - acc: 0.9928 - val_loss: 1.4104 - val_acc: 0.8050\n",
      "Epoch 98/100\n",
      "50000/50000 [==============================] - 26s 514us/step - loss: 0.0182 - acc: 0.9942 - val_loss: 1.3696 - val_acc: 0.8131\n",
      "Epoch 99/100\n",
      "50000/50000 [==============================] - 26s 514us/step - loss: 0.0221 - acc: 0.9932 - val_loss: 1.4825 - val_acc: 0.7986\n",
      "Epoch 100/100\n",
      "50000/50000 [==============================] - 26s 514us/step - loss: 0.0219 - acc: 0.9929 - val_loss: 1.4293 - val_acc: 0.8027\n",
      "@ Total Time Spent: 2583.09 seconds\n"
     ]
    }
   ],
   "source": [
    "nb_epoch = 100\n",
    "batch_size = 1024\n",
    "start = time.time()\n",
    "h = model1.fit(x=X_train, y=y_train, batch_size=batch_size, epochs=nb_epoch, validation_data=(X_test, y_test), shuffle=True)\n",
    "model1.save('CIFAR10_model_no_data_augmentation.h5')\n",
    "print('@ Total Time Spent: %.2f seconds' % (time.time() - start))"
   ]
  },
  {
   "cell_type": "code",
   "execution_count": 14,
   "metadata": {},
   "outputs": [
    {
     "data": {
      "image/png": "[encoded data removed]",
      "text/plain": [
       "<Figure size 1080x360 with 2 Axes>"
      ]
     },
     "metadata": {},
     "output_type": "display_data"
    }
   ],
   "source": [
    "def plot_acc_loss(h, nb_epoch):\n",
    "    acc, loss, val_acc, val_loss = h.history['acc'], h.history['loss'], h.history['val_acc'], h.history['val_loss']\n",
    "    plt.figure(figsize=(15, 5))\n",
    "    plt.subplot(121)\n",
    "    plt.plot(range(nb_epoch), acc, label='Train')\n",
    "    plt.plot(range(nb_epoch), val_acc, label='Test')\n",
    "    plt.title('Accuracy over ' + str(nb_epoch) + ' Epochs', size=15)\n",
    "    plt.legend()\n",
    "    plt.grid(True)\n",
    "    plt.subplot(122)\n",
    "    plt.plot(range(nb_epoch), loss, label='Train')\n",
    "    plt.plot(range(nb_epoch), val_loss, label='Test')\n",
    "    plt.title('Loss over ' + str(nb_epoch) + ' Epochs', size=15)\n",
    "    plt.legend()\n",
    "    plt.grid(True)\n",
    "    plt.show()\n",
    "    \n",
    "plot_acc_loss(h, nb_epoch)"
   ]
  },
  {
   "cell_type": "code",
   "execution_count": 15,
   "metadata": {},
   "outputs": [
    {
     "name": "stdout",
     "output_type": "stream",
     "text": [
      "Training Accuracy = 99.14 %     loss = 0.026312\n",
      "Testing Accuracy = 80.27 %    loss = 1.429289\n"
     ]
    }
   ],
   "source": [
    "loss, accuracy = model1.evaluate(X_train, y_train, verbose=0)\n",
    "print(\"Training Accuracy = %.2f %%     loss = %f\" % (accuracy * 100, loss))\n",
    "loss, accuracy = model1.evaluate(X_test, y_test, verbose=0)\n",
    "print(\"Testing Accuracy = %.2f %%    loss = %f\" % (accuracy * 100, loss))"
   ]
  },
  {
   "cell_type": "code",
   "execution_count": 16,
   "metadata": {},
   "outputs": [],
   "source": [
    "#Further Training with Data Augmentation"
   ]
  },
  {
   "cell_type": "code",
   "execution_count": null,
   "metadata": {},
   "outputs": [
    {
     "name": "stdout",
     "output_type": "stream",
     "text": [
      "Epoch 1/100\n",
      "48/48 [==============================] - 25s 520ms/step - loss: 0.0429 - acc: 0.9861 - val_loss: 0.7015 - val_acc: 0.8785\n",
      "Epoch 2/100\n",
      "48/48 [==============================] - 25s 511ms/step - loss: 0.0396 - acc: 0.9868 - val_loss: 0.6671 - val_acc: 0.8834\n",
      "Epoch 3/100\n",
      "48/48 [==============================] - 25s 514ms/step - loss: 0.0416 - acc: 0.9864 - val_loss: 0.6381 - val_acc: 0.8881\n",
      "Epoch 4/100\n",
      "48/48 [==============================] - 25s 513ms/step - loss: 0.0415 - acc: 0.9861 - val_loss: 0.7223 - val_acc: 0.8761\n",
      "Epoch 5/100\n",
      "48/48 [==============================] - 25s 516ms/step - loss: 0.0414 - acc: 0.9866 - val_loss: 0.7455 - val_acc: 0.8711\n",
      "Epoch 6/100\n",
      "48/48 [==============================] - 25s 513ms/step - loss: 0.0394 - acc: 0.9873 - val_loss: 0.6562 - val_acc: 0.8878\n",
      "Epoch 7/100\n",
      "48/48 [==============================] - 25s 513ms/step - loss: 0.0386 - acc: 0.9867 - val_loss: 0.7000 - val_acc: 0.8834\n",
      "Epoch 8/100\n",
      "48/48 [==============================] - 25s 514ms/step - loss: 0.0416 - acc: 0.9864 - val_loss: 0.6851 - val_acc: 0.8799\n",
      "Epoch 9/100\n",
      "48/48 [==============================] - 25s 514ms/step - loss: 0.0379 - acc: 0.9876 - val_loss: 0.6854 - val_acc: 0.8846\n",
      "Epoch 10/100\n",
      "48/48 [==============================] - 25s 514ms/step - loss: 0.0334 - acc: 0.9888 - val_loss: 0.6518 - val_acc: 0.8870\n",
      "Epoch 11/100\n",
      "48/48 [==============================] - 25s 512ms/step - loss: 0.0387 - acc: 0.9872 - val_loss: 0.6844 - val_acc: 0.8848\n",
      "Epoch 12/100\n",
      "48/48 [==============================] - 25s 513ms/step - loss: 0.0404 - acc: 0.9871 - val_loss: 0.6809 - val_acc: 0.8850\n",
      "Epoch 13/100\n",
      "48/48 [==============================] - 25s 512ms/step - loss: 0.0394 - acc: 0.9880 - val_loss: 0.6687 - val_acc: 0.8883\n",
      "Epoch 14/100\n",
      "48/48 [==============================] - 25s 514ms/step - loss: 0.0380 - acc: 0.9871 - val_loss: 0.7029 - val_acc: 0.8811\n",
      "Epoch 15/100\n",
      "48/48 [==============================] - 25s 512ms/step - loss: 0.0380 - acc: 0.9876 - val_loss: 0.7308 - val_acc: 0.8759\n",
      "Epoch 16/100\n",
      "48/48 [==============================] - 25s 512ms/step - loss: 0.0396 - acc: 0.9869 - val_loss: 0.6770 - val_acc: 0.8833\n",
      "Epoch 17/100\n",
      "48/48 [==============================] - 25s 511ms/step - loss: 0.0376 - acc: 0.9883 - val_loss: 0.6879 - val_acc: 0.8821\n",
      "Epoch 18/100\n",
      "48/48 [==============================] - 25s 512ms/step - loss: 0.0407 - acc: 0.9867 - val_loss: 0.6804 - val_acc: 0.8826\n",
      "Epoch 19/100\n",
      "48/48 [==============================] - 25s 515ms/step - loss: 0.0399 - acc: 0.9875 - val_loss: 0.6494 - val_acc: 0.8832\n",
      "Epoch 20/100\n",
      "48/48 [==============================] - 25s 517ms/step - loss: 0.0406 - acc: 0.9865 - val_loss: 0.6417 - val_acc: 0.8850\n",
      "Epoch 21/100\n",
      "48/48 [==============================] - 25s 517ms/step - loss: 0.0382 - acc: 0.9871 - val_loss: 0.6701 - val_acc: 0.8836\n",
      "Epoch 22/100\n",
      "48/48 [==============================] - 25s 518ms/step - loss: 0.0388 - acc: 0.9872 - val_loss: 0.6917 - val_acc: 0.8809\n",
      "Epoch 23/100\n",
      "20/48 [===========>..................] - ETA: 13s - loss: 0.0359 - acc: 0.9881"
     ]
    }
   ],
   "source": [
    "aug_gen = ImageDataGenerator(\n",
    "    featurewise_center = False,  # set input mean to 0 over the dataset\n",
    "    samplewise_center = False,  # set each sample mean to 0\n",
    "    featurewise_std_normalization = False,  # divide inputs by std of the dataset\n",
    "    samplewise_std_normalization = False,  # divide each input by its std\n",
    "    zca_whitening = False,  # apply ZCA whitening\n",
    "    rotation_range = 0,  # randomly rotate images in the range (degrees, 0 to 180)\n",
    "    width_shift_range = 0.1,  # randomly shift images horizontally (fraction of total width)\n",
    "    height_shift_range = 0.1,  # randomly shift images vertically (fraction of total height)\n",
    "    horizontal_flip = True,  # randomly flip images\n",
    "    vertical_flip = False,  # randomly flip images\n",
    ")\n",
    "\n",
    "nb_epoch = 100\n",
    "aug_gen.fit(X_train)\n",
    "gen = aug_gen.flow(X_train, y_train, batch_size=batch_size)\n",
    "h = model1.fit_generator(generator=gen, steps_per_epoch=50000//batch_size, epochs=nb_epoch, validation_data=(X_test, y_test))\n",
    "model1.save('CIFAR10_model_with_data_augmentation.h5')"
   ]
  },
  {
   "cell_type": "code",
   "execution_count": 25,
   "metadata": {},
   "outputs": [
    {
     "data": {
      "image/png": "[encoded data removed]",
      "text/plain": [
       "<Figure size 1080x360 with 2 Axes>"
      ]
     },
     "metadata": {},
     "output_type": "display_data"
    }
   ],
   "source": [
    "plot_acc_loss(h, nb_epoch)"
   ]
  },
  {
   "cell_type": "code",
   "execution_count": 26,
   "metadata": {},
   "outputs": [],
   "source": [
    "#可以看到，使用数据增强后继续训练模型，可以将准确率从80%提升至87%。"
   ]
  },
  {
   "cell_type": "code",
   "execution_count": 27,
   "metadata": {},
   "outputs": [
    {
     "name": "stdout",
     "output_type": "stream",
     "text": [
      "Training Accuracy = 98.68 %     loss = 0.043531\n",
      "Testing Accuracy = 88.42 %    loss = 0.717867\n"
     ]
    }
   ],
   "source": [
    "loss, accuracy = model1.evaluate(X_train, y_train, verbose=0)\n",
    "print(\"Training Accuracy = %.2f %%     loss = %f\" % (accuracy * 100, loss))\n",
    "loss, accuracy = model1.evaluate(X_test, y_test, verbose=0)\n",
    "print(\"Testing Accuracy = %.2f %%    loss = %f\" % (accuracy * 100, loss))"
   ]
  },
  {
   "cell_type": "code",
   "execution_count": null,
   "metadata": {},
   "outputs": [],
   "source": []
  },
  {
   "cell_type": "code",
   "execution_count": null,
   "metadata": {},
   "outputs": [],
   "source": []
  },
  {
   "cell_type": "code",
   "execution_count": null,
   "metadata": {},
   "outputs": [],
   "source": []
  },
  {
   "cell_type": "code",
   "execution_count": null,
   "metadata": {},
   "outputs": [],
   "source": []
  },
  {
   "cell_type": "code",
   "execution_count": null,
   "metadata": {},
   "outputs": [],
   "source": []
  }
 ],
 "metadata": {
  "kernelspec": {
   "display_name": "Python 3",
   "language": "python",
   "name": "python3"
  },
  "language_info": {
   "codemirror_mode": {
    "name": "ipython",
    "version": 3
   },
   "file_extension": ".py",
   "mimetype": "text/x-python",
   "name": "python",
   "nbconvert_exporter": "python",
   "pygments_lexer": "ipython3",
   "version": "3.6.5"
  }
 },
 "nbformat": 4,
 "nbformat_minor": 2
}
